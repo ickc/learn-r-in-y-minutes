{
 "cells": [
  {
   "cell_type": "markdown",
   "id": "47c829a8",
   "metadata": {},
   "source": [
    "Comments start with number symbols."
   ]
  },
  {
   "cell_type": "markdown",
   "id": "09b35696",
   "metadata": {},
   "source": [
    "You can't make multi-line comments,\n",
    "but you can stack multiple comments like so."
   ]
  },
  {
   "cell_type": "markdown",
   "id": "69f946df",
   "metadata": {},
   "source": [
    "in Windows you can use CTRL-ENTER to execute a line.\n",
    "on Mac it is COMMAND-ENTER"
   ]
  },
  {
   "cell_type": "markdown",
   "id": "f75a6ead",
   "metadata": {},
   "source": [
    "# Stuff you can do without understanding anything about programming"
   ]
  },
  {
   "cell_type": "markdown",
   "id": "c0b1223b",
   "metadata": {},
   "source": [
    "In this section, we show off some of the cool stuff you can do in\n",
    "R without understanding anything about programming. Do not worry\n",
    "about understanding everything the code does. Just enjoy!"
   ]
  },
  {
   "cell_type": "code",
   "execution_count": 1,
   "id": "e8f9c503",
   "metadata": {},
   "outputs": [
    {
     "data": {
      "text/html": [
       "<h3>Data sets</h3>\n",
       "<table class=\"dataframe\">\n",
       "<caption>A data.frame: 104 × 3</caption>\n",
       "<thead>\n",
       "\t<tr><th scope=col>Package</th><th scope=col>Item</th><th scope=col>Title</th></tr>\n",
       "\t<tr><th scope=col>&lt;chr&gt;</th><th scope=col>&lt;chr&gt;</th><th scope=col>&lt;chr&gt;</th></tr>\n",
       "</thead>\n",
       "<tbody>\n",
       "\t<tr><td>datasets</td><td>AirPassengers         </td><td>Monthly Airline Passenger Numbers 1949-1960                    </td></tr>\n",
       "\t<tr><td>datasets</td><td>BJsales               </td><td>Sales Data with Leading Indicator                              </td></tr>\n",
       "\t<tr><td>datasets</td><td>BJsales.lead (BJsales)</td><td>Sales Data with Leading Indicator                              </td></tr>\n",
       "\t<tr><td>datasets</td><td>BOD                   </td><td>Biochemical Oxygen Demand                                      </td></tr>\n",
       "\t<tr><td>datasets</td><td>CO2                   </td><td>Carbon Dioxide Uptake in Grass Plants                          </td></tr>\n",
       "\t<tr><td>datasets</td><td>ChickWeight           </td><td>Weight versus age of chicks on different diets                 </td></tr>\n",
       "\t<tr><td>datasets</td><td>DNase                 </td><td>Elisa assay of DNase                                           </td></tr>\n",
       "\t<tr><td>datasets</td><td>EuStockMarkets        </td><td>Daily Closing Prices of Major European Stock Indices, 1991-1998</td></tr>\n",
       "\t<tr><td>datasets</td><td>Formaldehyde          </td><td>Determination of Formaldehyde                                  </td></tr>\n",
       "\t<tr><td>datasets</td><td>HairEyeColor          </td><td>Hair and Eye Color of Statistics Students                      </td></tr>\n",
       "\t<tr><td>datasets</td><td>Harman23.cor          </td><td>Harman Example 2.3                                             </td></tr>\n",
       "\t<tr><td>datasets</td><td>Harman74.cor          </td><td>Harman Example 7.4                                             </td></tr>\n",
       "\t<tr><td>datasets</td><td>Indometh              </td><td>Pharmacokinetics of Indomethacin                               </td></tr>\n",
       "\t<tr><td>datasets</td><td>InsectSprays          </td><td>Effectiveness of Insect Sprays                                 </td></tr>\n",
       "\t<tr><td>datasets</td><td><span style=white-space:pre-wrap>JohnsonJohnson        </span></td><td><span style=white-space:pre-wrap>Quarterly Earnings per Johnson &amp; Johnson Share                 </span></td></tr>\n",
       "\t<tr><td>datasets</td><td>LakeHuron             </td><td>Level of Lake Huron 1875-1972                                  </td></tr>\n",
       "\t<tr><td>datasets</td><td>LifeCycleSavings      </td><td>Intercountry Life-Cycle Savings Data                           </td></tr>\n",
       "\t<tr><td>datasets</td><td>Loblolly              </td><td>Growth of Loblolly pine trees                                  </td></tr>\n",
       "\t<tr><td>datasets</td><td>Nile                  </td><td>Flow of the River Nile                                         </td></tr>\n",
       "\t<tr><td>datasets</td><td>Orange                </td><td>Growth of Orange Trees                                         </td></tr>\n",
       "\t<tr><td>datasets</td><td>OrchardSprays         </td><td>Potency of Orchard Sprays                                      </td></tr>\n",
       "\t<tr><td>datasets</td><td>PlantGrowth           </td><td>Results from an Experiment on Plant Growth                     </td></tr>\n",
       "\t<tr><td>datasets</td><td>Puromycin             </td><td>Reaction Velocity of an Enzymatic Reaction                     </td></tr>\n",
       "\t<tr><td>datasets</td><td>Seatbelts             </td><td>Road Casualties in Great Britain 1969-84                       </td></tr>\n",
       "\t<tr><td>datasets</td><td>Theoph                </td><td>Pharmacokinetics of Theophylline                               </td></tr>\n",
       "\t<tr><td>datasets</td><td>Titanic               </td><td>Survival of passengers on the Titanic                          </td></tr>\n",
       "\t<tr><td>datasets</td><td>ToothGrowth           </td><td>The Effect of Vitamin C on Tooth Growth in Guinea Pigs         </td></tr>\n",
       "\t<tr><td>datasets</td><td>UCBAdmissions         </td><td>Student Admissions at UC Berkeley                              </td></tr>\n",
       "\t<tr><td>datasets</td><td>UKDriverDeaths        </td><td>Road Casualties in Great Britain 1969-84                       </td></tr>\n",
       "\t<tr><td>datasets</td><td>UKgas                 </td><td>UK Quarterly Gas Consumption                                   </td></tr>\n",
       "\t<tr><td>datasets</td><td>USAccDeaths           </td><td>Accidental Deaths in the US 1973-1978                          </td></tr>\n",
       "\t<tr><td>datasets</td><td>USArrests             </td><td>Violent Crime Rates by US State                                </td></tr>\n",
       "\t<tr><td>datasets</td><td>USJudgeRatings        </td><td>Lawyers' Ratings of State Judges in the US Superior Court      </td></tr>\n",
       "\t<tr><td>datasets</td><td>USPersonalExpenditure </td><td>Personal Expenditure Data                                      </td></tr>\n",
       "\t<tr><td>datasets</td><td>UScitiesD             </td><td>Distances Between European Cities and Between US Cities        </td></tr>\n",
       "\t<tr><td>datasets</td><td>VADeaths              </td><td>Death Rates in Virginia (1940)                                 </td></tr>\n",
       "\t<tr><td>datasets</td><td>WWWusage              </td><td>Internet Usage per Minute                                      </td></tr>\n",
       "\t<tr><td>datasets</td><td>WorldPhones           </td><td>The World's Telephones                                         </td></tr>\n",
       "\t<tr><td>datasets</td><td>ability.cov           </td><td>Ability and Intelligence Tests                                 </td></tr>\n",
       "\t<tr><td>datasets</td><td>airmiles              </td><td>Passenger Miles on Commercial US Airlines, 1937-1960           </td></tr>\n",
       "\t<tr><td>datasets</td><td>airquality            </td><td>New York Air Quality Measurements                              </td></tr>\n",
       "\t<tr><td>datasets</td><td>anscombe              </td><td>Anscombe's Quartet of 'Identical' Simple Linear Regressions    </td></tr>\n",
       "\t<tr><td>datasets</td><td>attenu                </td><td>The Joyner-Boore Attenuation Data                              </td></tr>\n",
       "\t<tr><td>datasets</td><td>attitude              </td><td>The Chatterjee-Price Attitude Data                             </td></tr>\n",
       "\t<tr><td>datasets</td><td>austres               </td><td>Quarterly Time Series of the Number of Australian Residents    </td></tr>\n",
       "\t<tr><td>datasets</td><td>beaver1 (beavers)     </td><td>Body Temperature Series of Two Beavers                         </td></tr>\n",
       "\t<tr><td>datasets</td><td>beaver2 (beavers)     </td><td>Body Temperature Series of Two Beavers                         </td></tr>\n",
       "\t<tr><td>datasets</td><td>cars                  </td><td>Speed and Stopping Distances of Cars                           </td></tr>\n",
       "\t<tr><td>datasets</td><td>chickwts              </td><td>Chicken Weights by Feed Type                                   </td></tr>\n",
       "\t<tr><td>datasets</td><td>co2                   </td><td>Mauna Loa Atmospheric CO2 Concentration                        </td></tr>\n",
       "\t<tr><td>datasets</td><td>crimtab               </td><td>Student's 3000 Criminals Data                                  </td></tr>\n",
       "\t<tr><td>datasets</td><td>discoveries           </td><td>Yearly Numbers of Important Discoveries                        </td></tr>\n",
       "\t<tr><td>datasets</td><td>esoph                 </td><td>Smoking, Alcohol and (O)esophageal Cancer                      </td></tr>\n",
       "\t<tr><td>datasets</td><td>euro                  </td><td>Conversion Rates of Euro Currencies                            </td></tr>\n",
       "\t<tr><td>datasets</td><td>euro.cross (euro)     </td><td>Conversion Rates of Euro Currencies                            </td></tr>\n",
       "\t<tr><td>datasets</td><td>eurodist              </td><td>Distances Between European Cities and Between US Cities        </td></tr>\n",
       "\t<tr><td>datasets</td><td>faithful              </td><td>Old Faithful Geyser Data                                       </td></tr>\n",
       "\t<tr><td>datasets</td><td>fdeaths (UKLungDeaths)</td><td>Monthly Deaths from Lung Diseases in the UK                    </td></tr>\n",
       "\t<tr><td>datasets</td><td>freeny                </td><td>Freeny's Revenue Data                                          </td></tr>\n",
       "\t<tr><td>datasets</td><td>freeny.x (freeny)     </td><td>Freeny's Revenue Data                                          </td></tr>\n",
       "\t<tr><td>datasets</td><td>freeny.y (freeny)     </td><td>Freeny's Revenue Data                                          </td></tr>\n",
       "\t<tr><td>datasets</td><td>infert                </td><td>Infertility after Spontaneous and Induced Abortion             </td></tr>\n",
       "\t<tr><td>datasets</td><td>iris                  </td><td>Edgar Anderson's Iris Data                                     </td></tr>\n",
       "\t<tr><td>datasets</td><td>iris3                 </td><td>Edgar Anderson's Iris Data                                     </td></tr>\n",
       "\t<tr><td>datasets</td><td>islands               </td><td>Areas of the World's Major Landmasses                          </td></tr>\n",
       "\t<tr><td>datasets</td><td>ldeaths (UKLungDeaths)</td><td>Monthly Deaths from Lung Diseases in the UK                    </td></tr>\n",
       "\t<tr><td>datasets</td><td>lh                    </td><td>Luteinizing Hormone in Blood Samples                           </td></tr>\n",
       "\t<tr><td>datasets</td><td>longley               </td><td>Longley's Economic Regression Data                             </td></tr>\n",
       "\t<tr><td>datasets</td><td>lynx                  </td><td>Annual Canadian Lynx trappings 1821-1934                       </td></tr>\n",
       "\t<tr><td>datasets</td><td>mdeaths (UKLungDeaths)</td><td>Monthly Deaths from Lung Diseases in the UK                    </td></tr>\n",
       "\t<tr><td>datasets</td><td>morley                </td><td>Michelson Speed of Light Data                                  </td></tr>\n",
       "\t<tr><td>datasets</td><td>mtcars                </td><td>Motor Trend Car Road Tests                                     </td></tr>\n",
       "\t<tr><td>datasets</td><td>nhtemp                </td><td>Average Yearly Temperatures in New Haven                       </td></tr>\n",
       "\t<tr><td>datasets</td><td>nottem                </td><td>Average Monthly Temperatures at Nottingham, 1920-1939          </td></tr>\n",
       "\t<tr><td>datasets</td><td>npk                   </td><td>Classical N, P, K Factorial Experiment                         </td></tr>\n",
       "\t<tr><td>datasets</td><td>occupationalStatus    </td><td>Occupational Status of Fathers and their Sons                  </td></tr>\n",
       "\t<tr><td>datasets</td><td>precip                </td><td>Annual Precipitation in US Cities                              </td></tr>\n",
       "\t<tr><td>datasets</td><td>presidents            </td><td>Quarterly Approval Ratings of US Presidents                    </td></tr>\n",
       "\t<tr><td>datasets</td><td>pressure              </td><td>Vapor Pressure of Mercury as a Function of Temperature         </td></tr>\n",
       "\t<tr><td>datasets</td><td>quakes                </td><td>Locations of Earthquakes off Fiji                              </td></tr>\n",
       "\t<tr><td>datasets</td><td>randu                 </td><td>Random Numbers from Congruential Generator RANDU               </td></tr>\n",
       "\t<tr><td>datasets</td><td>rivers                </td><td>Lengths of Major North American Rivers                         </td></tr>\n",
       "\t<tr><td>datasets</td><td>rock                  </td><td>Measurements on Petroleum Rock Samples                         </td></tr>\n",
       "\t<tr><td>datasets</td><td>sleep                 </td><td>Student's Sleep Data                                           </td></tr>\n",
       "\t<tr><td>datasets</td><td>stack.loss (stackloss)</td><td>Brownlee's Stack Loss Plant Data                               </td></tr>\n",
       "\t<tr><td>datasets</td><td>stack.x (stackloss)   </td><td>Brownlee's Stack Loss Plant Data                               </td></tr>\n",
       "\t<tr><td>datasets</td><td>stackloss             </td><td>Brownlee's Stack Loss Plant Data                               </td></tr>\n",
       "\t<tr><td>datasets</td><td>state.abb (state)     </td><td>US State Facts and Figures                                     </td></tr>\n",
       "\t<tr><td>datasets</td><td>state.area (state)    </td><td>US State Facts and Figures                                     </td></tr>\n",
       "\t<tr><td>datasets</td><td>state.center (state)  </td><td>US State Facts and Figures                                     </td></tr>\n",
       "\t<tr><td>datasets</td><td>state.division (state)</td><td>US State Facts and Figures                                     </td></tr>\n",
       "\t<tr><td>datasets</td><td>state.name (state)    </td><td>US State Facts and Figures                                     </td></tr>\n",
       "\t<tr><td>datasets</td><td>state.region (state)  </td><td>US State Facts and Figures                                     </td></tr>\n",
       "\t<tr><td>datasets</td><td>state.x77 (state)     </td><td>US State Facts and Figures                                     </td></tr>\n",
       "\t<tr><td>datasets</td><td>sunspot.month         </td><td>Monthly Sunspot Data, from 1749 to \"Present\"                   </td></tr>\n",
       "\t<tr><td>datasets</td><td>sunspot.year          </td><td>Yearly Sunspot Data, 1700-1988                                 </td></tr>\n",
       "\t<tr><td>datasets</td><td>sunspots              </td><td>Monthly Sunspot Numbers, 1749-1983                             </td></tr>\n",
       "\t<tr><td>datasets</td><td>swiss                 </td><td>Swiss Fertility and Socioeconomic Indicators (1888) Data       </td></tr>\n",
       "\t<tr><td>datasets</td><td>treering              </td><td>Yearly Treering Data, -6000-1979                               </td></tr>\n",
       "\t<tr><td>datasets</td><td>trees                 </td><td>Diameter, Height and Volume for Black Cherry Trees             </td></tr>\n",
       "\t<tr><td>datasets</td><td>uspop                 </td><td>Populations Recorded by the US Census                          </td></tr>\n",
       "\t<tr><td>datasets</td><td>volcano               </td><td>Topographic Information on Auckland's Maunga Whau Volcano      </td></tr>\n",
       "\t<tr><td>datasets</td><td>warpbreaks            </td><td>The Number of Breaks in Yarn during Weaving                    </td></tr>\n",
       "\t<tr><td>datasets</td><td>women                 </td><td>Average Heights and Weights for American Women                 </td></tr>\n",
       "</tbody>\n",
       "</table>\n",
       "\n",
       "<p>Use ‘data(package = .packages(all.available = TRUE))’\n",
       "to list the data sets in all *available* packages.</p>"
      ],
      "text/plain": [
       "Data sets in package ‘datasets’:\n",
       "\n",
       "AirPassengers           Monthly Airline Passenger Numbers 1949-1960\n",
       "BJsales                 Sales Data with Leading Indicator\n",
       "BJsales.lead (BJsales)\n",
       "                        Sales Data with Leading Indicator\n",
       "BOD                     Biochemical Oxygen Demand\n",
       "CO2                     Carbon Dioxide Uptake in Grass Plants\n",
       "ChickWeight             Weight versus age of chicks on different diets\n",
       "DNase                   Elisa assay of DNase\n",
       "EuStockMarkets          Daily Closing Prices of Major European Stock\n",
       "                        Indices, 1991-1998\n",
       "Formaldehyde            Determination of Formaldehyde\n",
       "HairEyeColor            Hair and Eye Color of Statistics Students\n",
       "Harman23.cor            Harman Example 2.3\n",
       "Harman74.cor            Harman Example 7.4\n",
       "Indometh                Pharmacokinetics of Indomethacin\n",
       "InsectSprays            Effectiveness of Insect Sprays\n",
       "JohnsonJohnson          Quarterly Earnings per Johnson & Johnson Share\n",
       "LakeHuron               Level of Lake Huron 1875-1972\n",
       "LifeCycleSavings        Intercountry Life-Cycle Savings Data\n",
       "Loblolly                Growth of Loblolly pine trees\n",
       "Nile                    Flow of the River Nile\n",
       "Orange                  Growth of Orange Trees\n",
       "OrchardSprays           Potency of Orchard Sprays\n",
       "PlantGrowth             Results from an Experiment on Plant Growth\n",
       "Puromycin               Reaction Velocity of an Enzymatic Reaction\n",
       "Seatbelts               Road Casualties in Great Britain 1969-84\n",
       "Theoph                  Pharmacokinetics of Theophylline\n",
       "Titanic                 Survival of passengers on the Titanic\n",
       "ToothGrowth             The Effect of Vitamin C on Tooth Growth in\n",
       "                        Guinea Pigs\n",
       "UCBAdmissions           Student Admissions at UC Berkeley\n",
       "UKDriverDeaths          Road Casualties in Great Britain 1969-84\n",
       "UKgas                   UK Quarterly Gas Consumption\n",
       "USAccDeaths             Accidental Deaths in the US 1973-1978\n",
       "USArrests               Violent Crime Rates by US State\n",
       "USJudgeRatings          Lawyers' Ratings of State Judges in the US\n",
       "                        Superior Court\n",
       "USPersonalExpenditure   Personal Expenditure Data\n",
       "UScitiesD               Distances Between European Cities and Between\n",
       "                        US Cities\n",
       "VADeaths                Death Rates in Virginia (1940)\n",
       "WWWusage                Internet Usage per Minute\n",
       "WorldPhones             The World's Telephones\n",
       "ability.cov             Ability and Intelligence Tests\n",
       "airmiles                Passenger Miles on Commercial US Airlines,\n",
       "                        1937-1960\n",
       "airquality              New York Air Quality Measurements\n",
       "anscombe                Anscombe's Quartet of 'Identical' Simple Linear\n",
       "                        Regressions\n",
       "attenu                  The Joyner-Boore Attenuation Data\n",
       "attitude                The Chatterjee-Price Attitude Data\n",
       "austres                 Quarterly Time Series of the Number of\n",
       "                        Australian Residents\n",
       "beaver1 (beavers)       Body Temperature Series of Two Beavers\n",
       "beaver2 (beavers)       Body Temperature Series of Two Beavers\n",
       "cars                    Speed and Stopping Distances of Cars\n",
       "chickwts                Chicken Weights by Feed Type\n",
       "co2                     Mauna Loa Atmospheric CO2 Concentration\n",
       "crimtab                 Student's 3000 Criminals Data\n",
       "discoveries             Yearly Numbers of Important Discoveries\n",
       "esoph                   Smoking, Alcohol and (O)esophageal Cancer\n",
       "euro                    Conversion Rates of Euro Currencies\n",
       "euro.cross (euro)       Conversion Rates of Euro Currencies\n",
       "eurodist                Distances Between European Cities and Between\n",
       "                        US Cities\n",
       "faithful                Old Faithful Geyser Data\n",
       "fdeaths (UKLungDeaths)\n",
       "                        Monthly Deaths from Lung Diseases in the UK\n",
       "freeny                  Freeny's Revenue Data\n",
       "freeny.x (freeny)       Freeny's Revenue Data\n",
       "freeny.y (freeny)       Freeny's Revenue Data\n",
       "infert                  Infertility after Spontaneous and Induced\n",
       "                        Abortion\n",
       "iris                    Edgar Anderson's Iris Data\n",
       "iris3                   Edgar Anderson's Iris Data\n",
       "islands                 Areas of the World's Major Landmasses\n",
       "ldeaths (UKLungDeaths)\n",
       "                        Monthly Deaths from Lung Diseases in the UK\n",
       "lh                      Luteinizing Hormone in Blood Samples\n",
       "longley                 Longley's Economic Regression Data\n",
       "lynx                    Annual Canadian Lynx trappings 1821-1934\n",
       "mdeaths (UKLungDeaths)\n",
       "                        Monthly Deaths from Lung Diseases in the UK\n",
       "morley                  Michelson Speed of Light Data\n",
       "mtcars                  Motor Trend Car Road Tests\n",
       "nhtemp                  Average Yearly Temperatures in New Haven\n",
       "nottem                  Average Monthly Temperatures at Nottingham,\n",
       "                        1920-1939\n",
       "npk                     Classical N, P, K Factorial Experiment\n",
       "occupationalStatus      Occupational Status of Fathers and their Sons\n",
       "precip                  Annual Precipitation in US Cities\n",
       "presidents              Quarterly Approval Ratings of US Presidents\n",
       "pressure                Vapor Pressure of Mercury as a Function of\n",
       "                        Temperature\n",
       "quakes                  Locations of Earthquakes off Fiji\n",
       "randu                   Random Numbers from Congruential Generator\n",
       "                        RANDU\n",
       "rivers                  Lengths of Major North American Rivers\n",
       "rock                    Measurements on Petroleum Rock Samples\n",
       "sleep                   Student's Sleep Data\n",
       "stack.loss (stackloss)\n",
       "                        Brownlee's Stack Loss Plant Data\n",
       "stack.x (stackloss)     Brownlee's Stack Loss Plant Data\n",
       "stackloss               Brownlee's Stack Loss Plant Data\n",
       "state.abb (state)       US State Facts and Figures\n",
       "state.area (state)      US State Facts and Figures\n",
       "state.center (state)    US State Facts and Figures\n",
       "state.division (state)\n",
       "                        US State Facts and Figures\n",
       "state.name (state)      US State Facts and Figures\n",
       "state.region (state)    US State Facts and Figures\n",
       "state.x77 (state)       US State Facts and Figures\n",
       "sunspot.month           Monthly Sunspot Data, from 1749 to \"Present\"\n",
       "sunspot.year            Yearly Sunspot Data, 1700-1988\n",
       "sunspots                Monthly Sunspot Numbers, 1749-1983\n",
       "swiss                   Swiss Fertility and Socioeconomic Indicators\n",
       "                        (1888) Data\n",
       "treering                Yearly Treering Data, -6000-1979\n",
       "trees                   Diameter, Height and Volume for Black Cherry\n",
       "                        Trees\n",
       "uspop                   Populations Recorded by the US Census\n",
       "volcano                 Topographic Information on Auckland's Maunga\n",
       "                        Whau Volcano\n",
       "warpbreaks              The Number of Breaks in Yarn during Weaving\n",
       "women                   Average Heights and Weights for American Women\n",
       "\n",
       "Use ‘data(package = .packages(all.available = TRUE))’\n",
       "to list the data sets in all *available* packages."
      ]
     },
     "metadata": {},
     "output_type": "display_data"
    }
   ],
   "source": [
    "data() # browse pre-loaded data sets"
   ]
  },
  {
   "cell_type": "code",
   "execution_count": 2,
   "id": "57b9a11a",
   "metadata": {},
   "outputs": [
    {
     "data": {
      "text/html": [
       "'rivers'"
      ],
      "text/latex": [
       "'rivers'"
      ],
      "text/markdown": [
       "'rivers'"
      ],
      "text/plain": [
       "[1] \"rivers\""
      ]
     },
     "metadata": {},
     "output_type": "display_data"
    }
   ],
   "source": [
    "data(rivers) # get this one: \"Lengths of Major North American Rivers\"\n",
    "ls() # notice that \"rivers\" now appears in the workspace"
   ]
  },
  {
   "cell_type": "code",
   "execution_count": 3,
   "id": "3b2f0118",
   "metadata": {},
   "outputs": [
    {
     "data": {
      "text/html": [
       "<style>\n",
       ".list-inline {list-style: none; margin:0; padding: 0}\n",
       ".list-inline>li {display: inline-block}\n",
       ".list-inline>li:not(:last-child)::after {content: \"\\00b7\"; padding: 0 .5ex}\n",
       "</style>\n",
       "<ol class=list-inline><li>735</li><li>320</li><li>325</li><li>392</li><li>524</li><li>450</li></ol>\n"
      ],
      "text/latex": [
       "\\begin{enumerate*}\n",
       "\\item 735\n",
       "\\item 320\n",
       "\\item 325\n",
       "\\item 392\n",
       "\\item 524\n",
       "\\item 450\n",
       "\\end{enumerate*}\n"
      ],
      "text/markdown": [
       "1. 735\n",
       "2. 320\n",
       "3. 325\n",
       "4. 392\n",
       "5. 524\n",
       "6. 450\n",
       "\n",
       "\n"
      ],
      "text/plain": [
       "[1] 735 320 325 392 524 450"
      ]
     },
     "metadata": {},
     "output_type": "display_data"
    }
   ],
   "source": [
    "head(rivers) # peek at the data set"
   ]
  },
  {
   "cell_type": "code",
   "execution_count": 4,
   "id": "53c14638",
   "metadata": {},
   "outputs": [
    {
     "data": {
      "text/html": [
       "141"
      ],
      "text/latex": [
       "141"
      ],
      "text/markdown": [
       "141"
      ],
      "text/plain": [
       "[1] 141"
      ]
     },
     "metadata": {},
     "output_type": "display_data"
    }
   ],
   "source": [
    "length(rivers) # how many rivers were measured?"
   ]
  },
  {
   "cell_type": "code",
   "execution_count": 5,
   "id": "0b18a75b",
   "metadata": {},
   "outputs": [
    {
     "data": {
      "text/plain": [
       "   Min. 1st Qu.  Median    Mean 3rd Qu.    Max. \n",
       "  135.0   310.0   425.0   591.2   680.0  3710.0 "
      ]
     },
     "metadata": {},
     "output_type": "display_data"
    }
   ],
   "source": [
    "summary(rivers) # what are some summary statistics?"
   ]
  },
  {
   "cell_type": "code",
   "execution_count": 6,
   "id": "f2675707",
   "metadata": {},
   "outputs": [
    {
     "name": "stdout",
     "output_type": "stream",
     "text": [
      "\n",
      "  The decimal point is 2 digit(s) to the right of the |\n",
      "\n",
      "   0 | 4\n",
      "   2 | 011223334555566667778888899900001111223333344455555666688888999\n",
      "   4 | 111222333445566779001233344567\n",
      "   6 | 000112233578012234468\n",
      "   8 | 045790018\n",
      "  10 | 04507\n",
      "  12 | 1471\n",
      "  14 | 56\n",
      "  16 | 7\n",
      "  18 | 9\n",
      "  20 | \n",
      "  22 | 25\n",
      "  24 | 3\n",
      "  26 | \n",
      "  28 | \n",
      "  30 | \n",
      "  32 | \n",
      "  34 | \n",
      "  36 | 1\n",
      "\n"
     ]
    }
   ],
   "source": [
    "# make a stem-and-leaf plot (a histogram-like data visualization)\n",
    "stem(rivers)"
   ]
  },
  {
   "cell_type": "code",
   "execution_count": 7,
   "id": "b6412fbb",
   "metadata": {},
   "outputs": [
    {
     "name": "stdout",
     "output_type": "stream",
     "text": [
      "\n",
      "  The decimal point is 1 digit(s) to the left of the |\n",
      "\n",
      "  48 | 1\n",
      "  50 | \n",
      "  52 | 15578\n",
      "  54 | 44571222466689\n",
      "  56 | 023334677000124455789\n",
      "  58 | 00122366666999933445777\n",
      "  60 | 122445567800133459\n",
      "  62 | 112666799035\n",
      "  64 | 00011334581257889\n",
      "  66 | 003683579\n",
      "  68 | 0019156\n",
      "  70 | 079357\n",
      "  72 | 89\n",
      "  74 | 84\n",
      "  76 | 56\n",
      "  78 | 4\n",
      "  80 | \n",
      "  82 | 2\n",
      "\n"
     ]
    }
   ],
   "source": [
    "stem(log(rivers)) # Notice that the data are neither normal nor log-normal!\n",
    "# Take that, Bell curve fundamentalists."
   ]
  },
  {
   "cell_type": "code",
   "execution_count": 8,
   "id": "7307059d",
   "metadata": {},
   "outputs": [
    {
     "data": {
      "image/png": "[encoded data removed]",
      "text/plain": [
       "Plot with title “Histogram of rivers”"
      ]
     },
     "metadata": {
      "image/png": {
       "height": 420,
       "width": 420
      }
     },
     "output_type": "display_data"
    }
   ],
   "source": [
    "# make a histogram:\n",
    "hist(rivers, col = \"#333333\", border = \"white\", breaks = 25) # play around with these parameters"
   ]
  },
  {
   "cell_type": "code",
   "execution_count": 9,
   "id": "6cbba329",
   "metadata": {},
   "outputs": [
    {
     "data": {
      "image/png": "[encoded data removed]",
      "text/plain": [
       "Plot with title “Histogram of log(rivers)”"
      ]
     },
     "metadata": {
      "image/png": {
       "height": 420,
       "width": 420
      }
     },
     "output_type": "display_data"
    }
   ],
   "source": [
    "hist(log(rivers), col = \"#333333\", border = \"white\", breaks = 25) # you'll do more plotting later"
   ]
  },
  {
   "cell_type": "code",
   "execution_count": 10,
   "id": "fc7de722",
   "metadata": {},
   "outputs": [
    {
     "data": {
      "image/png": "[encoded data removed]",
      "text/plain": [
       "Plot with title “Number of important discoveries per year”"
      ]
     },
     "metadata": {
      "image/png": {
       "height": 420,
       "width": 420
      }
     },
     "output_type": "display_data"
    }
   ],
   "source": [
    "# Here's another neat data set that comes pre-loaded. R has tons of these.\n",
    "data(discoveries)\n",
    "plot(discoveries,\n",
    "  col = \"#333333\", lwd = 3, xlab = \"Year\",\n",
    "  main = \"Number of important discoveries per year\"\n",
    ")"
   ]
  },
  {
   "cell_type": "code",
   "execution_count": 11,
   "id": "bb63b07d",
   "metadata": {},
   "outputs": [
    {
     "data": {
      "image/png": "[encoded data removed]",
      "text/plain": [
       "Plot with title “Number of important discoveries per year”"
      ]
     },
     "metadata": {
      "image/png": {
       "height": 420,
       "width": 420
      }
     },
     "output_type": "display_data"
    }
   ],
   "source": [
    "plot(discoveries,\n",
    "  col = \"#333333\", lwd = 3, type = \"h\", xlab = \"Year\",\n",
    "  main = \"Number of important discoveries per year\"\n",
    ")"
   ]
  },
  {
   "cell_type": "code",
   "execution_count": 12,
   "id": "0dc894f9",
   "metadata": {},
   "outputs": [
    {
     "data": {
      "text/html": [
       "<style>\n",
       ".list-inline {list-style: none; margin:0; padding: 0}\n",
       ".list-inline>li {display: inline-block}\n",
       ".list-inline>li:not(:last-child)::after {content: \"\\00b7\"; padding: 0 .5ex}\n",
       "</style>\n",
       "<ol class=list-inline><li>0</li><li>0</li><li>0</li><li>0</li><li>0</li><li>0</li><li>0</li><li>0</li><li>0</li><li>1</li><li>1</li><li>1</li><li>1</li><li>1</li><li>1</li><li>1</li><li>1</li><li>1</li><li>1</li><li>1</li><li>1</li><li>2</li><li>2</li><li>2</li><li>2</li><li>2</li><li>2</li><li>2</li><li>2</li><li>2</li><li>2</li><li>2</li><li>2</li><li>2</li><li>2</li><li>2</li><li>2</li><li>2</li><li>2</li><li>2</li><li>2</li><li>2</li><li>2</li><li>2</li><li>2</li><li>2</li><li>2</li><li>3</li><li>3</li><li>3</li><li>3</li><li>3</li><li>3</li><li>3</li><li>3</li><li>3</li><li>3</li><li>3</li><li>3</li><li>3</li><li>3</li><li>3</li><li>3</li><li>3</li><li>3</li><li>3</li><li>3</li><li>4</li><li>4</li><li>4</li><li>4</li><li>4</li><li>4</li><li>4</li><li>4</li><li>4</li><li>4</li><li>4</li><li>4</li><li>5</li><li>5</li><li>5</li><li>5</li><li>5</li><li>5</li><li>5</li><li>6</li><li>6</li><li>6</li><li>6</li><li>6</li><li>6</li><li>7</li><li>7</li><li>7</li><li>7</li><li>8</li><li>9</li><li>10</li><li>12</li></ol>\n"
      ],
      "text/latex": [
       "\\begin{enumerate*}\n",
       "\\item 0\n",
       "\\item 0\n",
       "\\item 0\n",
       "\\item 0\n",
       "\\item 0\n",
       "\\item 0\n",
       "\\item 0\n",
       "\\item 0\n",
       "\\item 0\n",
       "\\item 1\n",
       "\\item 1\n",
       "\\item 1\n",
       "\\item 1\n",
       "\\item 1\n",
       "\\item 1\n",
       "\\item 1\n",
       "\\item 1\n",
       "\\item 1\n",
       "\\item 1\n",
       "\\item 1\n",
       "\\item 1\n",
       "\\item 2\n",
       "\\item 2\n",
       "\\item 2\n",
       "\\item 2\n",
       "\\item 2\n",
       "\\item 2\n",
       "\\item 2\n",
       "\\item 2\n",
       "\\item 2\n",
       "\\item 2\n",
       "\\item 2\n",
       "\\item 2\n",
       "\\item 2\n",
       "\\item 2\n",
       "\\item 2\n",
       "\\item 2\n",
       "\\item 2\n",
       "\\item 2\n",
       "\\item 2\n",
       "\\item 2\n",
       "\\item 2\n",
       "\\item 2\n",
       "\\item 2\n",
       "\\item 2\n",
       "\\item 2\n",
       "\\item 2\n",
       "\\item 3\n",
       "\\item 3\n",
       "\\item 3\n",
       "\\item 3\n",
       "\\item 3\n",
       "\\item 3\n",
       "\\item 3\n",
       "\\item 3\n",
       "\\item 3\n",
       "\\item 3\n",
       "\\item 3\n",
       "\\item 3\n",
       "\\item 3\n",
       "\\item 3\n",
       "\\item 3\n",
       "\\item 3\n",
       "\\item 3\n",
       "\\item 3\n",
       "\\item 3\n",
       "\\item 3\n",
       "\\item 4\n",
       "\\item 4\n",
       "\\item 4\n",
       "\\item 4\n",
       "\\item 4\n",
       "\\item 4\n",
       "\\item 4\n",
       "\\item 4\n",
       "\\item 4\n",
       "\\item 4\n",
       "\\item 4\n",
       "\\item 4\n",
       "\\item 5\n",
       "\\item 5\n",
       "\\item 5\n",
       "\\item 5\n",
       "\\item 5\n",
       "\\item 5\n",
       "\\item 5\n",
       "\\item 6\n",
       "\\item 6\n",
       "\\item 6\n",
       "\\item 6\n",
       "\\item 6\n",
       "\\item 6\n",
       "\\item 7\n",
       "\\item 7\n",
       "\\item 7\n",
       "\\item 7\n",
       "\\item 8\n",
       "\\item 9\n",
       "\\item 10\n",
       "\\item 12\n",
       "\\end{enumerate*}\n"
      ],
      "text/markdown": [
       "1. 0\n",
       "2. 0\n",
       "3. 0\n",
       "4. 0\n",
       "5. 0\n",
       "6. 0\n",
       "7. 0\n",
       "8. 0\n",
       "9. 0\n",
       "10. 1\n",
       "11. 1\n",
       "12. 1\n",
       "13. 1\n",
       "14. 1\n",
       "15. 1\n",
       "16. 1\n",
       "17. 1\n",
       "18. 1\n",
       "19. 1\n",
       "20. 1\n",
       "21. 1\n",
       "22. 2\n",
       "23. 2\n",
       "24. 2\n",
       "25. 2\n",
       "26. 2\n",
       "27. 2\n",
       "28. 2\n",
       "29. 2\n",
       "30. 2\n",
       "31. 2\n",
       "32. 2\n",
       "33. 2\n",
       "34. 2\n",
       "35. 2\n",
       "36. 2\n",
       "37. 2\n",
       "38. 2\n",
       "39. 2\n",
       "40. 2\n",
       "41. 2\n",
       "42. 2\n",
       "43. 2\n",
       "44. 2\n",
       "45. 2\n",
       "46. 2\n",
       "47. 2\n",
       "48. 3\n",
       "49. 3\n",
       "50. 3\n",
       "51. 3\n",
       "52. 3\n",
       "53. 3\n",
       "54. 3\n",
       "55. 3\n",
       "56. 3\n",
       "57. 3\n",
       "58. 3\n",
       "59. 3\n",
       "60. 3\n",
       "61. 3\n",
       "62. 3\n",
       "63. 3\n",
       "64. 3\n",
       "65. 3\n",
       "66. 3\n",
       "67. 3\n",
       "68. 4\n",
       "69. 4\n",
       "70. 4\n",
       "71. 4\n",
       "72. 4\n",
       "73. 4\n",
       "74. 4\n",
       "75. 4\n",
       "76. 4\n",
       "77. 4\n",
       "78. 4\n",
       "79. 4\n",
       "80. 5\n",
       "81. 5\n",
       "82. 5\n",
       "83. 5\n",
       "84. 5\n",
       "85. 5\n",
       "86. 5\n",
       "87. 6\n",
       "88. 6\n",
       "89. 6\n",
       "90. 6\n",
       "91. 6\n",
       "92. 6\n",
       "93. 7\n",
       "94. 7\n",
       "95. 7\n",
       "96. 7\n",
       "97. 8\n",
       "98. 9\n",
       "99. 10\n",
       "100. 12\n",
       "\n",
       "\n"
      ],
      "text/plain": [
       "  [1]  0  0  0  0  0  0  0  0  0  1  1  1  1  1  1  1  1  1  1  1  1  2  2  2  2\n",
       " [26]  2  2  2  2  2  2  2  2  2  2  2  2  2  2  2  2  2  2  2  2  2  2  3  3  3\n",
       " [51]  3  3  3  3  3  3  3  3  3  3  3  3  3  3  3  3  3  4  4  4  4  4  4  4  4\n",
       " [76]  4  4  4  4  5  5  5  5  5  5  5  6  6  6  6  6  6  7  7  7  7  8  9 10 12"
      ]
     },
     "metadata": {},
     "output_type": "display_data"
    }
   ],
   "source": [
    "# Rather than leaving the default ordering (by year),\n",
    "# we could also sort to see what's typical:\n",
    "sort(discoveries)"
   ]
  },
  {
   "cell_type": "code",
   "execution_count": 13,
   "id": "5ce444c7",
   "metadata": {},
   "outputs": [
    {
     "name": "stdout",
     "output_type": "stream",
     "text": [
      "\n",
      "  The decimal point is at the |\n",
      "\n",
      "   0 | 000000000\n",
      "   1 | 000000000000\n",
      "   2 | 00000000000000000000000000\n",
      "   3 | 00000000000000000000\n",
      "   4 | 000000000000\n",
      "   5 | 0000000\n",
      "   6 | 000000\n",
      "   7 | 0000\n",
      "   8 | 0\n",
      "   9 | 0\n",
      "  10 | 0\n",
      "  11 | \n",
      "  12 | 0\n",
      "\n"
     ]
    }
   ],
   "source": [
    "stem(discoveries, scale = 2)"
   ]
  },
  {
   "cell_type": "code",
   "execution_count": 14,
   "id": "5742f989",
   "metadata": {},
   "outputs": [
    {
     "data": {
      "text/html": [
       "12"
      ],
      "text/latex": [
       "12"
      ],
      "text/markdown": [
       "12"
      ],
      "text/plain": [
       "[1] 12"
      ]
     },
     "metadata": {},
     "output_type": "display_data"
    }
   ],
   "source": [
    "max(discoveries)"
   ]
  },
  {
   "cell_type": "code",
   "execution_count": 15,
   "id": "2ef2a2f0",
   "metadata": {},
   "outputs": [
    {
     "data": {
      "text/plain": [
       "   Min. 1st Qu.  Median    Mean 3rd Qu.    Max. \n",
       "    0.0     2.0     3.0     3.1     4.0    12.0 "
      ]
     },
     "metadata": {},
     "output_type": "display_data"
    }
   ],
   "source": [
    "summary(discoveries)"
   ]
  },
  {
   "cell_type": "code",
   "execution_count": 16,
   "id": "3c246329",
   "metadata": {},
   "outputs": [
    {
     "data": {
      "text/html": [
       "<style>\n",
       ".list-inline {list-style: none; margin:0; padding: 0}\n",
       ".list-inline>li {display: inline-block}\n",
       ".list-inline>li:not(:last-child)::after {content: \"\\00b7\"; padding: 0 .5ex}\n",
       "</style>\n",
       "<ol class=list-inline><li>6</li><li>5</li><li>4</li><li>3</li><li>2</li><li>3</li><li>3</li></ol>\n"
      ],
      "text/latex": [
       "\\begin{enumerate*}\n",
       "\\item 6\n",
       "\\item 5\n",
       "\\item 4\n",
       "\\item 3\n",
       "\\item 2\n",
       "\\item 3\n",
       "\\item 3\n",
       "\\end{enumerate*}\n"
      ],
      "text/markdown": [
       "1. 6\n",
       "2. 5\n",
       "3. 4\n",
       "4. 3\n",
       "5. 2\n",
       "6. 3\n",
       "7. 3\n",
       "\n",
       "\n"
      ],
      "text/plain": [
       "[1] 6 5 4 3 2 3 3"
      ]
     },
     "metadata": {},
     "output_type": "display_data"
    }
   ],
   "source": [
    "# Roll a die a few times\n",
    "round(runif(7, min = .5, max = 6.5))"
   ]
  },
  {
   "cell_type": "code",
   "execution_count": 17,
   "id": "0b818049",
   "metadata": {},
   "outputs": [
    {
     "data": {
      "text/html": [
       "<style>\n",
       ".list-inline {list-style: none; margin:0; padding: 0}\n",
       ".list-inline>li {display: inline-block}\n",
       ".list-inline>li:not(:last-child)::after {content: \"\\00b7\"; padding: 0 .5ex}\n",
       "</style>\n",
       "<ol class=list-inline><li>1.31651543452155</li><li>-1.01784388862203</li><li>0.105525634024862</li><li>-0.646782080100683</li><li>-1.10120648427042</li><li>-1.95675394245015</li><li>-0.41066849363933</li><li>-0.683747970894449</li><li>0.173399217313049</li></ol>\n"
      ],
      "text/latex": [
       "\\begin{enumerate*}\n",
       "\\item 1.31651543452155\n",
       "\\item -1.01784388862203\n",
       "\\item 0.105525634024862\n",
       "\\item -0.646782080100683\n",
       "\\item -1.10120648427042\n",
       "\\item -1.95675394245015\n",
       "\\item -0.41066849363933\n",
       "\\item -0.683747970894449\n",
       "\\item 0.173399217313049\n",
       "\\end{enumerate*}\n"
      ],
      "text/markdown": [
       "1. 1.31651543452155\n",
       "2. -1.01784388862203\n",
       "3. 0.105525634024862\n",
       "4. -0.646782080100683\n",
       "5. -1.10120648427042\n",
       "6. -1.95675394245015\n",
       "7. -0.41066849363933\n",
       "8. -0.683747970894449\n",
       "9. 0.173399217313049\n",
       "\n",
       "\n"
      ],
      "text/plain": [
       "[1]  1.3165154 -1.0178439  0.1055256 -0.6467821 -1.1012065 -1.9567539 -0.4106685\n",
       "[8] -0.6837480  0.1733992"
      ]
     },
     "metadata": {},
     "output_type": "display_data"
    }
   ],
   "source": [
    "# Draw from a standard Gaussian 9 times\n",
    "rnorm(9)"
   ]
  },
  {
   "cell_type": "markdown",
   "id": "1e721d4c",
   "metadata": {},
   "source": [
    "# Data types and basic arithmetic"
   ]
  },
  {
   "cell_type": "markdown",
   "id": "da28e9c9",
   "metadata": {},
   "source": [
    "Now for the programming-oriented part of the tutorial.\n",
    "In this section you will meet the important data types of R:\n",
    "integers, numerics, characters, logicals, and factors.\n",
    "There are others, but these are the bare minimum you need to\n",
    "get started."
   ]
  },
  {
   "cell_type": "markdown",
   "id": "8c370f30",
   "metadata": {},
   "source": [
    "## INTEGERS"
   ]
  },
  {
   "cell_type": "code",
   "execution_count": 18,
   "id": "1636177a",
   "metadata": {},
   "outputs": [
    {
     "data": {
      "text/html": [
       "5"
      ],
      "text/latex": [
       "5"
      ],
      "text/markdown": [
       "5"
      ],
      "text/plain": [
       "[1] 5"
      ]
     },
     "metadata": {},
     "output_type": "display_data"
    },
    {
     "data": {
      "text/html": [
       "'integer'"
      ],
      "text/latex": [
       "'integer'"
      ],
      "text/markdown": [
       "'integer'"
      ],
      "text/plain": [
       "[1] \"integer\""
      ]
     },
     "metadata": {},
     "output_type": "display_data"
    },
    {
     "data": {
      "text/html": [
       "1"
      ],
      "text/latex": [
       "1"
      ],
      "text/markdown": [
       "1"
      ],
      "text/plain": [
       "[1] 1"
      ]
     },
     "metadata": {},
     "output_type": "display_data"
    },
    {
     "data": {
      "text/html": [
       "<style>\n",
       ".list-inline {list-style: none; margin:0; padding: 0}\n",
       ".list-inline>li {display: inline-block}\n",
       ".list-inline>li:not(:last-child)::after {content: \"\\00b7\"; padding: 0 .5ex}\n",
       "</style>\n",
       "<ol class=list-inline><li>4</li><li>5</li><li>8</li><li>3</li></ol>\n"
      ],
      "text/latex": [
       "\\begin{enumerate*}\n",
       "\\item 4\n",
       "\\item 5\n",
       "\\item 8\n",
       "\\item 3\n",
       "\\end{enumerate*}\n"
      ],
      "text/markdown": [
       "1. 4\n",
       "2. 5\n",
       "3. 8\n",
       "4. 3\n",
       "\n",
       "\n"
      ],
      "text/plain": [
       "[1] 4 5 8 3"
      ]
     },
     "metadata": {},
     "output_type": "display_data"
    },
    {
     "data": {
      "text/html": [
       "4"
      ],
      "text/latex": [
       "4"
      ],
      "text/markdown": [
       "4"
      ],
      "text/plain": [
       "[1] 4"
      ]
     },
     "metadata": {},
     "output_type": "display_data"
    },
    {
     "data": {
      "text/html": [
       "'integer'"
      ],
      "text/latex": [
       "'integer'"
      ],
      "text/markdown": [
       "'integer'"
      ],
      "text/plain": [
       "[1] \"integer\""
      ]
     },
     "metadata": {},
     "output_type": "display_data"
    }
   ],
   "source": [
    "# Long-storage integers are written with L\n",
    "5L\n",
    "class(5L)\n",
    "# (Try ?class for more information on the class() function.)\n",
    "# In R, every single value, like 5L, is considered a vector of length 1\n",
    "length(5L)\n",
    "# You can have an integer vector with length > 1 too:\n",
    "c(4L, 5L, 8L, 3L)\n",
    "length(c(4L, 5L, 8L, 3L))\n",
    "class(c(4L, 5L, 8L, 3L))"
   ]
  },
  {
   "cell_type": "markdown",
   "id": "7fef23cc",
   "metadata": {},
   "source": [
    "## NUMERICS"
   ]
  },
  {
   "cell_type": "code",
   "execution_count": 19,
   "id": "83011745",
   "metadata": {},
   "outputs": [
    {
     "data": {
      "text/html": [
       "5"
      ],
      "text/latex": [
       "5"
      ],
      "text/markdown": [
       "5"
      ],
      "text/plain": [
       "[1] 5"
      ]
     },
     "metadata": {},
     "output_type": "display_data"
    },
    {
     "data": {
      "text/html": [
       "'numeric'"
      ],
      "text/latex": [
       "'numeric'"
      ],
      "text/markdown": [
       "'numeric'"
      ],
      "text/plain": [
       "[1] \"numeric\""
      ]
     },
     "metadata": {},
     "output_type": "display_data"
    },
    {
     "data": {
      "text/html": [
       "<style>\n",
       ".list-inline {list-style: none; margin:0; padding: 0}\n",
       ".list-inline>li {display: inline-block}\n",
       ".list-inline>li:not(:last-child)::after {content: \"\\00b7\"; padding: 0 .5ex}\n",
       "</style>\n",
       "<ol class=list-inline><li>3</li><li>3</li><li>3</li><li>2</li><li>2</li><li>1</li></ol>\n"
      ],
      "text/latex": [
       "\\begin{enumerate*}\n",
       "\\item 3\n",
       "\\item 3\n",
       "\\item 3\n",
       "\\item 2\n",
       "\\item 2\n",
       "\\item 1\n",
       "\\end{enumerate*}\n"
      ],
      "text/markdown": [
       "1. 3\n",
       "2. 3\n",
       "3. 3\n",
       "4. 2\n",
       "5. 2\n",
       "6. 1\n",
       "\n",
       "\n"
      ],
      "text/plain": [
       "[1] 3 3 3 2 2 1"
      ]
     },
     "metadata": {},
     "output_type": "display_data"
    },
    {
     "data": {
      "text/html": [
       "50000"
      ],
      "text/latex": [
       "50000"
      ],
      "text/markdown": [
       "50000"
      ],
      "text/plain": [
       "[1] 50000"
      ]
     },
     "metadata": {},
     "output_type": "display_data"
    },
    {
     "data": {
      "text/html": [
       "6.02e+23"
      ],
      "text/latex": [
       "6.02e+23"
      ],
      "text/markdown": [
       "6.02e+23"
      ],
      "text/plain": [
       "[1] 6.02e+23"
      ]
     },
     "metadata": {},
     "output_type": "display_data"
    },
    {
     "data": {
      "text/html": [
       "1.6e-35"
      ],
      "text/latex": [
       "1.6e-35"
      ],
      "text/markdown": [
       "1.6e-35"
      ],
      "text/plain": [
       "[1] 1.6e-35"
      ]
     },
     "metadata": {},
     "output_type": "display_data"
    },
    {
     "data": {
      "text/html": [
       "'numeric'"
      ],
      "text/latex": [
       "'numeric'"
      ],
      "text/markdown": [
       "'numeric'"
      ],
      "text/plain": [
       "[1] \"numeric\""
      ]
     },
     "metadata": {},
     "output_type": "display_data"
    },
    {
     "data": {
      "text/html": [
       "'numeric'"
      ],
      "text/latex": [
       "'numeric'"
      ],
      "text/markdown": [
       "'numeric'"
      ],
      "text/plain": [
       "[1] \"numeric\""
      ]
     },
     "metadata": {},
     "output_type": "display_data"
    }
   ],
   "source": [
    "# A \"numeric\" is a double-precision floating-point number\n",
    "5\n",
    "class(5)\n",
    "# Again, everything in R is a vector;\n",
    "# you can make a numeric vector with more than one element\n",
    "c(3, 3, 3, 2, 2, 1)\n",
    "# You can use scientific notation too\n",
    "5e4\n",
    "6.02e23 # Avogadro's number\n",
    "1.6e-35 # Planck length\n",
    "# You can also have infinitely large or small numbers\n",
    "class(Inf)\n",
    "class(-Inf)\n",
    "# You might use \"Inf\", for example, in integrate(dnorm, 3, Inf);\n",
    "# this obviates Z-score tables."
   ]
  },
  {
   "cell_type": "markdown",
   "id": "5af7c995",
   "metadata": {},
   "source": [
    "## BASIC ARITHMETIC"
   ]
  },
  {
   "cell_type": "code",
   "execution_count": 20,
   "id": "7cebcd24",
   "metadata": {},
   "outputs": [
    {
     "data": {
      "text/html": [
       "76"
      ],
      "text/latex": [
       "76"
      ],
      "text/markdown": [
       "76"
      ],
      "text/plain": [
       "[1] 76"
      ]
     },
     "metadata": {},
     "output_type": "display_data"
    },
    {
     "data": {
      "text/html": [
       "49.2"
      ],
      "text/latex": [
       "49.2"
      ],
      "text/markdown": [
       "49.2"
      ],
      "text/plain": [
       "[1] 49.2"
      ]
     },
     "metadata": {},
     "output_type": "display_data"
    },
    {
     "data": {
      "text/html": [
       "4"
      ],
      "text/latex": [
       "4"
      ],
      "text/markdown": [
       "4"
      ],
      "text/plain": [
       "[1] 4"
      ]
     },
     "metadata": {},
     "output_type": "display_data"
    },
    {
     "data": {
      "text/html": [
       "0.75"
      ],
      "text/latex": [
       "0.75"
      ],
      "text/markdown": [
       "0.75"
      ],
      "text/plain": [
       "[1] 0.75"
      ]
     },
     "metadata": {},
     "output_type": "display_data"
    },
    {
     "data": {
      "text/html": [
       "1"
      ],
      "text/latex": [
       "1"
      ],
      "text/markdown": [
       "1"
      ],
      "text/plain": [
       "[1] 1"
      ]
     },
     "metadata": {},
     "output_type": "display_data"
    },
    {
     "data": {
      "text/html": [
       "NaN"
      ],
      "text/latex": [
       "NaN"
      ],
      "text/markdown": [
       "NaN"
      ],
      "text/plain": [
       "[1] NaN"
      ]
     },
     "metadata": {},
     "output_type": "display_data"
    },
    {
     "data": {
      "text/html": [
       "'numeric'"
      ],
      "text/latex": [
       "'numeric'"
      ],
      "text/markdown": [
       "'numeric'"
      ],
      "text/plain": [
       "[1] \"numeric\""
      ]
     },
     "metadata": {},
     "output_type": "display_data"
    },
    {
     "data": {
      "text/html": [
       "<style>\n",
       ".list-inline {list-style: none; margin:0; padding: 0}\n",
       ".list-inline>li {display: inline-block}\n",
       ".list-inline>li:not(:last-child)::after {content: \"\\00b7\"; padding: 0 .5ex}\n",
       "</style>\n",
       "<ol class=list-inline><li>2</li><li>4</li><li>6</li></ol>\n"
      ],
      "text/latex": [
       "\\begin{enumerate*}\n",
       "\\item 2\n",
       "\\item 4\n",
       "\\item 6\n",
       "\\end{enumerate*}\n"
      ],
      "text/markdown": [
       "1. 2\n",
       "2. 4\n",
       "3. 6\n",
       "\n",
       "\n"
      ],
      "text/plain": [
       "[1] 2 4 6"
      ]
     },
     "metadata": {},
     "output_type": "display_data"
    },
    {
     "data": {
      "text/html": [
       "<style>\n",
       ".list-inline {list-style: none; margin:0; padding: 0}\n",
       ".list-inline>li {display: inline-block}\n",
       ".list-inline>li:not(:last-child)::after {content: \"\\00b7\"; padding: 0 .5ex}\n",
       "</style>\n",
       "<ol class=list-inline><li>1</li><li>3</li><li>5</li></ol>\n"
      ],
      "text/latex": [
       "\\begin{enumerate*}\n",
       "\\item 1\n",
       "\\item 3\n",
       "\\item 5\n",
       "\\end{enumerate*}\n"
      ],
      "text/markdown": [
       "1. 1\n",
       "2. 3\n",
       "3. 5\n",
       "\n",
       "\n"
      ],
      "text/plain": [
       "[1] 1 3 5"
      ]
     },
     "metadata": {},
     "output_type": "display_data"
    },
    {
     "data": {
      "text/html": [
       "<style>\n",
       ".list-inline {list-style: none; margin:0; padding: 0}\n",
       ".list-inline>li {display: inline-block}\n",
       ".list-inline>li:not(:last-child)::after {content: \"\\00b7\"; padding: 0 .5ex}\n",
       "</style>\n",
       "<ol class=list-inline><li>1</li><li>4</li><li>3</li><li>2</li><li>2</li><li>6</li></ol>\n"
      ],
      "text/latex": [
       "\\begin{enumerate*}\n",
       "\\item 1\n",
       "\\item 4\n",
       "\\item 3\n",
       "\\item 2\n",
       "\\item 2\n",
       "\\item 6\n",
       "\\end{enumerate*}\n"
      ],
      "text/markdown": [
       "1. 1\n",
       "2. 4\n",
       "3. 3\n",
       "4. 2\n",
       "5. 2\n",
       "6. 6\n",
       "\n",
       "\n"
      ],
      "text/plain": [
       "[1] 1 4 3 2 2 6"
      ]
     },
     "metadata": {},
     "output_type": "display_data"
    },
    {
     "data": {
      "text/html": [
       "<style>\n",
       ".list-inline {list-style: none; margin:0; padding: 0}\n",
       ".list-inline>li {display: inline-block}\n",
       ".list-inline>li:not(:last-child)::after {content: \"\\00b7\"; padding: 0 .5ex}\n",
       "</style>\n",
       "<ol class=list-inline><li>1</li><li>4</li><li>3</li><li>2</li><li>2</li><li>6</li></ol>\n"
      ],
      "text/latex": [
       "\\begin{enumerate*}\n",
       "\\item 1\n",
       "\\item 4\n",
       "\\item 3\n",
       "\\item 2\n",
       "\\item 2\n",
       "\\item 6\n",
       "\\end{enumerate*}\n"
      ],
      "text/markdown": [
       "1. 1\n",
       "2. 4\n",
       "3. 3\n",
       "4. 2\n",
       "5. 2\n",
       "6. 6\n",
       "\n",
       "\n"
      ],
      "text/plain": [
       "[1] 1 4 3 2 2 6"
      ]
     },
     "metadata": {},
     "output_type": "display_data"
    }
   ],
   "source": [
    "# You can do arithmetic with numbers\n",
    "# Doing arithmetic on a mix of integers and numerics gives you another numeric\n",
    "10L + 66L # 76      # integer plus integer gives integer\n",
    "53.2 - 4 # 49.2    # numeric minus numeric gives numeric\n",
    "2.0 * 2L # 4       # numeric times integer gives numeric\n",
    "3L / 4 # 0.75    # integer over numeric gives numeric\n",
    "3 %% 2 # 1       # the remainder of two numerics is another numeric\n",
    "# Illegal arithmetic yields you a \"not-a-number\":\n",
    "0 / 0\n",
    "class(NaN)\n",
    "# You can do arithmetic on two vectors with length greater than 1,\n",
    "# so long as the larger vector's length is an integer multiple of the smaller\n",
    "c(1, 2, 3) + c(1, 2, 3)\n",
    "# Since a single number is a vector of length one, scalars are applied\n",
    "# elementwise to vectors\n",
    "(4 * c(1, 2, 3) - 2) / 2\n",
    "# Except for scalars, use caution when performing arithmetic on vectors with\n",
    "# different lengths. Although it can be done,\n",
    "c(1, 2, 3, 1, 2, 3) * c(1, 2)\n",
    "# Matching lengths is better practice and easier to read\n",
    "c(1, 2, 3, 1, 2, 3) * c(1, 2, 1, 2, 1, 2)"
   ]
  },
  {
   "cell_type": "markdown",
   "id": "187faee0",
   "metadata": {},
   "source": [
    "## CHARACTERS"
   ]
  },
  {
   "cell_type": "code",
   "execution_count": 21,
   "id": "8ee802e5",
   "metadata": {},
   "outputs": [
    {
     "data": {
      "text/html": [
       "'Horatio'"
      ],
      "text/latex": [
       "'Horatio'"
      ],
      "text/markdown": [
       "'Horatio'"
      ],
      "text/plain": [
       "[1] \"Horatio\""
      ]
     },
     "metadata": {},
     "output_type": "display_data"
    },
    {
     "data": {
      "text/html": [
       "'character'"
      ],
      "text/latex": [
       "'character'"
      ],
      "text/markdown": [
       "'character'"
      ],
      "text/plain": [
       "[1] \"character\""
      ]
     },
     "metadata": {},
     "output_type": "display_data"
    },
    {
     "data": {
      "text/html": [
       "'character'"
      ],
      "text/latex": [
       "'character'"
      ],
      "text/markdown": [
       "'character'"
      ],
      "text/plain": [
       "[1] \"character\""
      ]
     },
     "metadata": {},
     "output_type": "display_data"
    },
    {
     "data": {
      "text/html": [
       "<style>\n",
       ".list-inline {list-style: none; margin:0; padding: 0}\n",
       ".list-inline>li {display: inline-block}\n",
       ".list-inline>li:not(:last-child)::after {content: \"\\00b7\"; padding: 0 .5ex}\n",
       "</style>\n",
       "<ol class=list-inline><li>'alef'</li><li>'bet'</li><li>'gimmel'</li><li>'dalet'</li><li>'he'</li></ol>\n"
      ],
      "text/latex": [
       "\\begin{enumerate*}\n",
       "\\item 'alef'\n",
       "\\item 'bet'\n",
       "\\item 'gimmel'\n",
       "\\item 'dalet'\n",
       "\\item 'he'\n",
       "\\end{enumerate*}\n"
      ],
      "text/markdown": [
       "1. 'alef'\n",
       "2. 'bet'\n",
       "3. 'gimmel'\n",
       "4. 'dalet'\n",
       "5. 'he'\n",
       "\n",
       "\n"
      ],
      "text/plain": [
       "[1] \"alef\"   \"bet\"    \"gimmel\" \"dalet\"  \"he\"    "
      ]
     },
     "metadata": {},
     "output_type": "display_data"
    },
    {
     "data": {
      "text/html": [
       "3"
      ],
      "text/latex": [
       "3"
      ],
      "text/markdown": [
       "3"
      ],
      "text/plain": [
       "[1] 3"
      ]
     },
     "metadata": {},
     "output_type": "display_data"
    },
    {
     "data": {
      "text/html": [
       "'multis '"
      ],
      "text/latex": [
       "'multis '"
      ],
      "text/markdown": [
       "'multis '"
      ],
      "text/plain": [
       "[1] \"multis \""
      ]
     },
     "metadata": {},
     "output_type": "display_data"
    },
    {
     "data": {
      "text/html": [
       "'Fortøna møltis dat nimis, nølli satis.'"
      ],
      "text/latex": [
       "'Fortøna møltis dat nimis, nølli satis.'"
      ],
      "text/markdown": [
       "'Fortøna møltis dat nimis, nølli satis.'"
      ],
      "text/plain": [
       "[1] \"Fortøna møltis dat nimis, nølli satis.\""
      ]
     },
     "metadata": {},
     "output_type": "display_data"
    },
    {
     "data": {
      "text/html": [
       "<style>\n",
       ".list-inline {list-style: none; margin:0; padding: 0}\n",
       ".list-inline>li {display: inline-block}\n",
       ".list-inline>li:not(:last-child)::after {content: \"\\00b7\"; padding: 0 .5ex}\n",
       "</style>\n",
       "<ol class=list-inline><li>'a'</li><li>'b'</li><li>'c'</li><li>'d'</li><li>'e'</li><li>'f'</li><li>'g'</li><li>'h'</li><li>'i'</li><li>'j'</li><li>'k'</li><li>'l'</li><li>'m'</li><li>'n'</li><li>'o'</li><li>'p'</li><li>'q'</li><li>'r'</li><li>'s'</li><li>'t'</li><li>'u'</li><li>'v'</li><li>'w'</li><li>'x'</li><li>'y'</li><li>'z'</li></ol>\n"
      ],
      "text/latex": [
       "\\begin{enumerate*}\n",
       "\\item 'a'\n",
       "\\item 'b'\n",
       "\\item 'c'\n",
       "\\item 'd'\n",
       "\\item 'e'\n",
       "\\item 'f'\n",
       "\\item 'g'\n",
       "\\item 'h'\n",
       "\\item 'i'\n",
       "\\item 'j'\n",
       "\\item 'k'\n",
       "\\item 'l'\n",
       "\\item 'm'\n",
       "\\item 'n'\n",
       "\\item 'o'\n",
       "\\item 'p'\n",
       "\\item 'q'\n",
       "\\item 'r'\n",
       "\\item 's'\n",
       "\\item 't'\n",
       "\\item 'u'\n",
       "\\item 'v'\n",
       "\\item 'w'\n",
       "\\item 'x'\n",
       "\\item 'y'\n",
       "\\item 'z'\n",
       "\\end{enumerate*}\n"
      ],
      "text/markdown": [
       "1. 'a'\n",
       "2. 'b'\n",
       "3. 'c'\n",
       "4. 'd'\n",
       "5. 'e'\n",
       "6. 'f'\n",
       "7. 'g'\n",
       "8. 'h'\n",
       "9. 'i'\n",
       "10. 'j'\n",
       "11. 'k'\n",
       "12. 'l'\n",
       "13. 'm'\n",
       "14. 'n'\n",
       "15. 'o'\n",
       "16. 'p'\n",
       "17. 'q'\n",
       "18. 'r'\n",
       "19. 's'\n",
       "20. 't'\n",
       "21. 'u'\n",
       "22. 'v'\n",
       "23. 'w'\n",
       "24. 'x'\n",
       "25. 'y'\n",
       "26. 'z'\n",
       "\n",
       "\n"
      ],
      "text/plain": [
       " [1] \"a\" \"b\" \"c\" \"d\" \"e\" \"f\" \"g\" \"h\" \"i\" \"j\" \"k\" \"l\" \"m\" \"n\" \"o\" \"p\" \"q\" \"r\" \"s\"\n",
       "[20] \"t\" \"u\" \"v\" \"w\" \"x\" \"y\" \"z\""
      ]
     },
     "metadata": {},
     "output_type": "display_data"
    },
    {
     "data": {
      "text/html": [
       "<style>\n",
       ".list-inline {list-style: none; margin:0; padding: 0}\n",
       ".list-inline>li {display: inline-block}\n",
       ".list-inline>li:not(:last-child)::after {content: \"\\00b7\"; padding: 0 .5ex}\n",
       "</style>\n",
       "<ol class=list-inline><li>'Jan'</li><li>'Feb'</li><li>'Mar'</li><li>'Apr'</li><li>'May'</li><li>'Jun'</li><li>'Jul'</li><li>'Aug'</li><li>'Sep'</li><li>'Oct'</li><li>'Nov'</li><li>'Dec'</li></ol>\n"
      ],
      "text/latex": [
       "\\begin{enumerate*}\n",
       "\\item 'Jan'\n",
       "\\item 'Feb'\n",
       "\\item 'Mar'\n",
       "\\item 'Apr'\n",
       "\\item 'May'\n",
       "\\item 'Jun'\n",
       "\\item 'Jul'\n",
       "\\item 'Aug'\n",
       "\\item 'Sep'\n",
       "\\item 'Oct'\n",
       "\\item 'Nov'\n",
       "\\item 'Dec'\n",
       "\\end{enumerate*}\n"
      ],
      "text/markdown": [
       "1. 'Jan'\n",
       "2. 'Feb'\n",
       "3. 'Mar'\n",
       "4. 'Apr'\n",
       "5. 'May'\n",
       "6. 'Jun'\n",
       "7. 'Jul'\n",
       "8. 'Aug'\n",
       "9. 'Sep'\n",
       "10. 'Oct'\n",
       "11. 'Nov'\n",
       "12. 'Dec'\n",
       "\n",
       "\n"
      ],
      "text/plain": [
       " [1] \"Jan\" \"Feb\" \"Mar\" \"Apr\" \"May\" \"Jun\" \"Jul\" \"Aug\" \"Sep\" \"Oct\" \"Nov\" \"Dec\""
      ]
     },
     "metadata": {},
     "output_type": "display_data"
    }
   ],
   "source": [
    "# There's no difference between strings and characters in R\n",
    "\"Horatio\"\n",
    "class(\"Horatio\")\n",
    "class(\"H\")\n",
    "# Those were both character vectors of length 1\n",
    "# Here is a longer one:\n",
    "c(\"alef\", \"bet\", \"gimmel\", \"dalet\", \"he\")\n",
    "length(c(\"Call\", \"me\", \"Ishmael\"))\n",
    "# You can do regex operations on character vectors:\n",
    "substr(\"Fortuna multis dat nimis, nulli satis.\", 9, 15)\n",
    "gsub(\"u\", \"ø\", \"Fortuna multis dat nimis, nulli satis.\")\n",
    "# R has several built-in character vectors:\n",
    "letters\n",
    "month.abb"
   ]
  },
  {
   "cell_type": "markdown",
   "id": "e2874564",
   "metadata": {},
   "source": [
    "## LOGICALS"
   ]
  },
  {
   "cell_type": "code",
   "execution_count": 22,
   "id": "74b9d2c9",
   "metadata": {},
   "outputs": [
    {
     "data": {
      "text/html": [
       "'logical'"
      ],
      "text/latex": [
       "'logical'"
      ],
      "text/markdown": [
       "'logical'"
      ],
      "text/plain": [
       "[1] \"logical\""
      ]
     },
     "metadata": {},
     "output_type": "display_data"
    },
    {
     "data": {
      "text/html": [
       "'logical'"
      ],
      "text/latex": [
       "'logical'"
      ],
      "text/markdown": [
       "'logical'"
      ],
      "text/plain": [
       "[1] \"logical\""
      ]
     },
     "metadata": {},
     "output_type": "display_data"
    },
    {
     "data": {
      "text/html": [
       "TRUE"
      ],
      "text/latex": [
       "TRUE"
      ],
      "text/markdown": [
       "TRUE"
      ],
      "text/plain": [
       "[1] TRUE"
      ]
     },
     "metadata": {},
     "output_type": "display_data"
    },
    {
     "data": {
      "text/html": [
       "FALSE"
      ],
      "text/latex": [
       "FALSE"
      ],
      "text/markdown": [
       "FALSE"
      ],
      "text/plain": [
       "[1] FALSE"
      ]
     },
     "metadata": {},
     "output_type": "display_data"
    },
    {
     "data": {
      "text/html": [
       "FALSE"
      ],
      "text/latex": [
       "FALSE"
      ],
      "text/markdown": [
       "FALSE"
      ],
      "text/plain": [
       "[1] FALSE"
      ]
     },
     "metadata": {},
     "output_type": "display_data"
    },
    {
     "data": {
      "text/html": [
       "TRUE"
      ],
      "text/latex": [
       "TRUE"
      ],
      "text/markdown": [
       "TRUE"
      ],
      "text/plain": [
       "[1] TRUE"
      ]
     },
     "metadata": {},
     "output_type": "display_data"
    },
    {
     "data": {
      "text/html": [
       "'logical'"
      ],
      "text/latex": [
       "'logical'"
      ],
      "text/markdown": [
       "'logical'"
      ],
      "text/plain": [
       "[1] \"logical\""
      ]
     },
     "metadata": {},
     "output_type": "display_data"
    },
    {
     "data": {
      "text/html": [
       "TRUE"
      ],
      "text/latex": [
       "TRUE"
      ],
      "text/markdown": [
       "TRUE"
      ],
      "text/plain": [
       "[1] TRUE"
      ]
     },
     "metadata": {},
     "output_type": "display_data"
    },
    {
     "data": {
      "text/html": [
       "FALSE"
      ],
      "text/latex": [
       "FALSE"
      ],
      "text/markdown": [
       "FALSE"
      ],
      "text/plain": [
       "[1] FALSE"
      ]
     },
     "metadata": {},
     "output_type": "display_data"
    },
    {
     "data": {
      "text/html": [
       "<style>\n",
       ".list-inline {list-style: none; margin:0; padding: 0}\n",
       ".list-inline>li {display: inline-block}\n",
       ".list-inline>li:not(:last-child)::after {content: \"\\00b7\"; padding: 0 .5ex}\n",
       "</style>\n",
       "<ol class=list-inline><li>TRUE</li><li>TRUE</li><li>FALSE</li></ol>\n"
      ],
      "text/latex": [
       "\\begin{enumerate*}\n",
       "\\item TRUE\n",
       "\\item TRUE\n",
       "\\item FALSE\n",
       "\\end{enumerate*}\n"
      ],
      "text/markdown": [
       "1. TRUE\n",
       "2. TRUE\n",
       "3. FALSE\n",
       "\n",
       "\n"
      ],
      "text/plain": [
       "[1]  TRUE  TRUE FALSE"
      ]
     },
     "metadata": {},
     "output_type": "display_data"
    },
    {
     "data": {
      "text/html": [
       "<style>\n",
       ".list-inline {list-style: none; margin:0; padding: 0}\n",
       ".list-inline>li {display: inline-block}\n",
       ".list-inline>li:not(:last-child)::after {content: \"\\00b7\"; padding: 0 .5ex}\n",
       "</style>\n",
       "<ol class=list-inline><li>FALSE</li><li>FALSE</li><li>TRUE</li></ol>\n"
      ],
      "text/latex": [
       "\\begin{enumerate*}\n",
       "\\item FALSE\n",
       "\\item FALSE\n",
       "\\item TRUE\n",
       "\\end{enumerate*}\n"
      ],
      "text/markdown": [
       "1. FALSE\n",
       "2. FALSE\n",
       "3. TRUE\n",
       "\n",
       "\n"
      ],
      "text/plain": [
       "[1] FALSE FALSE  TRUE"
      ]
     },
     "metadata": {},
     "output_type": "display_data"
    },
    {
     "data": {
      "text/html": [
       "TRUE"
      ],
      "text/latex": [
       "TRUE"
      ],
      "text/markdown": [
       "TRUE"
      ],
      "text/plain": [
       "[1] TRUE"
      ]
     },
     "metadata": {},
     "output_type": "display_data"
    },
    {
     "data": {
      "text/html": [
       "<style>\n",
       ".list-inline {list-style: none; margin:0; padding: 0}\n",
       ".list-inline>li {display: inline-block}\n",
       ".list-inline>li:not(:last-child)::after {content: \"\\00b7\"; padding: 0 .5ex}\n",
       "</style>\n",
       "<ol class=list-inline><li>FALSE</li><li>FALSE</li><li>FALSE</li><li>FALSE</li><li>FALSE</li></ol>\n"
      ],
      "text/latex": [
       "\\begin{enumerate*}\n",
       "\\item FALSE\n",
       "\\item FALSE\n",
       "\\item FALSE\n",
       "\\item FALSE\n",
       "\\item FALSE\n",
       "\\end{enumerate*}\n"
      ],
      "text/markdown": [
       "1. FALSE\n",
       "2. FALSE\n",
       "3. FALSE\n",
       "4. FALSE\n",
       "5. FALSE\n",
       "\n",
       "\n"
      ],
      "text/plain": [
       "[1] FALSE FALSE FALSE FALSE FALSE"
      ]
     },
     "metadata": {},
     "output_type": "display_data"
    },
    {
     "data": {
      "text/html": [
       "<style>\n",
       ".list-inline {list-style: none; margin:0; padding: 0}\n",
       ".list-inline>li {display: inline-block}\n",
       ".list-inline>li:not(:last-child)::after {content: \"\\00b7\"; padding: 0 .5ex}\n",
       "</style>\n",
       "<ol class=list-inline><li>TRUE</li><li>FALSE</li><li>FALSE</li><li>FALSE</li><li>FALSE</li></ol>\n"
      ],
      "text/latex": [
       "\\begin{enumerate*}\n",
       "\\item TRUE\n",
       "\\item FALSE\n",
       "\\item FALSE\n",
       "\\item FALSE\n",
       "\\item FALSE\n",
       "\\end{enumerate*}\n"
      ],
      "text/markdown": [
       "1. TRUE\n",
       "2. FALSE\n",
       "3. FALSE\n",
       "4. FALSE\n",
       "5. FALSE\n",
       "\n",
       "\n"
      ],
      "text/plain": [
       "[1]  TRUE FALSE FALSE FALSE FALSE"
      ]
     },
     "metadata": {},
     "output_type": "display_data"
    }
   ],
   "source": [
    "# In R, a \"logical\" is a boolean\n",
    "class(TRUE)\n",
    "class(FALSE)\n",
    "# Their behavior is normal\n",
    "TRUE == TRUE\n",
    "TRUE == FALSE\n",
    "FALSE != FALSE\n",
    "FALSE != TRUE\n",
    "# Missing data (NA) is logical, too\n",
    "class(NA)\n",
    "# Use | and & for logic operations.\n",
    "# OR\n",
    "TRUE | FALSE\n",
    "# AND\n",
    "TRUE & FALSE\n",
    "# Applying | and & to vectors returns elementwise logic operations\n",
    "c(TRUE, FALSE, FALSE) | c(FALSE, TRUE, FALSE)\n",
    "c(TRUE, FALSE, TRUE) & c(FALSE, TRUE, TRUE)\n",
    "# You can test if x is TRUE\n",
    "isTRUE(TRUE) # TRUE\n",
    "# Here we get a logical vector with many elements:\n",
    "c(\"Z\", \"o\", \"r\", \"r\", \"o\") == \"Zorro\"\n",
    "c(\"Z\", \"o\", \"r\", \"r\", \"o\") == \"Z\""
   ]
  },
  {
   "cell_type": "markdown",
   "id": "1ad876c0",
   "metadata": {},
   "source": [
    "## FACTORS"
   ]
  },
  {
   "cell_type": "code",
   "execution_count": 23,
   "id": "8eeb9878",
   "metadata": {},
   "outputs": [
    {
     "data": {
      "text/html": [
       "<style>\n",
       ".list-inline {list-style: none; margin:0; padding: 0}\n",
       ".list-inline>li {display: inline-block}\n",
       ".list-inline>li:not(:last-child)::after {content: \"\\00b7\"; padding: 0 .5ex}\n",
       "</style>\n",
       "<ol class=list-inline><li>blue</li><li>blue</li><li>green</li><li>&lt;NA&gt;</li><li>blue</li></ol>\n",
       "\n",
       "<details>\n",
       "\t<summary style=display:list-item;cursor:pointer>\n",
       "\t\t<strong>Levels</strong>:\n",
       "\t</summary>\n",
       "\t<style>\n",
       "\t.list-inline {list-style: none; margin:0; padding: 0}\n",
       "\t.list-inline>li {display: inline-block}\n",
       "\t.list-inline>li:not(:last-child)::after {content: \"\\00b7\"; padding: 0 .5ex}\n",
       "\t</style>\n",
       "\t<ol class=list-inline><li>'blue'</li><li>'green'</li></ol>\n",
       "</details>"
      ],
      "text/latex": [
       "\\begin{enumerate*}\n",
       "\\item blue\n",
       "\\item blue\n",
       "\\item green\n",
       "\\item <NA>\n",
       "\\item blue\n",
       "\\end{enumerate*}\n",
       "\n",
       "\\emph{Levels}: \\begin{enumerate*}\n",
       "\\item 'blue'\n",
       "\\item 'green'\n",
       "\\end{enumerate*}\n"
      ],
      "text/markdown": [
       "1. blue\n",
       "2. blue\n",
       "3. green\n",
       "4. &lt;NA&gt;\n",
       "5. blue\n",
       "\n",
       "\n",
       "\n",
       "**Levels**: 1. 'blue'\n",
       "2. 'green'\n",
       "\n",
       "\n"
      ],
      "text/plain": [
       "[1] blue  blue  green <NA>  blue \n",
       "Levels: blue green"
      ]
     },
     "metadata": {},
     "output_type": "display_data"
    },
    {
     "data": {
      "text/html": [
       "<style>\n",
       ".list-inline {list-style: none; margin:0; padding: 0}\n",
       ".list-inline>li {display: inline-block}\n",
       ".list-inline>li:not(:last-child)::after {content: \"\\00b7\"; padding: 0 .5ex}\n",
       "</style>\n",
       "<ol class=list-inline><li>'blue'</li><li>'green'</li></ol>\n"
      ],
      "text/latex": [
       "\\begin{enumerate*}\n",
       "\\item 'blue'\n",
       "\\item 'green'\n",
       "\\end{enumerate*}\n"
      ],
      "text/markdown": [
       "1. 'blue'\n",
       "2. 'green'\n",
       "\n",
       "\n"
      ],
      "text/plain": [
       "[1] \"blue\"  \"green\""
      ]
     },
     "metadata": {},
     "output_type": "display_data"
    },
    {
     "data": {
      "text/html": [
       "1"
      ],
      "text/latex": [
       "1"
      ],
      "text/markdown": [
       "1"
      ],
      "text/plain": [
       "[1] 1"
      ]
     },
     "metadata": {},
     "output_type": "display_data"
    },
    {
     "data": {
      "text/html": [
       "1"
      ],
      "text/latex": [
       "1"
      ],
      "text/markdown": [
       "1"
      ],
      "text/plain": [
       "[1] 1"
      ]
     },
     "metadata": {},
     "output_type": "display_data"
    },
    {
     "data": {
      "text/html": [
       "<style>\n",
       ".list-inline {list-style: none; margin:0; padding: 0}\n",
       ".list-inline>li {display: inline-block}\n",
       ".list-inline>li:not(:last-child)::after {content: \"\\00b7\"; padding: 0 .5ex}\n",
       "</style>\n",
       "<ol class=list-inline><li>'0-5yrs'</li><li>'6-11yrs'</li><li>'12+ yrs'</li></ol>\n"
      ],
      "text/latex": [
       "\\begin{enumerate*}\n",
       "\\item '0-5yrs'\n",
       "\\item '6-11yrs'\n",
       "\\item '12+ yrs'\n",
       "\\end{enumerate*}\n"
      ],
      "text/markdown": [
       "1. '0-5yrs'\n",
       "2. '6-11yrs'\n",
       "3. '12+ yrs'\n",
       "\n",
       "\n"
      ],
      "text/plain": [
       "[1] \"0-5yrs\"  \"6-11yrs\" \"12+ yrs\""
      ]
     },
     "metadata": {},
     "output_type": "display_data"
    }
   ],
   "source": [
    "# The factor class is for categorical data\n",
    "# Factors can be ordered (like childrens' grade levels) or unordered (like colors)\n",
    "factor(c(\"blue\", \"blue\", \"green\", NA, \"blue\"))\n",
    "# Levels: blue green\n",
    "# The \"levels\" are the values the categorical data can take\n",
    "# Note that missing data does not enter the levels\n",
    "levels(factor(c(\"green\", \"green\", \"blue\", NA, \"blue\")))\n",
    "# If a factor vector has length 1, its levels will have length 1, too\n",
    "length(factor(\"green\"))\n",
    "length(levels(factor(\"green\")))\n",
    "# Factors are commonly seen in data frames, a data structure we will cover later\n",
    "data(infert) # \"Infertility after Spontaneous and Induced Abortion\"\n",
    "levels(infert$education)"
   ]
  },
  {
   "cell_type": "markdown",
   "id": "b2591a7b",
   "metadata": {},
   "source": [
    "## NULL"
   ]
  },
  {
   "cell_type": "code",
   "execution_count": 24,
   "id": "b9f94c73",
   "metadata": {},
   "outputs": [
    {
     "data": {
      "text/html": [
       "'NULL'"
      ],
      "text/latex": [
       "'NULL'"
      ],
      "text/markdown": [
       "'NULL'"
      ],
      "text/plain": [
       "[1] \"NULL\""
      ]
     },
     "metadata": {},
     "output_type": "display_data"
    },
    {
     "data": {
      "text/html": [
       "<style>\n",
       ".list-inline {list-style: none; margin:0; padding: 0}\n",
       ".list-inline>li {display: inline-block}\n",
       ".list-inline>li:not(:last-child)::after {content: \"\\00b7\"; padding: 0 .5ex}\n",
       "</style>\n",
       "<ol class=list-inline><li>'beak'</li><li>'feathers'</li><li>'wings'</li><li>'eyes'</li></ol>\n"
      ],
      "text/latex": [
       "\\begin{enumerate*}\n",
       "\\item 'beak'\n",
       "\\item 'feathers'\n",
       "\\item 'wings'\n",
       "\\item 'eyes'\n",
       "\\end{enumerate*}\n"
      ],
      "text/markdown": [
       "1. 'beak'\n",
       "2. 'feathers'\n",
       "3. 'wings'\n",
       "4. 'eyes'\n",
       "\n",
       "\n"
      ],
      "text/plain": [
       "[1] \"beak\"     \"feathers\" \"wings\"    \"eyes\"    "
      ]
     },
     "metadata": {},
     "output_type": "display_data"
    },
    {
     "data": {
      "text/plain": [
       "NULL"
      ]
     },
     "metadata": {},
     "output_type": "display_data"
    }
   ],
   "source": [
    "# \"NULL\" is a weird one; use it to \"blank out\" a vector\n",
    "class(NULL)\n",
    "parakeet <- c(\"beak\", \"feathers\", \"wings\", \"eyes\")\n",
    "parakeet\n",
    "parakeet <- NULL\n",
    "parakeet"
   ]
  },
  {
   "cell_type": "markdown",
   "id": "27f97edc",
   "metadata": {},
   "source": [
    "## TYPE COERCION"
   ]
  },
  {
   "cell_type": "code",
   "execution_count": 25,
   "id": "95064123",
   "metadata": {},
   "outputs": [
    {
     "data": {
      "text/html": [
       "<style>\n",
       ".list-inline {list-style: none; margin:0; padding: 0}\n",
       ".list-inline>li {display: inline-block}\n",
       ".list-inline>li:not(:last-child)::after {content: \"\\00b7\"; padding: 0 .5ex}\n",
       "</style>\n",
       "<ol class=list-inline><li>'6'</li><li>'8'</li></ol>\n"
      ],
      "text/latex": [
       "\\begin{enumerate*}\n",
       "\\item '6'\n",
       "\\item '8'\n",
       "\\end{enumerate*}\n"
      ],
      "text/markdown": [
       "1. '6'\n",
       "2. '8'\n",
       "\n",
       "\n"
      ],
      "text/plain": [
       "[1] \"6\" \"8\""
      ]
     },
     "metadata": {},
     "output_type": "display_data"
    },
    {
     "data": {
      "text/html": [
       "<style>\n",
       ".list-inline {list-style: none; margin:0; padding: 0}\n",
       ".list-inline>li {display: inline-block}\n",
       ".list-inline>li:not(:last-child)::after {content: \"\\00b7\"; padding: 0 .5ex}\n",
       "</style>\n",
       "<ol class=list-inline><li>TRUE</li><li>FALSE</li><li>TRUE</li><li>TRUE</li></ol>\n"
      ],
      "text/latex": [
       "\\begin{enumerate*}\n",
       "\\item TRUE\n",
       "\\item FALSE\n",
       "\\item TRUE\n",
       "\\item TRUE\n",
       "\\end{enumerate*}\n"
      ],
      "text/markdown": [
       "1. TRUE\n",
       "2. FALSE\n",
       "3. TRUE\n",
       "4. TRUE\n",
       "\n",
       "\n"
      ],
      "text/plain": [
       "[1]  TRUE FALSE  TRUE  TRUE"
      ]
     },
     "metadata": {},
     "output_type": "display_data"
    },
    {
     "data": {
      "text/html": [
       "<style>\n",
       ".list-inline {list-style: none; margin:0; padding: 0}\n",
       ".list-inline>li {display: inline-block}\n",
       ".list-inline>li:not(:last-child)::after {content: \"\\00b7\"; padding: 0 .5ex}\n",
       "</style>\n",
       "<ol class=list-inline><li>1</li><li>4</li></ol>\n"
      ],
      "text/latex": [
       "\\begin{enumerate*}\n",
       "\\item 1\n",
       "\\item 4\n",
       "\\end{enumerate*}\n"
      ],
      "text/markdown": [
       "1. 1\n",
       "2. 4\n",
       "\n",
       "\n"
      ],
      "text/plain": [
       "[1] 1 4"
      ]
     },
     "metadata": {},
     "output_type": "display_data"
    },
    {
     "data": {
      "text/html": [
       "<style>\n",
       ".list-inline {list-style: none; margin:0; padding: 0}\n",
       ".list-inline>li {display: inline-block}\n",
       ".list-inline>li:not(:last-child)::after {content: \"\\00b7\"; padding: 0 .5ex}\n",
       "</style>\n",
       "<ol class=list-inline><li>'dog'</li><li>'TRUE'</li><li>'4'</li></ol>\n"
      ],
      "text/latex": [
       "\\begin{enumerate*}\n",
       "\\item 'dog'\n",
       "\\item 'TRUE'\n",
       "\\item '4'\n",
       "\\end{enumerate*}\n"
      ],
      "text/markdown": [
       "1. 'dog'\n",
       "2. 'TRUE'\n",
       "3. '4'\n",
       "\n",
       "\n"
      ],
      "text/plain": [
       "[1] \"dog\"  \"TRUE\" \"4\"   "
      ]
     },
     "metadata": {},
     "output_type": "display_data"
    },
    {
     "name": "stderr",
     "output_type": "stream",
     "text": [
      "Warning message in eval(expr, envir, enclos):\n",
      "“NAs introduced by coercion”\n"
     ]
    },
    {
     "data": {
      "text/html": [
       "&lt;NA&gt;"
      ],
      "text/latex": [
       "<NA>"
      ],
      "text/markdown": [
       "&lt;NA&gt;"
      ],
      "text/plain": [
       "[1] NA"
      ]
     },
     "metadata": {},
     "output_type": "display_data"
    }
   ],
   "source": [
    "# Type-coercion is when you force a value to take on a different type\n",
    "as.character(c(6, 8))\n",
    "as.logical(c(1, 0, 1, 1))\n",
    "# If you put elements of different types into a vector, weird coercions happen:\n",
    "c(TRUE, 4)\n",
    "c(\"dog\", TRUE, 4)\n",
    "as.numeric(\"Bilbo\")"
   ]
  },
  {
   "cell_type": "markdown",
   "id": "87836f02",
   "metadata": {},
   "source": [
    "Also note: those were just the basic data types\n",
    "There are many more data types, such as for dates, time series, etc."
   ]
  },
  {
   "cell_type": "markdown",
   "id": "5c8602dc",
   "metadata": {},
   "source": [
    "# Variables, loops, if/else"
   ]
  },
  {
   "cell_type": "markdown",
   "id": "1def5811",
   "metadata": {},
   "source": [
    "A variable is like a box you store a value in for later use.\n",
    "We call this \"assigning\" the value to the variable.\n",
    "Having variables lets us write loops, functions, and if/else statements"
   ]
  },
  {
   "cell_type": "markdown",
   "id": "870353e5",
   "metadata": {},
   "source": [
    "## VARIABLES"
   ]
  },
  {
   "cell_type": "code",
   "execution_count": 26,
   "id": "af4277ee",
   "metadata": {},
   "outputs": [],
   "source": [
    "# Lots of way to assign stuff:\n",
    "x <- 5 # this is possible (editorial: this reads `x = 5` before auto-formatter.)\n",
    "y <- \"1\" # this is preferred\n",
    "TRUE -> z # this works but is weird"
   ]
  },
  {
   "cell_type": "markdown",
   "id": "517fd1d5",
   "metadata": {},
   "source": [
    "## LOOPS"
   ]
  },
  {
   "cell_type": "code",
   "execution_count": 27,
   "id": "1259e21a",
   "metadata": {},
   "outputs": [
    {
     "name": "stdout",
     "output_type": "stream",
     "text": [
      "[1] 1\n",
      "[1] 2\n",
      "[1] 3\n",
      "[1] 4\n",
      "10...9...8...7...6...5..."
     ]
    }
   ],
   "source": [
    "# We've got for loops\n",
    "for (i in 1:4) {\n",
    "  print(i)\n",
    "}\n",
    "# We've got while loops\n",
    "a <- 10\n",
    "while (a > 4) {\n",
    "  cat(a, \"...\", sep = \"\")\n",
    "  a <- a - 1\n",
    "}\n",
    "# Keep in mind that for and while loops run slowly in R\n",
    "# Operations on entire vectors (i.e. a whole row, a whole column)\n",
    "# or apply()-type functions (we'll discuss later) are preferred"
   ]
  },
  {
   "cell_type": "code",
   "execution_count": 28,
   "id": "9b88551f",
   "metadata": {},
   "outputs": [
    {
     "name": "stdout",
     "output_type": "stream",
     "text": [
      "[1] \"4 is greater than 3\"\n"
     ]
    }
   ],
   "source": [
    "# IF/ELSE\n",
    "# Again, pretty standard\n",
    "if (4 > 3) {\n",
    "  print(\"4 is greater than 3\")\n",
    "} else {\n",
    "  print(\"4 is not greater than 3\")\n",
    "}"
   ]
  },
  {
   "cell_type": "markdown",
   "id": "ea141962",
   "metadata": {},
   "source": [
    "## FUNCTIONS"
   ]
  },
  {
   "cell_type": "code",
   "execution_count": 29,
   "id": "a923da90",
   "metadata": {},
   "outputs": [
    {
     "data": {
      "text/html": [
       "5.00504349276185"
      ],
      "text/latex": [
       "5.00504349276185"
      ],
      "text/markdown": [
       "5.00504349276185"
      ],
      "text/plain": [
       "[1] 5.005043"
      ]
     },
     "metadata": {},
     "output_type": "display_data"
    }
   ],
   "source": [
    "# Defined like so:\n",
    "jiggle <- function(x) {\n",
    "  x <- x + rnorm(1, sd = .1) # add in a bit of (controlled) noise\n",
    "  return(x)\n",
    "}\n",
    "# Called like any other R function:\n",
    "set.seed(2716057)\n",
    "jiggle(5) # 5±ε. After set.seed(2716057), jiggle(5)==5.005043"
   ]
  },
  {
   "cell_type": "markdown",
   "id": "81687e26",
   "metadata": {},
   "source": [
    "# Data structures: Vectors, matrices, data frames, and arrays"
   ]
  },
  {
   "cell_type": "markdown",
   "id": "b80c3308",
   "metadata": {},
   "source": [
    "## ONE-DIMENSIONAL"
   ]
  },
  {
   "cell_type": "code",
   "execution_count": 30,
   "id": "b7ce91dc",
   "metadata": {},
   "outputs": [
    {
     "data": {
      "text/html": [
       "<style>\n",
       ".list-inline {list-style: none; margin:0; padding: 0}\n",
       ".list-inline>li {display: inline-block}\n",
       ".list-inline>li:not(:last-child)::after {content: \"\\00b7\"; padding: 0 .5ex}\n",
       "</style>\n",
       "<ol class=list-inline><li>8</li><li>9</li><li>10</li><li>11</li></ol>\n"
      ],
      "text/latex": [
       "\\begin{enumerate*}\n",
       "\\item 8\n",
       "\\item 9\n",
       "\\item 10\n",
       "\\item 11\n",
       "\\end{enumerate*}\n"
      ],
      "text/markdown": [
       "1. 8\n",
       "2. 9\n",
       "3. 10\n",
       "4. 11\n",
       "\n",
       "\n"
      ],
      "text/plain": [
       "[1]  8  9 10 11"
      ]
     },
     "metadata": {},
     "output_type": "display_data"
    },
    {
     "data": {
      "text/html": [
       "8"
      ],
      "text/latex": [
       "8"
      ],
      "text/markdown": [
       "8"
      ],
      "text/plain": [
       "[1] 8"
      ]
     },
     "metadata": {},
     "output_type": "display_data"
    },
    {
     "data": {
      "text/html": [
       "'r'"
      ],
      "text/latex": [
       "'r'"
      ],
      "text/markdown": [
       "'r'"
      ],
      "text/plain": [
       "[1] \"r\""
      ]
     },
     "metadata": {},
     "output_type": "display_data"
    },
    {
     "data": {
      "text/html": [
       "'M'"
      ],
      "text/latex": [
       "'M'"
      ],
      "text/markdown": [
       "'M'"
      ],
      "text/plain": [
       "[1] \"M\""
      ]
     },
     "metadata": {},
     "output_type": "display_data"
    },
    {
     "data": {
      "text/html": [
       "'September'"
      ],
      "text/latex": [
       "'September'"
      ],
      "text/markdown": [
       "'September'"
      ],
      "text/plain": [
       "[1] \"September\""
      ]
     },
     "metadata": {},
     "output_type": "display_data"
    },
    {
     "data": {
      "text/html": [
       "7"
      ],
      "text/latex": [
       "7"
      ],
      "text/markdown": [
       "7"
      ],
      "text/plain": [
       "[1] 7"
      ]
     },
     "metadata": {},
     "output_type": "display_data"
    },
    {
     "data": {
      "text/html": [
       "<style>\n",
       ".list-inline {list-style: none; margin:0; padding: 0}\n",
       ".list-inline>li {display: inline-block}\n",
       ".list-inline>li:not(:last-child)::after {content: \"\\00b7\"; padding: 0 .5ex}\n",
       "</style>\n",
       "<ol class=list-inline><li>1</li><li>3</li></ol>\n"
      ],
      "text/latex": [
       "\\begin{enumerate*}\n",
       "\\item 1\n",
       "\\item 3\n",
       "\\end{enumerate*}\n"
      ],
      "text/markdown": [
       "1. 1\n",
       "2. 3\n",
       "\n",
       "\n"
      ],
      "text/plain": [
       "[1] 1 3"
      ]
     },
     "metadata": {},
     "output_type": "display_data"
    },
    {
     "data": {
      "text/html": [
       "8"
      ],
      "text/latex": [
       "8"
      ],
      "text/markdown": [
       "8"
      ],
      "text/plain": [
       "[1] 8"
      ]
     },
     "metadata": {},
     "output_type": "display_data"
    },
    {
     "data": {
      "text/html": [
       "<style>\n",
       ".list-inline {list-style: none; margin:0; padding: 0}\n",
       ".list-inline>li {display: inline-block}\n",
       ".list-inline>li:not(:last-child)::after {content: \"\\00b7\"; padding: 0 .5ex}\n",
       "</style>\n",
       "<ol class=list-inline><li>10</li><li>11</li></ol>\n"
      ],
      "text/latex": [
       "\\begin{enumerate*}\n",
       "\\item 10\n",
       "\\item 11\n",
       "\\end{enumerate*}\n"
      ],
      "text/markdown": [
       "1. 10\n",
       "2. 11\n",
       "\n",
       "\n"
      ],
      "text/plain": [
       "[1] 10 11"
      ]
     },
     "metadata": {},
     "output_type": "display_data"
    },
    {
     "data": {
      "text/html": [
       "TRUE"
      ],
      "text/latex": [
       "TRUE"
      ],
      "text/markdown": [
       "TRUE"
      ],
      "text/plain": [
       "[1] TRUE"
      ]
     },
     "metadata": {},
     "output_type": "display_data"
    },
    {
     "data": {
      "text/html": [
       "&lt;NA&gt;"
      ],
      "text/latex": [
       "<NA>"
      ],
      "text/markdown": [
       "&lt;NA&gt;"
      ],
      "text/plain": [
       "[1] NA"
      ]
     },
     "metadata": {},
     "output_type": "display_data"
    },
    {
     "data": {
      "text/html": [
       "4"
      ],
      "text/latex": [
       "4"
      ],
      "text/markdown": [
       "4"
      ],
      "text/plain": [
       "[1] 4"
      ]
     },
     "metadata": {},
     "output_type": "display_data"
    },
    {
     "data": {
      "text/html": [
       "<style>\n",
       ".list-inline {list-style: none; margin:0; padding: 0}\n",
       ".list-inline>li {display: inline-block}\n",
       ".list-inline>li:not(:last-child)::after {content: \"\\00b7\"; padding: 0 .5ex}\n",
       "</style>\n",
       "<ol class=list-inline><li>32</li><li>36</li><li>40</li><li>44</li></ol>\n"
      ],
      "text/latex": [
       "\\begin{enumerate*}\n",
       "\\item 32\n",
       "\\item 36\n",
       "\\item 40\n",
       "\\item 44\n",
       "\\end{enumerate*}\n"
      ],
      "text/markdown": [
       "1. 32\n",
       "2. 36\n",
       "3. 40\n",
       "4. 44\n",
       "\n",
       "\n"
      ],
      "text/plain": [
       "[1] 32 36 40 44"
      ]
     },
     "metadata": {},
     "output_type": "display_data"
    },
    {
     "data": {
      "text/html": [
       "<style>\n",
       ".list-inline {list-style: none; margin:0; padding: 0}\n",
       ".list-inline>li {display: inline-block}\n",
       ".list-inline>li:not(:last-child)::after {content: \"\\00b7\"; padding: 0 .5ex}\n",
       "</style>\n",
       "<ol class=list-inline><li>45</li><li>50</li></ol>\n"
      ],
      "text/latex": [
       "\\begin{enumerate*}\n",
       "\\item 45\n",
       "\\item 50\n",
       "\\end{enumerate*}\n"
      ],
      "text/markdown": [
       "1. 45\n",
       "2. 50\n",
       "\n",
       "\n"
      ],
      "text/plain": [
       "[1] 45 50"
      ]
     },
     "metadata": {},
     "output_type": "display_data"
    },
    {
     "data": {
      "text/html": [
       "FALSE"
      ],
      "text/latex": [
       "FALSE"
      ],
      "text/markdown": [
       "FALSE"
      ],
      "text/plain": [
       "[1] FALSE"
      ]
     },
     "metadata": {},
     "output_type": "display_data"
    },
    {
     "data": {
      "text/html": [
       "9.5"
      ],
      "text/latex": [
       "9.5"
      ],
      "text/markdown": [
       "9.5"
      ],
      "text/plain": [
       "[1] 9.5"
      ]
     },
     "metadata": {},
     "output_type": "display_data"
    },
    {
     "data": {
      "text/html": [
       "1.66666666666667"
      ],
      "text/latex": [
       "1.66666666666667"
      ],
      "text/markdown": [
       "1.66666666666667"
      ],
      "text/plain": [
       "[1] 1.666667"
      ]
     },
     "metadata": {},
     "output_type": "display_data"
    },
    {
     "data": {
      "text/html": [
       "1.29099444873581"
      ],
      "text/latex": [
       "1.29099444873581"
      ],
      "text/markdown": [
       "1.29099444873581"
      ],
      "text/plain": [
       "[1] 1.290994"
      ]
     },
     "metadata": {},
     "output_type": "display_data"
    },
    {
     "data": {
      "text/html": [
       "11"
      ],
      "text/latex": [
       "11"
      ],
      "text/markdown": [
       "11"
      ],
      "text/plain": [
       "[1] 11"
      ]
     },
     "metadata": {},
     "output_type": "display_data"
    },
    {
     "data": {
      "text/html": [
       "8"
      ],
      "text/latex": [
       "8"
      ],
      "text/markdown": [
       "8"
      ],
      "text/plain": [
       "[1] 8"
      ]
     },
     "metadata": {},
     "output_type": "display_data"
    },
    {
     "data": {
      "text/html": [
       "38"
      ],
      "text/latex": [
       "38"
      ],
      "text/markdown": [
       "38"
      ],
      "text/plain": [
       "[1] 38"
      ]
     },
     "metadata": {},
     "output_type": "display_data"
    },
    {
     "data": {
      "text/html": [
       "<style>\n",
       ".list-inline {list-style: none; margin:0; padding: 0}\n",
       ".list-inline>li {display: inline-block}\n",
       ".list-inline>li:not(:last-child)::after {content: \"\\00b7\"; padding: 0 .5ex}\n",
       "</style>\n",
       "<ol class=list-inline><li>5</li><li>6</li><li>7</li><li>8</li><li>9</li><li>10</li><li>11</li><li>12</li><li>13</li><li>14</li><li>15</li></ol>\n"
      ],
      "text/latex": [
       "\\begin{enumerate*}\n",
       "\\item 5\n",
       "\\item 6\n",
       "\\item 7\n",
       "\\item 8\n",
       "\\item 9\n",
       "\\item 10\n",
       "\\item 11\n",
       "\\item 12\n",
       "\\item 13\n",
       "\\item 14\n",
       "\\item 15\n",
       "\\end{enumerate*}\n"
      ],
      "text/markdown": [
       "1. 5\n",
       "2. 6\n",
       "3. 7\n",
       "4. 8\n",
       "5. 9\n",
       "6. 10\n",
       "7. 11\n",
       "8. 12\n",
       "9. 13\n",
       "10. 14\n",
       "11. 15\n",
       "\n",
       "\n"
      ],
      "text/plain": [
       " [1]  5  6  7  8  9 10 11 12 13 14 15"
      ]
     },
     "metadata": {},
     "output_type": "display_data"
    },
    {
     "data": {
      "text/html": [
       "<style>\n",
       ".list-inline {list-style: none; margin:0; padding: 0}\n",
       ".list-inline>li {display: inline-block}\n",
       ".list-inline>li:not(:last-child)::after {content: \"\\00b7\"; padding: 0 .5ex}\n",
       "</style>\n",
       "<ol class=list-inline><li>0</li><li>1337</li><li>2674</li><li>4011</li><li>5348</li><li>6685</li><li>8022</li><li>9359</li><li>10696</li><li>12033</li><li>13370</li><li>14707</li><li>16044</li><li>17381</li><li>18718</li><li>20055</li><li>21392</li><li>22729</li><li>24066</li><li>25403</li><li>26740</li><li>28077</li><li>29414</li><li>30751</li></ol>\n"
      ],
      "text/latex": [
       "\\begin{enumerate*}\n",
       "\\item 0\n",
       "\\item 1337\n",
       "\\item 2674\n",
       "\\item 4011\n",
       "\\item 5348\n",
       "\\item 6685\n",
       "\\item 8022\n",
       "\\item 9359\n",
       "\\item 10696\n",
       "\\item 12033\n",
       "\\item 13370\n",
       "\\item 14707\n",
       "\\item 16044\n",
       "\\item 17381\n",
       "\\item 18718\n",
       "\\item 20055\n",
       "\\item 21392\n",
       "\\item 22729\n",
       "\\item 24066\n",
       "\\item 25403\n",
       "\\item 26740\n",
       "\\item 28077\n",
       "\\item 29414\n",
       "\\item 30751\n",
       "\\end{enumerate*}\n"
      ],
      "text/markdown": [
       "1. 0\n",
       "2. 1337\n",
       "3. 2674\n",
       "4. 4011\n",
       "5. 5348\n",
       "6. 6685\n",
       "7. 8022\n",
       "8. 9359\n",
       "9. 10696\n",
       "10. 12033\n",
       "11. 13370\n",
       "12. 14707\n",
       "13. 16044\n",
       "14. 17381\n",
       "15. 18718\n",
       "16. 20055\n",
       "17. 21392\n",
       "18. 22729\n",
       "19. 24066\n",
       "20. 25403\n",
       "21. 26740\n",
       "22. 28077\n",
       "23. 29414\n",
       "24. 30751\n",
       "\n",
       "\n"
      ],
      "text/plain": [
       " [1]     0  1337  2674  4011  5348  6685  8022  9359 10696 12033 13370 14707\n",
       "[13] 16044 17381 18718 20055 21392 22729 24066 25403 26740 28077 29414 30751"
      ]
     },
     "metadata": {},
     "output_type": "display_data"
    }
   ],
   "source": [
    "# Let's start from the very beginning, and with something you already know: vectors.\n",
    "vec <- c(8, 9, 10, 11)\n",
    "vec\n",
    "# We ask for specific elements by subsetting with square brackets\n",
    "# (Note that R starts counting from 1)\n",
    "vec[1]\n",
    "letters[18]\n",
    "LETTERS[13]\n",
    "month.name[9]\n",
    "c(6, 8, 7, 5, 3, 0, 9)[3]\n",
    "# We can also search for the indices of specific components,\n",
    "which(vec %% 2 == 0)\n",
    "# grab just the first or last few entries in the vector,\n",
    "head(vec, 1)\n",
    "tail(vec, 2)\n",
    "# or figure out if a certain value is in the vector\n",
    "any(vec == 10)\n",
    "# If an index \"goes over\" you'll get NA:\n",
    "vec[6]\n",
    "# You can find the length of your vector with length()\n",
    "length(vec)\n",
    "# You can perform operations on entire vectors or subsets of vectors\n",
    "vec * 4\n",
    "vec[2:3] * 5\n",
    "any(vec[2:3] == 8)\n",
    "# and R has many built-in functions to summarize vectors\n",
    "mean(vec)\n",
    "var(vec)\n",
    "sd(vec)\n",
    "max(vec)\n",
    "min(vec)\n",
    "sum(vec)\n",
    "# Some more nice built-ins:\n",
    "5:15\n",
    "seq(from = 0, to = 31337, by = 1337)"
   ]
  },
  {
   "cell_type": "markdown",
   "id": "b20e459d",
   "metadata": {},
   "source": [
    "## TWO-DIMENSIONAL (ALL ONE CLASS)"
   ]
  },
  {
   "cell_type": "code",
   "execution_count": 31,
   "id": "30fc3074",
   "metadata": {},
   "outputs": [
    {
     "data": {
      "text/html": [
       "<table class=\"dataframe\">\n",
       "<caption>A matrix: 3 × 2 of type dbl</caption>\n",
       "<tbody>\n",
       "\t<tr><td>1</td><td>4</td></tr>\n",
       "\t<tr><td>2</td><td>5</td></tr>\n",
       "\t<tr><td>3</td><td>6</td></tr>\n",
       "</tbody>\n",
       "</table>\n"
      ],
      "text/latex": [
       "A matrix: 3 × 2 of type dbl\n",
       "\\begin{tabular}{ll}\n",
       "\t 1 & 4\\\\\n",
       "\t 2 & 5\\\\\n",
       "\t 3 & 6\\\\\n",
       "\\end{tabular}\n"
      ],
      "text/markdown": [
       "\n",
       "A matrix: 3 × 2 of type dbl\n",
       "\n",
       "| 1 | 4 |\n",
       "| 2 | 5 |\n",
       "| 3 | 6 |\n",
       "\n"
      ],
      "text/plain": [
       "     [,1] [,2]\n",
       "[1,] 1    4   \n",
       "[2,] 2    5   \n",
       "[3,] 3    6   "
      ]
     },
     "metadata": {},
     "output_type": "display_data"
    },
    {
     "data": {
      "text/html": [
       "<style>\n",
       ".list-inline {list-style: none; margin:0; padding: 0}\n",
       ".list-inline>li {display: inline-block}\n",
       ".list-inline>li:not(:last-child)::after {content: \"\\00b7\"; padding: 0 .5ex}\n",
       "</style>\n",
       "<ol class=list-inline><li>'matrix'</li><li>'array'</li></ol>\n"
      ],
      "text/latex": [
       "\\begin{enumerate*}\n",
       "\\item 'matrix'\n",
       "\\item 'array'\n",
       "\\end{enumerate*}\n"
      ],
      "text/markdown": [
       "1. 'matrix'\n",
       "2. 'array'\n",
       "\n",
       "\n"
      ],
      "text/plain": [
       "[1] \"matrix\" \"array\" "
      ]
     },
     "metadata": {},
     "output_type": "display_data"
    },
    {
     "data": {
      "text/html": [
       "<style>\n",
       ".list-inline {list-style: none; margin:0; padding: 0}\n",
       ".list-inline>li {display: inline-block}\n",
       ".list-inline>li:not(:last-child)::after {content: \"\\00b7\"; padding: 0 .5ex}\n",
       "</style>\n",
       "<ol class=list-inline><li>1</li><li>4</li></ol>\n"
      ],
      "text/latex": [
       "\\begin{enumerate*}\n",
       "\\item 1\n",
       "\\item 4\n",
       "\\end{enumerate*}\n"
      ],
      "text/markdown": [
       "1. 1\n",
       "2. 4\n",
       "\n",
       "\n"
      ],
      "text/plain": [
       "[1] 1 4"
      ]
     },
     "metadata": {},
     "output_type": "display_data"
    },
    {
     "data": {
      "text/html": [
       "<style>\n",
       ".list-inline {list-style: none; margin:0; padding: 0}\n",
       ".list-inline>li {display: inline-block}\n",
       ".list-inline>li:not(:last-child)::after {content: \"\\00b7\"; padding: 0 .5ex}\n",
       "</style>\n",
       "<ol class=list-inline><li>3</li><li>6</li><li>9</li></ol>\n"
      ],
      "text/latex": [
       "\\begin{enumerate*}\n",
       "\\item 3\n",
       "\\item 6\n",
       "\\item 9\n",
       "\\end{enumerate*}\n"
      ],
      "text/markdown": [
       "1. 3\n",
       "2. 6\n",
       "3. 9\n",
       "\n",
       "\n"
      ],
      "text/plain": [
       "[1] 3 6 9"
      ]
     },
     "metadata": {},
     "output_type": "display_data"
    },
    {
     "data": {
      "text/html": [
       "6"
      ],
      "text/latex": [
       "6"
      ],
      "text/markdown": [
       "6"
      ],
      "text/plain": [
       "[1] 6"
      ]
     },
     "metadata": {},
     "output_type": "display_data"
    }
   ],
   "source": [
    "# You can make a matrix out of entries all of the same type like so:\n",
    "mat <- matrix(nrow = 3, ncol = 2, c(1, 2, 3, 4, 5, 6))\n",
    "mat\n",
    "# Unlike a vector, the class of a matrix is \"matrix\", no matter what's in it\n",
    "class(mat)\n",
    "# Ask for the first row\n",
    "mat[1, ]\n",
    "# Perform operation on the first column\n",
    "3 * mat[, 1]\n",
    "# Ask for a specific cell\n",
    "mat[3, 2]"
   ]
  },
  {
   "cell_type": "code",
   "execution_count": 32,
   "id": "e074560d",
   "metadata": {},
   "outputs": [
    {
     "data": {
      "text/html": [
       "<table class=\"dataframe\">\n",
       "<caption>A matrix: 2 × 3 of type dbl</caption>\n",
       "<tbody>\n",
       "\t<tr><td>1</td><td>2</td><td>3</td></tr>\n",
       "\t<tr><td>4</td><td>5</td><td>6</td></tr>\n",
       "</tbody>\n",
       "</table>\n"
      ],
      "text/latex": [
       "A matrix: 2 × 3 of type dbl\n",
       "\\begin{tabular}{lll}\n",
       "\t 1 & 2 & 3\\\\\n",
       "\t 4 & 5 & 6\\\\\n",
       "\\end{tabular}\n"
      ],
      "text/markdown": [
       "\n",
       "A matrix: 2 × 3 of type dbl\n",
       "\n",
       "| 1 | 2 | 3 |\n",
       "| 4 | 5 | 6 |\n",
       "\n"
      ],
      "text/plain": [
       "     [,1] [,2] [,3]\n",
       "[1,] 1    2    3   \n",
       "[2,] 4    5    6   "
      ]
     },
     "metadata": {},
     "output_type": "display_data"
    }
   ],
   "source": [
    "# Transpose the whole matrix\n",
    "t(mat)"
   ]
  },
  {
   "cell_type": "code",
   "execution_count": 33,
   "id": "1618050d",
   "metadata": {},
   "outputs": [
    {
     "data": {
      "text/html": [
       "<table class=\"dataframe\">\n",
       "<caption>A matrix: 3 × 3 of type dbl</caption>\n",
       "<tbody>\n",
       "\t<tr><td>17</td><td>22</td><td>27</td></tr>\n",
       "\t<tr><td>22</td><td>29</td><td>36</td></tr>\n",
       "\t<tr><td>27</td><td>36</td><td>45</td></tr>\n",
       "</tbody>\n",
       "</table>\n"
      ],
      "text/latex": [
       "A matrix: 3 × 3 of type dbl\n",
       "\\begin{tabular}{lll}\n",
       "\t 17 & 22 & 27\\\\\n",
       "\t 22 & 29 & 36\\\\\n",
       "\t 27 & 36 & 45\\\\\n",
       "\\end{tabular}\n"
      ],
      "text/markdown": [
       "\n",
       "A matrix: 3 × 3 of type dbl\n",
       "\n",
       "| 17 | 22 | 27 |\n",
       "| 22 | 29 | 36 |\n",
       "| 27 | 36 | 45 |\n",
       "\n"
      ],
      "text/plain": [
       "     [,1] [,2] [,3]\n",
       "[1,] 17   22   27  \n",
       "[2,] 22   29   36  \n",
       "[3,] 27   36   45  "
      ]
     },
     "metadata": {},
     "output_type": "display_data"
    }
   ],
   "source": [
    "# Matrix multiplication\n",
    "mat %*% t(mat)"
   ]
  },
  {
   "cell_type": "code",
   "execution_count": 34,
   "id": "f3e140d8",
   "metadata": {},
   "outputs": [
    {
     "data": {
      "text/html": [
       "<table class=\"dataframe\">\n",
       "<caption>A matrix: 4 × 2 of type chr</caption>\n",
       "<tbody>\n",
       "\t<tr><td>1</td><td>dog </td></tr>\n",
       "\t<tr><td>2</td><td>cat </td></tr>\n",
       "\t<tr><td>3</td><td>bird</td></tr>\n",
       "\t<tr><td>4</td><td>dog </td></tr>\n",
       "</tbody>\n",
       "</table>\n"
      ],
      "text/latex": [
       "A matrix: 4 × 2 of type chr\n",
       "\\begin{tabular}{ll}\n",
       "\t 1 & dog \\\\\n",
       "\t 2 & cat \\\\\n",
       "\t 3 & bird\\\\\n",
       "\t 4 & dog \\\\\n",
       "\\end{tabular}\n"
      ],
      "text/markdown": [
       "\n",
       "A matrix: 4 × 2 of type chr\n",
       "\n",
       "| 1 | dog  |\n",
       "| 2 | cat  |\n",
       "| 3 | bird |\n",
       "| 4 | dog  |\n",
       "\n"
      ],
      "text/plain": [
       "     [,1] [,2]\n",
       "[1,] 1    dog \n",
       "[2,] 2    cat \n",
       "[3,] 3    bird\n",
       "[4,] 4    dog "
      ]
     },
     "metadata": {},
     "output_type": "display_data"
    },
    {
     "data": {
      "text/html": [
       "<style>\n",
       ".list-inline {list-style: none; margin:0; padding: 0}\n",
       ".list-inline>li {display: inline-block}\n",
       ".list-inline>li:not(:last-child)::after {content: \"\\00b7\"; padding: 0 .5ex}\n",
       "</style>\n",
       "<ol class=list-inline><li>'matrix'</li><li>'array'</li></ol>\n"
      ],
      "text/latex": [
       "\\begin{enumerate*}\n",
       "\\item 'matrix'\n",
       "\\item 'array'\n",
       "\\end{enumerate*}\n"
      ],
      "text/markdown": [
       "1. 'matrix'\n",
       "2. 'array'\n",
       "\n",
       "\n"
      ],
      "text/plain": [
       "[1] \"matrix\" \"array\" "
      ]
     },
     "metadata": {},
     "output_type": "display_data"
    },
    {
     "data": {
      "text/html": [
       "<style>\n",
       ".list-inline {list-style: none; margin:0; padding: 0}\n",
       ".list-inline>li {display: inline-block}\n",
       ".list-inline>li:not(:last-child)::after {content: \"\\00b7\"; padding: 0 .5ex}\n",
       "</style>\n",
       "<ol class=list-inline><li>'character'</li><li>'character'</li></ol>\n"
      ],
      "text/latex": [
       "\\begin{enumerate*}\n",
       "\\item 'character'\n",
       "\\item 'character'\n",
       "\\end{enumerate*}\n"
      ],
      "text/markdown": [
       "1. 'character'\n",
       "2. 'character'\n",
       "\n",
       "\n"
      ],
      "text/plain": [
       "[1] \"character\" \"character\""
      ]
     },
     "metadata": {},
     "output_type": "display_data"
    }
   ],
   "source": [
    "# cbind() sticks vectors together column-wise to make a matrix\n",
    "mat2 <- cbind(1:4, c(\"dog\", \"cat\", \"bird\", \"dog\"))\n",
    "mat2\n",
    "class(mat2)\n",
    "# Again, note what happened!\n",
    "# Because matrices must contain entries all of the same class,\n",
    "# everything got converted to the character class\n",
    "c(class(mat2[, 1]), class(mat2[, 2]))"
   ]
  },
  {
   "cell_type": "code",
   "execution_count": 35,
   "id": "cdd50268",
   "metadata": {},
   "outputs": [
    {
     "data": {
      "text/html": [
       "<table class=\"dataframe\">\n",
       "<caption>A matrix: 2 × 4 of type dbl</caption>\n",
       "<tbody>\n",
       "\t<tr><td>1</td><td>2</td><td>4</td><td>5</td></tr>\n",
       "\t<tr><td>6</td><td>7</td><td>0</td><td>4</td></tr>\n",
       "</tbody>\n",
       "</table>\n"
      ],
      "text/latex": [
       "A matrix: 2 × 4 of type dbl\n",
       "\\begin{tabular}{llll}\n",
       "\t 1 & 2 & 4 & 5\\\\\n",
       "\t 6 & 7 & 0 & 4\\\\\n",
       "\\end{tabular}\n"
      ],
      "text/markdown": [
       "\n",
       "A matrix: 2 × 4 of type dbl\n",
       "\n",
       "| 1 | 2 | 4 | 5 |\n",
       "| 6 | 7 | 0 | 4 |\n",
       "\n"
      ],
      "text/plain": [
       "     [,1] [,2] [,3] [,4]\n",
       "[1,] 1    2    4    5   \n",
       "[2,] 6    7    0    4   "
      ]
     },
     "metadata": {},
     "output_type": "display_data"
    }
   ],
   "source": [
    "# rbind() sticks vectors together row-wise to make a matrix\n",
    "mat3 <- rbind(c(1, 2, 4, 5), c(6, 7, 0, 4))\n",
    "mat3\n",
    "# Ah, everything of the same class. No coercions. Much better."
   ]
  },
  {
   "cell_type": "markdown",
   "id": "fbc16bff",
   "metadata": {},
   "source": [
    "## TWO-DIMENSIONAL (DIFFERENT CLASSES)"
   ]
  },
  {
   "cell_type": "markdown",
   "id": "1d183591",
   "metadata": {},
   "source": [
    "For columns of different types, use a data frame\n",
    "This data structure is so useful for statistical programming,\n",
    "a version of it was added to Python in the package \"pandas\"."
   ]
  },
  {
   "cell_type": "code",
   "execution_count": 36,
   "id": "a331af29",
   "metadata": {},
   "outputs": [
    {
     "data": {
      "text/html": [
       "'data.frame'"
      ],
      "text/latex": [
       "'data.frame'"
      ],
      "text/markdown": [
       "'data.frame'"
      ],
      "text/plain": [
       "[1] \"data.frame\""
      ]
     },
     "metadata": {},
     "output_type": "display_data"
    },
    {
     "data": {
      "text/html": [
       "<table class=\"dataframe\">\n",
       "<caption>A data.frame: 6 × 3</caption>\n",
       "<thead>\n",
       "\t<tr><th scope=col>name</th><th scope=col>year</th><th scope=col>house</th></tr>\n",
       "\t<tr><th scope=col>&lt;chr&gt;</th><th scope=col>&lt;dbl&gt;</th><th scope=col>&lt;chr&gt;</th></tr>\n",
       "</thead>\n",
       "<tbody>\n",
       "\t<tr><td>Cedric</td><td> 3</td><td>H</td></tr>\n",
       "\t<tr><td>Fred  </td><td> 2</td><td>G</td></tr>\n",
       "\t<tr><td>George</td><td> 2</td><td>G</td></tr>\n",
       "\t<tr><td>Cho   </td><td> 1</td><td>R</td></tr>\n",
       "\t<tr><td>Draco </td><td> 0</td><td>S</td></tr>\n",
       "\t<tr><td>Ginny </td><td>-1</td><td>G</td></tr>\n",
       "</tbody>\n",
       "</table>\n"
      ],
      "text/latex": [
       "A data.frame: 6 × 3\n",
       "\\begin{tabular}{lll}\n",
       " name & year & house\\\\\n",
       " <chr> & <dbl> & <chr>\\\\\n",
       "\\hline\n",
       "\t Cedric &  3 & H\\\\\n",
       "\t Fred   &  2 & G\\\\\n",
       "\t George &  2 & G\\\\\n",
       "\t Cho    &  1 & R\\\\\n",
       "\t Draco  &  0 & S\\\\\n",
       "\t Ginny  & -1 & G\\\\\n",
       "\\end{tabular}\n"
      ],
      "text/markdown": [
       "\n",
       "A data.frame: 6 × 3\n",
       "\n",
       "| name &lt;chr&gt; | year &lt;dbl&gt; | house &lt;chr&gt; |\n",
       "|---|---|---|\n",
       "| Cedric |  3 | H |\n",
       "| Fred   |  2 | G |\n",
       "| George |  2 | G |\n",
       "| Cho    |  1 | R |\n",
       "| Draco  |  0 | S |\n",
       "| Ginny  | -1 | G |\n",
       "\n"
      ],
      "text/plain": [
       "  name   year house\n",
       "1 Cedric  3   H    \n",
       "2 Fred    2   G    \n",
       "3 George  2   G    \n",
       "4 Cho     1   R    \n",
       "5 Draco   0   S    \n",
       "6 Ginny  -1   G    "
      ]
     },
     "metadata": {},
     "output_type": "display_data"
    },
    {
     "data": {
      "text/html": [
       "'numeric'"
      ],
      "text/latex": [
       "'numeric'"
      ],
      "text/markdown": [
       "'numeric'"
      ],
      "text/plain": [
       "[1] \"numeric\""
      ]
     },
     "metadata": {},
     "output_type": "display_data"
    },
    {
     "data": {
      "text/html": [
       "'character'"
      ],
      "text/latex": [
       "'character'"
      ],
      "text/markdown": [
       "'character'"
      ],
      "text/plain": [
       "[1] \"character\""
      ]
     },
     "metadata": {},
     "output_type": "display_data"
    },
    {
     "data": {
      "text/html": [
       "6"
      ],
      "text/latex": [
       "6"
      ],
      "text/markdown": [
       "6"
      ],
      "text/plain": [
       "[1] 6"
      ]
     },
     "metadata": {},
     "output_type": "display_data"
    },
    {
     "data": {
      "text/html": [
       "3"
      ],
      "text/latex": [
       "3"
      ],
      "text/markdown": [
       "3"
      ],
      "text/plain": [
       "[1] 3"
      ]
     },
     "metadata": {},
     "output_type": "display_data"
    },
    {
     "data": {
      "text/html": [
       "<style>\n",
       ".list-inline {list-style: none; margin:0; padding: 0}\n",
       ".list-inline>li {display: inline-block}\n",
       ".list-inline>li:not(:last-child)::after {content: \"\\00b7\"; padding: 0 .5ex}\n",
       "</style>\n",
       "<ol class=list-inline><li>6</li><li>3</li></ol>\n"
      ],
      "text/latex": [
       "\\begin{enumerate*}\n",
       "\\item 6\n",
       "\\item 3\n",
       "\\end{enumerate*}\n"
      ],
      "text/markdown": [
       "1. 6\n",
       "2. 3\n",
       "\n",
       "\n"
      ],
      "text/plain": [
       "[1] 6 3"
      ]
     },
     "metadata": {},
     "output_type": "display_data"
    }
   ],
   "source": [
    "students <- data.frame(\n",
    "  c(\"Cedric\", \"Fred\", \"George\", \"Cho\", \"Draco\", \"Ginny\"),\n",
    "  c(3, 2, 2, 1, 0, -1),\n",
    "  c(\"H\", \"G\", \"G\", \"R\", \"S\", \"G\")\n",
    ")\n",
    "names(students) <- c(\"name\", \"year\", \"house\") # name the columns\n",
    "class(students) # \"data.frame\"\n",
    "students\n",
    "class(students$year)\n",
    "class(students[, 3])\n",
    "# find the dimensions\n",
    "nrow(students)\n",
    "ncol(students)\n",
    "dim(students)"
   ]
  },
  {
   "cell_type": "raw",
   "id": "ee14dcc0",
   "metadata": {},
   "source": [
    "?data.frame"
   ]
  },
  {
   "cell_type": "code",
   "execution_count": 37,
   "id": "6dfd7a31",
   "metadata": {},
   "outputs": [
    {
     "data": {
      "text/html": [
       "<style>\n",
       ".list-inline {list-style: none; margin:0; padding: 0}\n",
       ".list-inline>li {display: inline-block}\n",
       ".list-inline>li:not(:last-child)::after {content: \"\\00b7\"; padding: 0 .5ex}\n",
       "</style>\n",
       "<ol class=list-inline><li>3</li><li>2</li><li>2</li><li>1</li><li>0</li><li>-1</li></ol>\n"
      ],
      "text/latex": [
       "\\begin{enumerate*}\n",
       "\\item 3\n",
       "\\item 2\n",
       "\\item 2\n",
       "\\item 1\n",
       "\\item 0\n",
       "\\item -1\n",
       "\\end{enumerate*}\n"
      ],
      "text/markdown": [
       "1. 3\n",
       "2. 2\n",
       "3. 2\n",
       "4. 1\n",
       "5. 0\n",
       "6. -1\n",
       "\n",
       "\n"
      ],
      "text/plain": [
       "[1]  3  2  2  1  0 -1"
      ]
     },
     "metadata": {},
     "output_type": "display_data"
    },
    {
     "data": {
      "text/html": [
       "<style>\n",
       ".list-inline {list-style: none; margin:0; padding: 0}\n",
       ".list-inline>li {display: inline-block}\n",
       ".list-inline>li:not(:last-child)::after {content: \"\\00b7\"; padding: 0 .5ex}\n",
       "</style>\n",
       "<ol class=list-inline><li>3</li><li>2</li><li>2</li><li>1</li><li>0</li><li>-1</li></ol>\n"
      ],
      "text/latex": [
       "\\begin{enumerate*}\n",
       "\\item 3\n",
       "\\item 2\n",
       "\\item 2\n",
       "\\item 1\n",
       "\\item 0\n",
       "\\item -1\n",
       "\\end{enumerate*}\n"
      ],
      "text/markdown": [
       "1. 3\n",
       "2. 2\n",
       "3. 2\n",
       "4. 1\n",
       "5. 0\n",
       "6. -1\n",
       "\n",
       "\n"
      ],
      "text/plain": [
       "[1]  3  2  2  1  0 -1"
      ]
     },
     "metadata": {},
     "output_type": "display_data"
    },
    {
     "data": {
      "text/html": [
       "<style>\n",
       ".list-inline {list-style: none; margin:0; padding: 0}\n",
       ".list-inline>li {display: inline-block}\n",
       ".list-inline>li:not(:last-child)::after {content: \"\\00b7\"; padding: 0 .5ex}\n",
       "</style>\n",
       "<ol class=list-inline><li>3</li><li>2</li><li>2</li><li>1</li><li>0</li><li>-1</li></ol>\n"
      ],
      "text/latex": [
       "\\begin{enumerate*}\n",
       "\\item 3\n",
       "\\item 2\n",
       "\\item 2\n",
       "\\item 1\n",
       "\\item 0\n",
       "\\item -1\n",
       "\\end{enumerate*}\n"
      ],
      "text/markdown": [
       "1. 3\n",
       "2. 2\n",
       "3. 2\n",
       "4. 1\n",
       "5. 0\n",
       "6. -1\n",
       "\n",
       "\n"
      ],
      "text/plain": [
       "[1]  3  2  2  1  0 -1"
      ]
     },
     "metadata": {},
     "output_type": "display_data"
    }
   ],
   "source": [
    "# There are many twisty ways to subset data frames, all subtly unalike\n",
    "students$year\n",
    "students[, 2]\n",
    "students[, \"year\"]"
   ]
  },
  {
   "cell_type": "code",
   "execution_count": 38,
   "id": "c933c0c7",
   "metadata": {},
   "outputs": [
    {
     "name": "stderr",
     "output_type": "stream",
     "text": [
      "Loading required package: data.table\n",
      "\n"
     ]
    },
    {
     "data": {
      "text/html": [
       "<table class=\"dataframe\">\n",
       "<caption>A data.table: 6 × 3</caption>\n",
       "<thead>\n",
       "\t<tr><th scope=col>name</th><th scope=col>year</th><th scope=col>house</th></tr>\n",
       "\t<tr><th scope=col>&lt;chr&gt;</th><th scope=col>&lt;dbl&gt;</th><th scope=col>&lt;chr&gt;</th></tr>\n",
       "</thead>\n",
       "<tbody>\n",
       "\t<tr><td>Cedric</td><td> 3</td><td>H</td></tr>\n",
       "\t<tr><td>Fred  </td><td> 2</td><td>G</td></tr>\n",
       "\t<tr><td>George</td><td> 2</td><td>G</td></tr>\n",
       "\t<tr><td>Cho   </td><td> 1</td><td>R</td></tr>\n",
       "\t<tr><td>Draco </td><td> 0</td><td>S</td></tr>\n",
       "\t<tr><td>Ginny </td><td>-1</td><td>G</td></tr>\n",
       "</tbody>\n",
       "</table>\n"
      ],
      "text/latex": [
       "A data.table: 6 × 3\n",
       "\\begin{tabular}{lll}\n",
       " name & year & house\\\\\n",
       " <chr> & <dbl> & <chr>\\\\\n",
       "\\hline\n",
       "\t Cedric &  3 & H\\\\\n",
       "\t Fred   &  2 & G\\\\\n",
       "\t George &  2 & G\\\\\n",
       "\t Cho    &  1 & R\\\\\n",
       "\t Draco  &  0 & S\\\\\n",
       "\t Ginny  & -1 & G\\\\\n",
       "\\end{tabular}\n"
      ],
      "text/markdown": [
       "\n",
       "A data.table: 6 × 3\n",
       "\n",
       "| name &lt;chr&gt; | year &lt;dbl&gt; | house &lt;chr&gt; |\n",
       "|---|---|---|\n",
       "| Cedric |  3 | H |\n",
       "| Fred   |  2 | G |\n",
       "| George |  2 | G |\n",
       "| Cho    |  1 | R |\n",
       "| Draco  |  0 | S |\n",
       "| Ginny  | -1 | G |\n",
       "\n"
      ],
      "text/plain": [
       "  name   year house\n",
       "1 Cedric  3   H    \n",
       "2 Fred    2   G    \n",
       "3 George  2   G    \n",
       "4 Cho     1   R    \n",
       "5 Draco   0   S    \n",
       "6 Ginny  -1   G    "
      ]
     },
     "metadata": {},
     "output_type": "display_data"
    },
    {
     "data": {
      "text/html": [
       "<table class=\"dataframe\">\n",
       "<caption>A data.table: 1 × 3</caption>\n",
       "<thead>\n",
       "\t<tr><th scope=col>name</th><th scope=col>year</th><th scope=col>house</th></tr>\n",
       "\t<tr><th scope=col>&lt;chr&gt;</th><th scope=col>&lt;dbl&gt;</th><th scope=col>&lt;chr&gt;</th></tr>\n",
       "</thead>\n",
       "<tbody>\n",
       "\t<tr><td>Ginny</td><td>-1</td><td>G</td></tr>\n",
       "</tbody>\n",
       "</table>\n"
      ],
      "text/latex": [
       "A data.table: 1 × 3\n",
       "\\begin{tabular}{lll}\n",
       " name & year & house\\\\\n",
       " <chr> & <dbl> & <chr>\\\\\n",
       "\\hline\n",
       "\t Ginny & -1 & G\\\\\n",
       "\\end{tabular}\n"
      ],
      "text/markdown": [
       "\n",
       "A data.table: 1 × 3\n",
       "\n",
       "| name &lt;chr&gt; | year &lt;dbl&gt; | house &lt;chr&gt; |\n",
       "|---|---|---|\n",
       "| Ginny | -1 | G |\n",
       "\n"
      ],
      "text/plain": [
       "  name  year house\n",
       "1 Ginny -1   G    "
      ]
     },
     "metadata": {},
     "output_type": "display_data"
    },
    {
     "data": {
      "text/html": [
       "<table class=\"dataframe\">\n",
       "<caption>A data.table: 2 × 3</caption>\n",
       "<thead>\n",
       "\t<tr><th scope=col>name</th><th scope=col>year</th><th scope=col>house</th></tr>\n",
       "\t<tr><th scope=col>&lt;chr&gt;</th><th scope=col>&lt;dbl&gt;</th><th scope=col>&lt;chr&gt;</th></tr>\n",
       "</thead>\n",
       "<tbody>\n",
       "\t<tr><td>Fred  </td><td>2</td><td>G</td></tr>\n",
       "\t<tr><td>George</td><td>2</td><td>G</td></tr>\n",
       "</tbody>\n",
       "</table>\n"
      ],
      "text/latex": [
       "A data.table: 2 × 3\n",
       "\\begin{tabular}{lll}\n",
       " name & year & house\\\\\n",
       " <chr> & <dbl> & <chr>\\\\\n",
       "\\hline\n",
       "\t Fred   & 2 & G\\\\\n",
       "\t George & 2 & G\\\\\n",
       "\\end{tabular}\n"
      ],
      "text/markdown": [
       "\n",
       "A data.table: 2 × 3\n",
       "\n",
       "| name &lt;chr&gt; | year &lt;dbl&gt; | house &lt;chr&gt; |\n",
       "|---|---|---|\n",
       "| Fred   | 2 | G |\n",
       "| George | 2 | G |\n",
       "\n"
      ],
      "text/plain": [
       "  name   year house\n",
       "1 Fred   2    G    \n",
       "2 George 2    G    "
      ]
     },
     "metadata": {},
     "output_type": "display_data"
    },
    {
     "data": {
      "text/html": [
       "<table class=\"dataframe\">\n",
       "<caption>A data.table: 4 × 2</caption>\n",
       "<thead>\n",
       "\t<tr><th scope=col>house</th><th scope=col>founder</th></tr>\n",
       "\t<tr><th scope=col>&lt;chr&gt;</th><th scope=col>&lt;chr&gt;</th></tr>\n",
       "</thead>\n",
       "<tbody>\n",
       "\t<tr><td>G</td><td>Godric </td></tr>\n",
       "\t<tr><td>H</td><td>Helga  </td></tr>\n",
       "\t<tr><td>R</td><td>Rowena </td></tr>\n",
       "\t<tr><td>S</td><td>Salazar</td></tr>\n",
       "</tbody>\n",
       "</table>\n"
      ],
      "text/latex": [
       "A data.table: 4 × 2\n",
       "\\begin{tabular}{ll}\n",
       " house & founder\\\\\n",
       " <chr> & <chr>\\\\\n",
       "\\hline\n",
       "\t G & Godric \\\\\n",
       "\t H & Helga  \\\\\n",
       "\t R & Rowena \\\\\n",
       "\t S & Salazar\\\\\n",
       "\\end{tabular}\n"
      ],
      "text/markdown": [
       "\n",
       "A data.table: 4 × 2\n",
       "\n",
       "| house &lt;chr&gt; | founder &lt;chr&gt; |\n",
       "|---|---|\n",
       "| G | Godric  |\n",
       "| H | Helga   |\n",
       "| R | Rowena  |\n",
       "| S | Salazar |\n",
       "\n"
      ],
      "text/plain": [
       "  house founder\n",
       "1 G     Godric \n",
       "2 H     Helga  \n",
       "3 R     Rowena \n",
       "4 S     Salazar"
      ]
     },
     "metadata": {},
     "output_type": "display_data"
    },
    {
     "data": {
      "text/html": [
       "<table class=\"dataframe\">\n",
       "<caption>A data.table: 6 × 4</caption>\n",
       "<thead>\n",
       "\t<tr><th scope=col>studentName</th><th scope=col>year</th><th scope=col>house</th><th scope=col>houseFounderName</th></tr>\n",
       "\t<tr><th scope=col>&lt;chr&gt;</th><th scope=col>&lt;dbl&gt;</th><th scope=col>&lt;chr&gt;</th><th scope=col>&lt;chr&gt;</th></tr>\n",
       "</thead>\n",
       "<tbody>\n",
       "\t<tr><td>Fred  </td><td> 2</td><td>G</td><td>Godric </td></tr>\n",
       "\t<tr><td>George</td><td> 2</td><td>G</td><td>Godric </td></tr>\n",
       "\t<tr><td>Ginny </td><td>-1</td><td>G</td><td>Godric </td></tr>\n",
       "\t<tr><td>Cedric</td><td> 3</td><td>H</td><td>Helga  </td></tr>\n",
       "\t<tr><td>Cho   </td><td> 1</td><td>R</td><td>Rowena </td></tr>\n",
       "\t<tr><td>Draco </td><td> 0</td><td>S</td><td>Salazar</td></tr>\n",
       "</tbody>\n",
       "</table>\n"
      ],
      "text/latex": [
       "A data.table: 6 × 4\n",
       "\\begin{tabular}{llll}\n",
       " studentName & year & house & houseFounderName\\\\\n",
       " <chr> & <dbl> & <chr> & <chr>\\\\\n",
       "\\hline\n",
       "\t Fred   &  2 & G & Godric \\\\\n",
       "\t George &  2 & G & Godric \\\\\n",
       "\t Ginny  & -1 & G & Godric \\\\\n",
       "\t Cedric &  3 & H & Helga  \\\\\n",
       "\t Cho    &  1 & R & Rowena \\\\\n",
       "\t Draco  &  0 & S & Salazar\\\\\n",
       "\\end{tabular}\n"
      ],
      "text/markdown": [
       "\n",
       "A data.table: 6 × 4\n",
       "\n",
       "| studentName &lt;chr&gt; | year &lt;dbl&gt; | house &lt;chr&gt; | houseFounderName &lt;chr&gt; |\n",
       "|---|---|---|---|\n",
       "| Fred   |  2 | G | Godric  |\n",
       "| George |  2 | G | Godric  |\n",
       "| Ginny  | -1 | G | Godric  |\n",
       "| Cedric |  3 | H | Helga   |\n",
       "| Cho    |  1 | R | Rowena  |\n",
       "| Draco  |  0 | S | Salazar |\n",
       "\n"
      ],
      "text/plain": [
       "  studentName year house houseFounderName\n",
       "1 Fred         2   G     Godric          \n",
       "2 George       2   G     Godric          \n",
       "3 Ginny       -1   G     Godric          \n",
       "4 Cedric       3   H     Helga           \n",
       "5 Cho          1   R     Rowena          \n",
       "6 Draco        0   S     Salazar         "
      ]
     },
     "metadata": {},
     "output_type": "display_data"
    }
   ],
   "source": [
    "# An augmented version of the data.frame structure is the data.table\n",
    "# If you're working with huge or panel data, or need to merge a few data\n",
    "# sets, data.table can be a good choice. Here's a whirlwind tour:\n",
    "# install.packages(\"data.table\") # download the package from CRAN\n",
    "require(data.table) # load it\n",
    "students <- as.data.table(students)\n",
    "students # note the slightly different print-out\n",
    "students[name == \"Ginny\"] # get rows with name == \"Ginny\"\n",
    "students[year == 2] # get rows with year == 2\n",
    "# data.table makes merging two data sets easy\n",
    "# let's make another data.table to merge with students\n",
    "founders <- data.table(\n",
    "  house = c(\"G\", \"H\", \"R\", \"S\"),\n",
    "  founder = c(\"Godric\", \"Helga\", \"Rowena\", \"Salazar\")\n",
    ")\n",
    "founders\n",
    "setkey(students, house)\n",
    "setkey(founders, house)\n",
    "students <- founders[students] # merge the two data sets by matching \"house\"\n",
    "setnames(students, c(\"house\", \"houseFounderName\", \"studentName\", \"year\"))\n",
    "students[, order(c(\"name\", \"year\", \"house\", \"houseFounderName\")), with = F]"
   ]
  },
  {
   "cell_type": "code",
   "execution_count": 39,
   "id": "20393c69",
   "metadata": {},
   "outputs": [
    {
     "data": {
      "text/html": [
       "<table class=\"dataframe\">\n",
       "<caption>A data.table: 4 × 2</caption>\n",
       "<thead>\n",
       "\t<tr><th scope=col>house</th><th scope=col>V1</th></tr>\n",
       "\t<tr><th scope=col>&lt;chr&gt;</th><th scope=col>&lt;dbl&gt;</th></tr>\n",
       "</thead>\n",
       "<tbody>\n",
       "\t<tr><td>G</td><td>3</td></tr>\n",
       "\t<tr><td>H</td><td>3</td></tr>\n",
       "\t<tr><td>R</td><td>1</td></tr>\n",
       "\t<tr><td>S</td><td>0</td></tr>\n",
       "</tbody>\n",
       "</table>\n"
      ],
      "text/latex": [
       "A data.table: 4 × 2\n",
       "\\begin{tabular}{ll}\n",
       " house & V1\\\\\n",
       " <chr> & <dbl>\\\\\n",
       "\\hline\n",
       "\t G & 3\\\\\n",
       "\t H & 3\\\\\n",
       "\t R & 1\\\\\n",
       "\t S & 0\\\\\n",
       "\\end{tabular}\n"
      ],
      "text/markdown": [
       "\n",
       "A data.table: 4 × 2\n",
       "\n",
       "| house &lt;chr&gt; | V1 &lt;dbl&gt; |\n",
       "|---|---|\n",
       "| G | 3 |\n",
       "| H | 3 |\n",
       "| R | 1 |\n",
       "| S | 0 |\n",
       "\n"
      ],
      "text/plain": [
       "  house V1\n",
       "1 G     3 \n",
       "2 H     3 \n",
       "3 R     1 \n",
       "4 S     0 "
      ]
     },
     "metadata": {},
     "output_type": "display_data"
    }
   ],
   "source": [
    "# data.table makes summary tables easy\n",
    "students[, sum(year), by = house]"
   ]
  },
  {
   "cell_type": "code",
   "execution_count": 40,
   "id": "8236f233",
   "metadata": {},
   "outputs": [
    {
     "data": {
      "text/html": [
       "<table class=\"dataframe\">\n",
       "<caption>A data.table: 6 × 3</caption>\n",
       "<thead>\n",
       "\t<tr><th scope=col>house</th><th scope=col>studentName</th><th scope=col>year</th></tr>\n",
       "\t<tr><th scope=col>&lt;chr&gt;</th><th scope=col>&lt;chr&gt;</th><th scope=col>&lt;dbl&gt;</th></tr>\n",
       "</thead>\n",
       "<tbody>\n",
       "\t<tr><td>G</td><td>Fred  </td><td> 2</td></tr>\n",
       "\t<tr><td>G</td><td>George</td><td> 2</td></tr>\n",
       "\t<tr><td>G</td><td>Ginny </td><td>-1</td></tr>\n",
       "\t<tr><td>H</td><td>Cedric</td><td> 3</td></tr>\n",
       "\t<tr><td>R</td><td>Cho   </td><td> 1</td></tr>\n",
       "\t<tr><td>S</td><td>Draco </td><td> 0</td></tr>\n",
       "</tbody>\n",
       "</table>\n"
      ],
      "text/latex": [
       "A data.table: 6 × 3\n",
       "\\begin{tabular}{lll}\n",
       " house & studentName & year\\\\\n",
       " <chr> & <chr> & <dbl>\\\\\n",
       "\\hline\n",
       "\t G & Fred   &  2\\\\\n",
       "\t G & George &  2\\\\\n",
       "\t G & Ginny  & -1\\\\\n",
       "\t H & Cedric &  3\\\\\n",
       "\t R & Cho    &  1\\\\\n",
       "\t S & Draco  &  0\\\\\n",
       "\\end{tabular}\n"
      ],
      "text/markdown": [
       "\n",
       "A data.table: 6 × 3\n",
       "\n",
       "| house &lt;chr&gt; | studentName &lt;chr&gt; | year &lt;dbl&gt; |\n",
       "|---|---|---|\n",
       "| G | Fred   |  2 |\n",
       "| G | George |  2 |\n",
       "| G | Ginny  | -1 |\n",
       "| H | Cedric |  3 |\n",
       "| R | Cho    |  1 |\n",
       "| S | Draco  |  0 |\n",
       "\n"
      ],
      "text/plain": [
       "  house studentName year\n",
       "1 G     Fred         2  \n",
       "2 G     George       2  \n",
       "3 G     Ginny       -1  \n",
       "4 H     Cedric       3  \n",
       "5 R     Cho          1  \n",
       "6 S     Draco        0  "
      ]
     },
     "metadata": {},
     "output_type": "display_data"
    }
   ],
   "source": [
    "# To drop a column from a data.frame or data.table,\n",
    "# assign it the NULL value\n",
    "students$houseFounderName <- NULL\n",
    "students"
   ]
  },
  {
   "cell_type": "code",
   "execution_count": 41,
   "id": "059a865e",
   "metadata": {},
   "outputs": [
    {
     "data": {
      "text/html": [
       "<table class=\"dataframe\">\n",
       "<caption>A data.table: 5 × 3</caption>\n",
       "<thead>\n",
       "\t<tr><th scope=col>house</th><th scope=col>studentName</th><th scope=col>year</th></tr>\n",
       "\t<tr><th scope=col>&lt;chr&gt;</th><th scope=col>&lt;chr&gt;</th><th scope=col>&lt;dbl&gt;</th></tr>\n",
       "</thead>\n",
       "<tbody>\n",
       "\t<tr><td>G</td><td>Fred  </td><td> 2</td></tr>\n",
       "\t<tr><td>G</td><td>George</td><td> 2</td></tr>\n",
       "\t<tr><td>G</td><td>Ginny </td><td>-1</td></tr>\n",
       "\t<tr><td>H</td><td>Cedric</td><td> 3</td></tr>\n",
       "\t<tr><td>R</td><td>Cho   </td><td> 1</td></tr>\n",
       "</tbody>\n",
       "</table>\n"
      ],
      "text/latex": [
       "A data.table: 5 × 3\n",
       "\\begin{tabular}{lll}\n",
       " house & studentName & year\\\\\n",
       " <chr> & <chr> & <dbl>\\\\\n",
       "\\hline\n",
       "\t G & Fred   &  2\\\\\n",
       "\t G & George &  2\\\\\n",
       "\t G & Ginny  & -1\\\\\n",
       "\t H & Cedric &  3\\\\\n",
       "\t R & Cho    &  1\\\\\n",
       "\\end{tabular}\n"
      ],
      "text/markdown": [
       "\n",
       "A data.table: 5 × 3\n",
       "\n",
       "| house &lt;chr&gt; | studentName &lt;chr&gt; | year &lt;dbl&gt; |\n",
       "|---|---|---|\n",
       "| G | Fred   |  2 |\n",
       "| G | George |  2 |\n",
       "| G | Ginny  | -1 |\n",
       "| H | Cedric |  3 |\n",
       "| R | Cho    |  1 |\n",
       "\n"
      ],
      "text/plain": [
       "  house studentName year\n",
       "1 G     Fred         2  \n",
       "2 G     George       2  \n",
       "3 G     Ginny       -1  \n",
       "4 H     Cedric       3  \n",
       "5 R     Cho          1  "
      ]
     },
     "metadata": {},
     "output_type": "display_data"
    },
    {
     "data": {
      "text/html": [
       "<table class=\"dataframe\">\n",
       "<caption>A data.frame: 3 × 3</caption>\n",
       "<thead>\n",
       "\t<tr><th></th><th scope=col>house</th><th scope=col>studentName</th><th scope=col>year</th></tr>\n",
       "\t<tr><th></th><th scope=col>&lt;chr&gt;</th><th scope=col>&lt;chr&gt;</th><th scope=col>&lt;dbl&gt;</th></tr>\n",
       "</thead>\n",
       "<tbody>\n",
       "\t<tr><th scope=row>4</th><td>H</td><td>Cedric</td><td>3</td></tr>\n",
       "\t<tr><th scope=row>5</th><td>R</td><td>Cho   </td><td>1</td></tr>\n",
       "\t<tr><th scope=row>6</th><td>S</td><td>Draco </td><td>0</td></tr>\n",
       "</tbody>\n",
       "</table>\n"
      ],
      "text/latex": [
       "A data.frame: 3 × 3\n",
       "\\begin{tabular}{r|lll}\n",
       "  & house & studentName & year\\\\\n",
       "  & <chr> & <chr> & <dbl>\\\\\n",
       "\\hline\n",
       "\t4 & H & Cedric & 3\\\\\n",
       "\t5 & R & Cho    & 1\\\\\n",
       "\t6 & S & Draco  & 0\\\\\n",
       "\\end{tabular}\n"
      ],
      "text/markdown": [
       "\n",
       "A data.frame: 3 × 3\n",
       "\n",
       "| <!--/--> | house &lt;chr&gt; | studentName &lt;chr&gt; | year &lt;dbl&gt; |\n",
       "|---|---|---|---|\n",
       "| 4 | H | Cedric | 3 |\n",
       "| 5 | R | Cho    | 1 |\n",
       "| 6 | S | Draco  | 0 |\n",
       "\n"
      ],
      "text/plain": [
       "  house studentName year\n",
       "4 H     Cedric      3   \n",
       "5 R     Cho         1   \n",
       "6 S     Draco       0   "
      ]
     },
     "metadata": {},
     "output_type": "display_data"
    }
   ],
   "source": [
    "# Drop a row by subsetting\n",
    "# Using data.table:\n",
    "students[studentName != \"Draco\"]\n",
    "# Using data.frame:\n",
    "students <- as.data.frame(students)\n",
    "students[students$house != \"G\", ]"
   ]
  },
  {
   "cell_type": "markdown",
   "id": "6dc1c072",
   "metadata": {},
   "source": [
    "## MULTI-DIMENSIONAL (ALL ELEMENTS OF ONE TYPE)"
   ]
  },
  {
   "cell_type": "code",
   "execution_count": 42,
   "id": "744831de",
   "metadata": {},
   "outputs": [
    {
     "data": {
      "text/html": [
       "<table class=\"dataframe\">\n",
       "<caption>A matrix: 2 × 4 of type dbl</caption>\n",
       "<tbody>\n",
       "\t<tr><td>1</td><td>4</td><td>8</td><td>3</td></tr>\n",
       "\t<tr><td>2</td><td>5</td><td>9</td><td>6</td></tr>\n",
       "</tbody>\n",
       "</table>\n"
      ],
      "text/latex": [
       "A matrix: 2 × 4 of type dbl\n",
       "\\begin{tabular}{llll}\n",
       "\t 1 & 4 & 8 & 3\\\\\n",
       "\t 2 & 5 & 9 & 6\\\\\n",
       "\\end{tabular}\n"
      ],
      "text/markdown": [
       "\n",
       "A matrix: 2 × 4 of type dbl\n",
       "\n",
       "| 1 | 4 | 8 | 3 |\n",
       "| 2 | 5 | 9 | 6 |\n",
       "\n"
      ],
      "text/plain": [
       "     [,1] [,2] [,3] [,4]\n",
       "[1,] 1    4    8    3   \n",
       "[2,] 2    5    9    6   "
      ]
     },
     "metadata": {},
     "output_type": "display_data"
    },
    {
     "data": {
      "text/html": [
       "<style>\n",
       ".list-inline {list-style: none; margin:0; padding: 0}\n",
       ".list-inline>li {display: inline-block}\n",
       ".list-inline>li:not(:last-child)::after {content: \"\\00b7\"; padding: 0 .5ex}\n",
       "</style>\n",
       "<ol class=list-inline><li>2</li><li>300</li><li>4</li><li>8</li><li>9</li><li>0</li><li>5</li><li>60</li><li>0</li><li>66</li><li>7</li><li>847</li></ol>\n"
      ],
      "text/latex": [
       "\\begin{enumerate*}\n",
       "\\item 2\n",
       "\\item 300\n",
       "\\item 4\n",
       "\\item 8\n",
       "\\item 9\n",
       "\\item 0\n",
       "\\item 5\n",
       "\\item 60\n",
       "\\item 0\n",
       "\\item 66\n",
       "\\item 7\n",
       "\\item 847\n",
       "\\end{enumerate*}\n"
      ],
      "text/markdown": [
       "1. 2\n",
       "2. 300\n",
       "3. 4\n",
       "4. 8\n",
       "5. 9\n",
       "6. 0\n",
       "7. 5\n",
       "8. 60\n",
       "9. 0\n",
       "10. 66\n",
       "11. 7\n",
       "12. 847\n",
       "\n",
       "\n"
      ],
      "text/plain": [
       ", , 1\n",
       "\n",
       "     [,1] [,2]\n",
       "[1,]    2    8\n",
       "[2,]  300    9\n",
       "[3,]    4    0\n",
       "\n",
       ", , 2\n",
       "\n",
       "     [,1] [,2]\n",
       "[1,]    5   66\n",
       "[2,]   60    7\n",
       "[3,]    0  847\n"
      ]
     },
     "metadata": {},
     "output_type": "display_data"
    }
   ],
   "source": [
    "# Arrays creates n-dimensional tables\n",
    "# All elements must be of the same type\n",
    "# You can make a two-dimensional table (sort of like a matrix)\n",
    "array(c(c(1, 2, 4, 5), c(8, 9, 3, 6)), dim = c(2, 4))\n",
    "# You can use array to make three-dimensional matrices too\n",
    "array(c(c(c(2, 300, 4), c(8, 9, 0)), c(c(5, 60, 0), c(66, 7, 847))), dim = c(3, 2, 2))"
   ]
  },
  {
   "cell_type": "markdown",
   "id": "b4ac22e5",
   "metadata": {},
   "source": [
    "## LISTS (MULTI-DIMENSIONAL, POSSIBLY RAGGED, OF DIFFERENT TYPES)"
   ]
  },
  {
   "cell_type": "code",
   "execution_count": 43,
   "id": "3d4d9d96",
   "metadata": {},
   "outputs": [
    {
     "data": {
      "text/html": [
       "<dl>\n",
       "\t<dt>$time</dt>\n",
       "\t\t<dd><style>\n",
       ".list-inline {list-style: none; margin:0; padding: 0}\n",
       ".list-inline>li {display: inline-block}\n",
       ".list-inline>li:not(:last-child)::after {content: \"\\00b7\"; padding: 0 .5ex}\n",
       "</style>\n",
       "<ol class=list-inline><li>1</li><li>2</li><li>3</li><li>4</li><li>5</li><li>6</li><li>7</li><li>8</li><li>9</li><li>10</li><li>11</li><li>12</li><li>13</li><li>14</li><li>15</li><li>16</li><li>17</li><li>18</li><li>19</li><li>20</li><li>21</li><li>22</li><li>23</li><li>24</li><li>25</li><li>26</li><li>27</li><li>28</li><li>29</li><li>30</li><li>31</li><li>32</li><li>33</li><li>34</li><li>35</li><li>36</li><li>37</li><li>38</li><li>39</li><li>40</li></ol>\n",
       "</dd>\n",
       "\t<dt>$price</dt>\n",
       "\t\t<dd><style>\n",
       ".list-inline {list-style: none; margin:0; padding: 0}\n",
       ".list-inline>li {display: inline-block}\n",
       ".list-inline>li:not(:last-child)::after {content: \"\\00b7\"; padding: 0 .5ex}\n",
       "</style>\n",
       "<ol class=list-inline><li>-4.71576706348815</li><li>-7.64693372521361</li><li>1.74052299655679</li><li>-0.920852681278233</li><li>0.228363664006158</li><li>3.39370287494216</li><li>8.45114740095936</li><li>10.1717124766403</li><li>4.74016103809432</li><li>5.21935520191881</li><li>11.0369240025717</li><li>1.3045543737229</li><li>-7.16062341485166</li><li>7.4756618166541</li><li>10.3992520148583</li><li>10.9838374606594</li><li>7.94483728308234</li><li>7.34247370368607</li><li>8.44504849345779</li><li>5.68804313327768</li><li>9.88404892080858</li><li>13.2911741911357</li><li>10.9459772512115</li><li>9.87718087325303</li><li>9.32479866008584</li><li>10.6325903235637</li><li>11.7291770438037</li><li>4.9720624267495</li><li>15.5484774128481</li><li>7.86982232962025</li><li>16.4100488553752</li><li>17.7392576822792</li><li>18.4267733404687</li><li>21.4567474317659</li><li>16.9984916090198</li><li>14.4464731750209</li><li>14.8592792825167</li><li>17.6999169581436</li><li>19.3836134707346</li><li>22.2573567455597</li></ol>\n",
       "</dd>\n",
       "</dl>\n"
      ],
      "text/latex": [
       "\\begin{description}\n",
       "\\item[\\$time] \\begin{enumerate*}\n",
       "\\item 1\n",
       "\\item 2\n",
       "\\item 3\n",
       "\\item 4\n",
       "\\item 5\n",
       "\\item 6\n",
       "\\item 7\n",
       "\\item 8\n",
       "\\item 9\n",
       "\\item 10\n",
       "\\item 11\n",
       "\\item 12\n",
       "\\item 13\n",
       "\\item 14\n",
       "\\item 15\n",
       "\\item 16\n",
       "\\item 17\n",
       "\\item 18\n",
       "\\item 19\n",
       "\\item 20\n",
       "\\item 21\n",
       "\\item 22\n",
       "\\item 23\n",
       "\\item 24\n",
       "\\item 25\n",
       "\\item 26\n",
       "\\item 27\n",
       "\\item 28\n",
       "\\item 29\n",
       "\\item 30\n",
       "\\item 31\n",
       "\\item 32\n",
       "\\item 33\n",
       "\\item 34\n",
       "\\item 35\n",
       "\\item 36\n",
       "\\item 37\n",
       "\\item 38\n",
       "\\item 39\n",
       "\\item 40\n",
       "\\end{enumerate*}\n",
       "\n",
       "\\item[\\$price] \\begin{enumerate*}\n",
       "\\item -4.71576706348815\n",
       "\\item -7.64693372521361\n",
       "\\item 1.74052299655679\n",
       "\\item -0.920852681278233\n",
       "\\item 0.228363664006158\n",
       "\\item 3.39370287494216\n",
       "\\item 8.45114740095936\n",
       "\\item 10.1717124766403\n",
       "\\item 4.74016103809432\n",
       "\\item 5.21935520191881\n",
       "\\item 11.0369240025717\n",
       "\\item 1.3045543737229\n",
       "\\item -7.16062341485166\n",
       "\\item 7.4756618166541\n",
       "\\item 10.3992520148583\n",
       "\\item 10.9838374606594\n",
       "\\item 7.94483728308234\n",
       "\\item 7.34247370368607\n",
       "\\item 8.44504849345779\n",
       "\\item 5.68804313327768\n",
       "\\item 9.88404892080858\n",
       "\\item 13.2911741911357\n",
       "\\item 10.9459772512115\n",
       "\\item 9.87718087325303\n",
       "\\item 9.32479866008584\n",
       "\\item 10.6325903235637\n",
       "\\item 11.7291770438037\n",
       "\\item 4.9720624267495\n",
       "\\item 15.5484774128481\n",
       "\\item 7.86982232962025\n",
       "\\item 16.4100488553752\n",
       "\\item 17.7392576822792\n",
       "\\item 18.4267733404687\n",
       "\\item 21.4567474317659\n",
       "\\item 16.9984916090198\n",
       "\\item 14.4464731750209\n",
       "\\item 14.8592792825167\n",
       "\\item 17.6999169581436\n",
       "\\item 19.3836134707346\n",
       "\\item 22.2573567455597\n",
       "\\end{enumerate*}\n",
       "\n",
       "\\end{description}\n"
      ],
      "text/markdown": [
       "$time\n",
       ":   1. 1\n",
       "2. 2\n",
       "3. 3\n",
       "4. 4\n",
       "5. 5\n",
       "6. 6\n",
       "7. 7\n",
       "8. 8\n",
       "9. 9\n",
       "10. 10\n",
       "11. 11\n",
       "12. 12\n",
       "13. 13\n",
       "14. 14\n",
       "15. 15\n",
       "16. 16\n",
       "17. 17\n",
       "18. 18\n",
       "19. 19\n",
       "20. 20\n",
       "21. 21\n",
       "22. 22\n",
       "23. 23\n",
       "24. 24\n",
       "25. 25\n",
       "26. 26\n",
       "27. 27\n",
       "28. 28\n",
       "29. 29\n",
       "30. 30\n",
       "31. 31\n",
       "32. 32\n",
       "33. 33\n",
       "34. 34\n",
       "35. 35\n",
       "36. 36\n",
       "37. 37\n",
       "38. 38\n",
       "39. 39\n",
       "40. 40\n",
       "\n",
       "\n",
       "\n",
       "$price\n",
       ":   1. -4.71576706348815\n",
       "2. -7.64693372521361\n",
       "3. 1.74052299655679\n",
       "4. -0.920852681278233\n",
       "5. 0.228363664006158\n",
       "6. 3.39370287494216\n",
       "7. 8.45114740095936\n",
       "8. 10.1717124766403\n",
       "9. 4.74016103809432\n",
       "10. 5.21935520191881\n",
       "11. 11.0369240025717\n",
       "12. 1.3045543737229\n",
       "13. -7.16062341485166\n",
       "14. 7.4756618166541\n",
       "15. 10.3992520148583\n",
       "16. 10.9838374606594\n",
       "17. 7.94483728308234\n",
       "18. 7.34247370368607\n",
       "19. 8.44504849345779\n",
       "20. 5.68804313327768\n",
       "21. 9.88404892080858\n",
       "22. 13.2911741911357\n",
       "23. 10.9459772512115\n",
       "24. 9.87718087325303\n",
       "25. 9.32479866008584\n",
       "26. 10.6325903235637\n",
       "27. 11.7291770438037\n",
       "28. 4.9720624267495\n",
       "29. 15.5484774128481\n",
       "30. 7.86982232962025\n",
       "31. 16.4100488553752\n",
       "32. 17.7392576822792\n",
       "33. 18.4267733404687\n",
       "34. 21.4567474317659\n",
       "35. 16.9984916090198\n",
       "36. 14.4464731750209\n",
       "37. 14.8592792825167\n",
       "38. 17.6999169581436\n",
       "39. 19.3836134707346\n",
       "40. 22.2573567455597\n",
       "\n",
       "\n",
       "\n",
       "\n",
       "\n"
      ],
      "text/plain": [
       "$time\n",
       " [1]  1  2  3  4  5  6  7  8  9 10 11 12 13 14 15 16 17 18 19 20 21 22 23 24 25\n",
       "[26] 26 27 28 29 30 31 32 33 34 35 36 37 38 39 40\n",
       "\n",
       "$price\n",
       " [1] -4.7157671 -7.6469337  1.7405230 -0.9208527  0.2283637  3.3937029\n",
       " [7]  8.4511474 10.1717125  4.7401610  5.2193552 11.0369240  1.3045544\n",
       "[13] -7.1606234  7.4756618 10.3992520 10.9838375  7.9448373  7.3424737\n",
       "[19]  8.4450485  5.6880431  9.8840489 13.2911742 10.9459773  9.8771809\n",
       "[25]  9.3247987 10.6325903 11.7291770  4.9720624 15.5484774  7.8698223\n",
       "[31] 16.4100489 17.7392577 18.4267733 21.4567474 16.9984916 14.4464732\n",
       "[37] 14.8592793 17.6999170 19.3836135 22.2573567\n"
      ]
     },
     "metadata": {},
     "output_type": "display_data"
    },
    {
     "data": {
      "text/html": [
       "<style>\n",
       ".list-inline {list-style: none; margin:0; padding: 0}\n",
       ".list-inline>li {display: inline-block}\n",
       ".list-inline>li:not(:last-child)::after {content: \"\\00b7\"; padding: 0 .5ex}\n",
       "</style>\n",
       "<ol class=list-inline><li>1</li><li>2</li><li>3</li><li>4</li><li>5</li><li>6</li><li>7</li><li>8</li><li>9</li><li>10</li><li>11</li><li>12</li><li>13</li><li>14</li><li>15</li><li>16</li><li>17</li><li>18</li><li>19</li><li>20</li><li>21</li><li>22</li><li>23</li><li>24</li><li>25</li><li>26</li><li>27</li><li>28</li><li>29</li><li>30</li><li>31</li><li>32</li><li>33</li><li>34</li><li>35</li><li>36</li><li>37</li><li>38</li><li>39</li><li>40</li></ol>\n"
      ],
      "text/latex": [
       "\\begin{enumerate*}\n",
       "\\item 1\n",
       "\\item 2\n",
       "\\item 3\n",
       "\\item 4\n",
       "\\item 5\n",
       "\\item 6\n",
       "\\item 7\n",
       "\\item 8\n",
       "\\item 9\n",
       "\\item 10\n",
       "\\item 11\n",
       "\\item 12\n",
       "\\item 13\n",
       "\\item 14\n",
       "\\item 15\n",
       "\\item 16\n",
       "\\item 17\n",
       "\\item 18\n",
       "\\item 19\n",
       "\\item 20\n",
       "\\item 21\n",
       "\\item 22\n",
       "\\item 23\n",
       "\\item 24\n",
       "\\item 25\n",
       "\\item 26\n",
       "\\item 27\n",
       "\\item 28\n",
       "\\item 29\n",
       "\\item 30\n",
       "\\item 31\n",
       "\\item 32\n",
       "\\item 33\n",
       "\\item 34\n",
       "\\item 35\n",
       "\\item 36\n",
       "\\item 37\n",
       "\\item 38\n",
       "\\item 39\n",
       "\\item 40\n",
       "\\end{enumerate*}\n"
      ],
      "text/markdown": [
       "1. 1\n",
       "2. 2\n",
       "3. 3\n",
       "4. 4\n",
       "5. 5\n",
       "6. 6\n",
       "7. 7\n",
       "8. 8\n",
       "9. 9\n",
       "10. 10\n",
       "11. 11\n",
       "12. 12\n",
       "13. 13\n",
       "14. 14\n",
       "15. 15\n",
       "16. 16\n",
       "17. 17\n",
       "18. 18\n",
       "19. 19\n",
       "20. 20\n",
       "21. 21\n",
       "22. 22\n",
       "23. 23\n",
       "24. 24\n",
       "25. 25\n",
       "26. 26\n",
       "27. 27\n",
       "28. 28\n",
       "29. 29\n",
       "30. 30\n",
       "31. 31\n",
       "32. 32\n",
       "33. 33\n",
       "34. 34\n",
       "35. 35\n",
       "36. 36\n",
       "37. 37\n",
       "38. 38\n",
       "39. 39\n",
       "40. 40\n",
       "\n",
       "\n"
      ],
      "text/plain": [
       " [1]  1  2  3  4  5  6  7  8  9 10 11 12 13 14 15 16 17 18 19 20 21 22 23 24 25\n",
       "[26] 26 27 28 29 30 31 32 33 34 35 36 37 38 39 40"
      ]
     },
     "metadata": {},
     "output_type": "display_data"
    },
    {
     "data": {
      "text/html": [
       "<style>\n",
       ".list-inline {list-style: none; margin:0; padding: 0}\n",
       ".list-inline>li {display: inline-block}\n",
       ".list-inline>li:not(:last-child)::after {content: \"\\00b7\"; padding: 0 .5ex}\n",
       "</style>\n",
       "<ol class=list-inline><li>1</li><li>2</li><li>3</li><li>4</li><li>5</li><li>6</li><li>7</li><li>8</li><li>9</li><li>10</li><li>11</li><li>12</li><li>13</li><li>14</li><li>15</li><li>16</li><li>17</li><li>18</li><li>19</li><li>20</li><li>21</li><li>22</li><li>23</li><li>24</li><li>25</li><li>26</li><li>27</li><li>28</li><li>29</li><li>30</li><li>31</li><li>32</li><li>33</li><li>34</li><li>35</li><li>36</li><li>37</li><li>38</li><li>39</li><li>40</li></ol>\n"
      ],
      "text/latex": [
       "\\begin{enumerate*}\n",
       "\\item 1\n",
       "\\item 2\n",
       "\\item 3\n",
       "\\item 4\n",
       "\\item 5\n",
       "\\item 6\n",
       "\\item 7\n",
       "\\item 8\n",
       "\\item 9\n",
       "\\item 10\n",
       "\\item 11\n",
       "\\item 12\n",
       "\\item 13\n",
       "\\item 14\n",
       "\\item 15\n",
       "\\item 16\n",
       "\\item 17\n",
       "\\item 18\n",
       "\\item 19\n",
       "\\item 20\n",
       "\\item 21\n",
       "\\item 22\n",
       "\\item 23\n",
       "\\item 24\n",
       "\\item 25\n",
       "\\item 26\n",
       "\\item 27\n",
       "\\item 28\n",
       "\\item 29\n",
       "\\item 30\n",
       "\\item 31\n",
       "\\item 32\n",
       "\\item 33\n",
       "\\item 34\n",
       "\\item 35\n",
       "\\item 36\n",
       "\\item 37\n",
       "\\item 38\n",
       "\\item 39\n",
       "\\item 40\n",
       "\\end{enumerate*}\n"
      ],
      "text/markdown": [
       "1. 1\n",
       "2. 2\n",
       "3. 3\n",
       "4. 4\n",
       "5. 5\n",
       "6. 6\n",
       "7. 7\n",
       "8. 8\n",
       "9. 9\n",
       "10. 10\n",
       "11. 11\n",
       "12. 12\n",
       "13. 13\n",
       "14. 14\n",
       "15. 15\n",
       "16. 16\n",
       "17. 17\n",
       "18. 18\n",
       "19. 19\n",
       "20. 20\n",
       "21. 21\n",
       "22. 22\n",
       "23. 23\n",
       "24. 24\n",
       "25. 25\n",
       "26. 26\n",
       "27. 27\n",
       "28. 28\n",
       "29. 29\n",
       "30. 30\n",
       "31. 31\n",
       "32. 32\n",
       "33. 33\n",
       "34. 34\n",
       "35. 35\n",
       "36. 36\n",
       "37. 37\n",
       "38. 38\n",
       "39. 39\n",
       "40. 40\n",
       "\n",
       "\n"
      ],
      "text/plain": [
       " [1]  1  2  3  4  5  6  7  8  9 10 11 12 13 14 15 16 17 18 19 20 21 22 23 24 25\n",
       "[26] 26 27 28 29 30 31 32 33 34 35 36 37 38 39 40"
      ]
     },
     "metadata": {},
     "output_type": "display_data"
    },
    {
     "data": {
      "text/html": [
       "<style>\n",
       ".list-inline {list-style: none; margin:0; padding: 0}\n",
       ".list-inline>li {display: inline-block}\n",
       ".list-inline>li:not(:last-child)::after {content: \"\\00b7\"; padding: 0 .5ex}\n",
       "</style>\n",
       "<ol class=list-inline><li>1</li><li>2</li><li>3</li><li>4</li><li>5</li><li>6</li><li>7</li><li>8</li><li>9</li><li>10</li><li>11</li><li>12</li><li>13</li><li>14</li><li>15</li><li>16</li><li>17</li><li>18</li><li>19</li><li>20</li><li>21</li><li>22</li><li>23</li><li>24</li><li>25</li><li>26</li><li>27</li><li>28</li><li>29</li><li>30</li><li>31</li><li>32</li><li>33</li><li>34</li><li>35</li><li>36</li><li>37</li><li>38</li><li>39</li><li>40</li></ol>\n"
      ],
      "text/latex": [
       "\\begin{enumerate*}\n",
       "\\item 1\n",
       "\\item 2\n",
       "\\item 3\n",
       "\\item 4\n",
       "\\item 5\n",
       "\\item 6\n",
       "\\item 7\n",
       "\\item 8\n",
       "\\item 9\n",
       "\\item 10\n",
       "\\item 11\n",
       "\\item 12\n",
       "\\item 13\n",
       "\\item 14\n",
       "\\item 15\n",
       "\\item 16\n",
       "\\item 17\n",
       "\\item 18\n",
       "\\item 19\n",
       "\\item 20\n",
       "\\item 21\n",
       "\\item 22\n",
       "\\item 23\n",
       "\\item 24\n",
       "\\item 25\n",
       "\\item 26\n",
       "\\item 27\n",
       "\\item 28\n",
       "\\item 29\n",
       "\\item 30\n",
       "\\item 31\n",
       "\\item 32\n",
       "\\item 33\n",
       "\\item 34\n",
       "\\item 35\n",
       "\\item 36\n",
       "\\item 37\n",
       "\\item 38\n",
       "\\item 39\n",
       "\\item 40\n",
       "\\end{enumerate*}\n"
      ],
      "text/markdown": [
       "1. 1\n",
       "2. 2\n",
       "3. 3\n",
       "4. 4\n",
       "5. 5\n",
       "6. 6\n",
       "7. 7\n",
       "8. 8\n",
       "9. 9\n",
       "10. 10\n",
       "11. 11\n",
       "12. 12\n",
       "13. 13\n",
       "14. 14\n",
       "15. 15\n",
       "16. 16\n",
       "17. 17\n",
       "18. 18\n",
       "19. 19\n",
       "20. 20\n",
       "21. 21\n",
       "22. 22\n",
       "23. 23\n",
       "24. 24\n",
       "25. 25\n",
       "26. 26\n",
       "27. 27\n",
       "28. 28\n",
       "29. 29\n",
       "30. 30\n",
       "31. 31\n",
       "32. 32\n",
       "33. 33\n",
       "34. 34\n",
       "35. 35\n",
       "36. 36\n",
       "37. 37\n",
       "38. 38\n",
       "39. 39\n",
       "40. 40\n",
       "\n",
       "\n"
      ],
      "text/plain": [
       " [1]  1  2  3  4  5  6  7  8  9 10 11 12 13 14 15 16 17 18 19 20 21 22 23 24 25\n",
       "[26] 26 27 28 29 30 31 32 33 34 35 36 37 38 39 40"
      ]
     },
     "metadata": {},
     "output_type": "display_data"
    },
    {
     "data": {
      "text/html": [
       "-0.920852681278233"
      ],
      "text/latex": [
       "-0.920852681278233"
      ],
      "text/markdown": [
       "-0.920852681278233"
      ],
      "text/plain": [
       "[1] -0.9208527"
      ]
     },
     "metadata": {},
     "output_type": "display_data"
    }
   ],
   "source": [
    "# Finally, R has lists (of vectors)\n",
    "list1 <- list(time = 1:40)\n",
    "list1$price <- c(rnorm(40, .5 * list1$time, 4)) # random\n",
    "list1\n",
    "# You can get items in the list like so\n",
    "list1$time # one way\n",
    "list1[[\"time\"]] # another way\n",
    "list1[[1]] # yet another way\n",
    "# You can subset list items like any other vector\n",
    "list1$price[4]"
   ]
  },
  {
   "cell_type": "markdown",
   "id": "90822931",
   "metadata": {},
   "source": [
    "Lists are not the most efficient data structure to work with in R;\n",
    "unless you have a very good reason, you should stick to data.frames\n",
    "Lists are often returned by functions that perform linear regressions"
   ]
  },
  {
   "cell_type": "markdown",
   "id": "4324f12d",
   "metadata": {},
   "source": [
    "# The apply() family of functions"
   ]
  },
  {
   "cell_type": "code",
   "execution_count": 44,
   "id": "bf12c56b",
   "metadata": {},
   "outputs": [
    {
     "data": {
      "text/html": [
       "<table class=\"dataframe\">\n",
       "<caption>A matrix: 3 × 2 of type dbl</caption>\n",
       "<tbody>\n",
       "\t<tr><td>1</td><td>4</td></tr>\n",
       "\t<tr><td>2</td><td>5</td></tr>\n",
       "\t<tr><td>3</td><td>6</td></tr>\n",
       "</tbody>\n",
       "</table>\n"
      ],
      "text/latex": [
       "A matrix: 3 × 2 of type dbl\n",
       "\\begin{tabular}{ll}\n",
       "\t 1 & 4\\\\\n",
       "\t 2 & 5\\\\\n",
       "\t 3 & 6\\\\\n",
       "\\end{tabular}\n"
      ],
      "text/markdown": [
       "\n",
       "A matrix: 3 × 2 of type dbl\n",
       "\n",
       "| 1 | 4 |\n",
       "| 2 | 5 |\n",
       "| 3 | 6 |\n",
       "\n"
      ],
      "text/plain": [
       "     [,1] [,2]\n",
       "[1,] 1    4   \n",
       "[2,] 2    5   \n",
       "[3,] 3    6   "
      ]
     },
     "metadata": {},
     "output_type": "display_data"
    },
    {
     "data": {
      "text/html": [
       "<table class=\"dataframe\">\n",
       "<caption>A matrix: 3 × 2 of type dbl</caption>\n",
       "<tbody>\n",
       "\t<tr><td>1.08038</td><td>4.013346</td></tr>\n",
       "\t<tr><td>2.08038</td><td>5.013346</td></tr>\n",
       "\t<tr><td>3.08038</td><td>6.013346</td></tr>\n",
       "</tbody>\n",
       "</table>\n"
      ],
      "text/latex": [
       "A matrix: 3 × 2 of type dbl\n",
       "\\begin{tabular}{ll}\n",
       "\t 1.08038 & 4.013346\\\\\n",
       "\t 2.08038 & 5.013346\\\\\n",
       "\t 3.08038 & 6.013346\\\\\n",
       "\\end{tabular}\n"
      ],
      "text/markdown": [
       "\n",
       "A matrix: 3 × 2 of type dbl\n",
       "\n",
       "| 1.08038 | 4.013346 |\n",
       "| 2.08038 | 5.013346 |\n",
       "| 3.08038 | 6.013346 |\n",
       "\n"
      ],
      "text/plain": [
       "     [,1]    [,2]    \n",
       "[1,] 1.08038 4.013346\n",
       "[2,] 2.08038 5.013346\n",
       "[3,] 3.08038 6.013346"
      ]
     },
     "metadata": {},
     "output_type": "display_data"
    }
   ],
   "source": [
    "# Remember mat?\n",
    "mat\n",
    "# Use apply(X, MARGIN, FUN) to apply function FUN to a matrix X\n",
    "# over rows (MAR = 1) or columns (MAR = 2)\n",
    "# That is, R does FUN to each row (or column) of X, much faster than a\n",
    "# for or while loop would do\n",
    "apply(mat, MAR = 2, jiggle)\n",
    "# Other functions: ?lapply, ?sapply"
   ]
  },
  {
   "cell_type": "markdown",
   "id": "f490d6a0",
   "metadata": {},
   "source": [
    "Don't feel too intimidated; everyone agrees they are rather confusing"
   ]
  },
  {
   "cell_type": "code",
   "execution_count": 45,
   "id": "fffc272f",
   "metadata": {},
   "outputs": [
    {
     "name": "stderr",
     "output_type": "stream",
     "text": [
      "Loading required package: plyr\n",
      "\n"
     ]
    }
   ],
   "source": [
    "# The plyr package aims to replace (and improve upon!) the *apply() family.\n",
    "# install.packages(\"plyr\")\n",
    "require(plyr)\n",
    "# ?plyr"
   ]
  },
  {
   "cell_type": "markdown",
   "id": "b02a3d34",
   "metadata": {},
   "source": [
    "# Loading data"
   ]
  },
  {
   "cell_type": "code",
   "execution_count": 46,
   "id": "90d40aa6",
   "metadata": {},
   "outputs": [
    {
     "name": "stderr",
     "output_type": "stream",
     "text": [
      "Loading required package: RCurl\n",
      "\n"
     ]
    },
    {
     "data": {
      "text/html": [
       "<table class=\"dataframe\">\n",
       "<caption>A data.frame: 3 × 4</caption>\n",
       "<thead>\n",
       "\t<tr><th scope=col>name</th><th scope=col>age</th><th scope=col>weight</th><th scope=col>species</th></tr>\n",
       "\t<tr><th scope=col>&lt;chr&gt;</th><th scope=col>&lt;int&gt;</th><th scope=col>&lt;int&gt;</th><th scope=col>&lt;chr&gt;</th></tr>\n",
       "</thead>\n",
       "<tbody>\n",
       "\t<tr><td>fluffy  </td><td>3</td><td>14</td><td>cat </td></tr>\n",
       "\t<tr><td>vesuvius</td><td>6</td><td>23</td><td>fish</td></tr>\n",
       "\t<tr><td>rex     </td><td>5</td><td>34</td><td>dog </td></tr>\n",
       "</tbody>\n",
       "</table>\n"
      ],
      "text/latex": [
       "A data.frame: 3 × 4\n",
       "\\begin{tabular}{llll}\n",
       " name & age & weight & species\\\\\n",
       " <chr> & <int> & <int> & <chr>\\\\\n",
       "\\hline\n",
       "\t fluffy   & 3 & 14 & cat \\\\\n",
       "\t vesuvius & 6 & 23 & fish\\\\\n",
       "\t rex      & 5 & 34 & dog \\\\\n",
       "\\end{tabular}\n"
      ],
      "text/markdown": [
       "\n",
       "A data.frame: 3 × 4\n",
       "\n",
       "| name &lt;chr&gt; | age &lt;int&gt; | weight &lt;int&gt; | species &lt;chr&gt; |\n",
       "|---|---|---|---|\n",
       "| fluffy   | 3 | 14 | cat  |\n",
       "| vesuvius | 6 | 23 | fish |\n",
       "| rex      | 5 | 34 | dog  |\n",
       "\n"
      ],
      "text/plain": [
       "  name     age weight species\n",
       "1 fluffy   3   14     cat    \n",
       "2 vesuvius 6   23     fish   \n",
       "3 rex      5   34     dog    "
      ]
     },
     "metadata": {},
     "output_type": "display_data"
    },
    {
     "data": {
      "text/html": [
       "<table class=\"dataframe\">\n",
       "<caption>A data.frame: 2 × 4</caption>\n",
       "<thead>\n",
       "\t<tr><th></th><th scope=col>name</th><th scope=col>age</th><th scope=col>weight</th><th scope=col>species</th></tr>\n",
       "\t<tr><th></th><th scope=col>&lt;chr&gt;</th><th scope=col>&lt;int&gt;</th><th scope=col>&lt;int&gt;</th><th scope=col>&lt;chr&gt;</th></tr>\n",
       "</thead>\n",
       "<tbody>\n",
       "\t<tr><th scope=row>1</th><td>fluffy  </td><td>3</td><td>14</td><td>cat </td></tr>\n",
       "\t<tr><th scope=row>2</th><td>vesuvius</td><td>6</td><td>23</td><td>fish</td></tr>\n",
       "</tbody>\n",
       "</table>\n"
      ],
      "text/latex": [
       "A data.frame: 2 × 4\n",
       "\\begin{tabular}{r|llll}\n",
       "  & name & age & weight & species\\\\\n",
       "  & <chr> & <int> & <int> & <chr>\\\\\n",
       "\\hline\n",
       "\t1 & fluffy   & 3 & 14 & cat \\\\\n",
       "\t2 & vesuvius & 6 & 23 & fish\\\\\n",
       "\\end{tabular}\n"
      ],
      "text/markdown": [
       "\n",
       "A data.frame: 2 × 4\n",
       "\n",
       "| <!--/--> | name &lt;chr&gt; | age &lt;int&gt; | weight &lt;int&gt; | species &lt;chr&gt; |\n",
       "|---|---|---|---|---|\n",
       "| 1 | fluffy   | 3 | 14 | cat  |\n",
       "| 2 | vesuvius | 6 | 23 | fish |\n",
       "\n"
      ],
      "text/plain": [
       "  name     age weight species\n",
       "1 fluffy   3   14     cat    \n",
       "2 vesuvius 6   23     fish   "
      ]
     },
     "metadata": {},
     "output_type": "display_data"
    },
    {
     "data": {
      "text/html": [
       "<table class=\"dataframe\">\n",
       "<caption>A data.frame: 1 × 4</caption>\n",
       "<thead>\n",
       "\t<tr><th></th><th scope=col>name</th><th scope=col>age</th><th scope=col>weight</th><th scope=col>species</th></tr>\n",
       "\t<tr><th></th><th scope=col>&lt;chr&gt;</th><th scope=col>&lt;int&gt;</th><th scope=col>&lt;int&gt;</th><th scope=col>&lt;chr&gt;</th></tr>\n",
       "</thead>\n",
       "<tbody>\n",
       "\t<tr><th scope=row>3</th><td>rex</td><td>5</td><td>34</td><td>dog</td></tr>\n",
       "</tbody>\n",
       "</table>\n"
      ],
      "text/latex": [
       "A data.frame: 1 × 4\n",
       "\\begin{tabular}{r|llll}\n",
       "  & name & age & weight & species\\\\\n",
       "  & <chr> & <int> & <int> & <chr>\\\\\n",
       "\\hline\n",
       "\t3 & rex & 5 & 34 & dog\\\\\n",
       "\\end{tabular}\n"
      ],
      "text/markdown": [
       "\n",
       "A data.frame: 1 × 4\n",
       "\n",
       "| <!--/--> | name &lt;chr&gt; | age &lt;int&gt; | weight &lt;int&gt; | species &lt;chr&gt; |\n",
       "|---|---|---|---|---|\n",
       "| 3 | rex | 5 | 34 | dog |\n",
       "\n"
      ],
      "text/plain": [
       "  name age weight species\n",
       "3 rex  5   34     dog    "
      ]
     },
     "metadata": {},
     "output_type": "display_data"
    }
   ],
   "source": [
    "# \"pets.csv\" is a file on the internet\n",
    "# (but it could just as easily be a file on your own computer)\n",
    "# install.packages(\"RCurl\")\n",
    "require(RCurl)\n",
    "pets <- read.csv(textConnection(getURL(\"https://learnxinyminutes.com/docs/pets.csv\")))\n",
    "pets\n",
    "head(pets, 2) # first two rows\n",
    "tail(pets, 1) # last row"
   ]
  },
  {
   "cell_type": "code",
   "execution_count": 47,
   "id": "025b4633",
   "metadata": {},
   "outputs": [],
   "source": [
    "# To save a data frame or matrix as a .csv file\n",
    "write.csv(pets, \"pets2.csv\") # to make a new .csv file\n",
    "# set working directory with setwd(), look it up with getwd()"
   ]
  },
  {
   "cell_type": "markdown",
   "id": "f3ed2ba9",
   "metadata": {},
   "source": [
    "Try ?read.csv and ?write.csv for more information"
   ]
  },
  {
   "cell_type": "markdown",
   "id": "9118684a",
   "metadata": {},
   "source": [
    "# Statistical Analysis"
   ]
  },
  {
   "cell_type": "code",
   "execution_count": 48,
   "id": "1a205021",
   "metadata": {},
   "outputs": [
    {
     "data": {
      "text/plain": [
       "\n",
       "Call:\n",
       "lm(formula = price ~ time, data = list1)\n",
       "\n",
       "Coefficients:\n",
       "(Intercept)         time  \n",
       "    -1.4096       0.5174  \n"
      ]
     },
     "metadata": {},
     "output_type": "display_data"
    },
    {
     "data": {
      "text/plain": [
       "\n",
       "Call:\n",
       "lm(formula = price ~ time, data = list1)\n",
       "\n",
       "Residuals:\n",
       "     Min       1Q   Median       3Q      Max \n",
       "-12.4771  -1.7357   0.4421   2.1134   7.4422 \n",
       "\n",
       "Coefficients:\n",
       "            Estimate Std. Error t value Pr(>|t|)    \n",
       "(Intercept) -1.40965    1.31762  -1.070    0.291    \n",
       "time         0.51739    0.05601   9.238 2.95e-11 ***\n",
       "---\n",
       "Signif. codes:  0 ‘***’ 0.001 ‘**’ 0.01 ‘*’ 0.05 ‘.’ 0.1 ‘ ’ 1\n",
       "\n",
       "Residual standard error: 4.089 on 38 degrees of freedom\n",
       "Multiple R-squared:  0.6919,\tAdjusted R-squared:  0.6838 \n",
       "F-statistic: 85.34 on 1 and 38 DF,  p-value: 2.945e-11\n"
      ]
     },
     "metadata": {},
     "output_type": "display_data"
    },
    {
     "data": {
      "text/html": [
       "<style>\n",
       ".dl-inline {width: auto; margin:0; padding: 0}\n",
       ".dl-inline>dt, .dl-inline>dd {float: none; width: auto; display: inline-block}\n",
       ".dl-inline>dt::after {content: \":\\0020\"; padding-right: .5ex}\n",
       ".dl-inline>dt:not(:first-of-type) {padding-left: .5ex}\n",
       "</style><dl class=dl-inline><dt>(Intercept)</dt><dd>-1.40964896982862</dd><dt>time</dt><dd>0.517391033935811</dd></dl>\n"
      ],
      "text/latex": [
       "\\begin{description*}\n",
       "\\item[(Intercept)] -1.40964896982862\n",
       "\\item[time] 0.517391033935811\n",
       "\\end{description*}\n"
      ],
      "text/markdown": [
       "(Intercept)\n",
       ":   -1.40964896982862time\n",
       ":   0.517391033935811\n",
       "\n"
      ],
      "text/plain": [
       "(Intercept)        time \n",
       "  -1.409649    0.517391 "
      ]
     },
     "metadata": {},
     "output_type": "display_data"
    },
    {
     "data": {
      "text/html": [
       "<table class=\"dataframe\">\n",
       "<caption>A matrix: 2 × 4 of type dbl</caption>\n",
       "<thead>\n",
       "\t<tr><th></th><th scope=col>Estimate</th><th scope=col>Std. Error</th><th scope=col>t value</th><th scope=col>Pr(&gt;|t|)</th></tr>\n",
       "</thead>\n",
       "<tbody>\n",
       "\t<tr><th scope=row>(Intercept)</th><td>-1.409649</td><td>1.31762281</td><td>-1.069843</td><td>2.914389e-01</td></tr>\n",
       "\t<tr><th scope=row>time</th><td> 0.517391</td><td>0.05600571</td><td> 9.238184</td><td>2.945055e-11</td></tr>\n",
       "</tbody>\n",
       "</table>\n"
      ],
      "text/latex": [
       "A matrix: 2 × 4 of type dbl\n",
       "\\begin{tabular}{r|llll}\n",
       "  & Estimate & Std. Error & t value & Pr(>\\textbar{}t\\textbar{})\\\\\n",
       "\\hline\n",
       "\t(Intercept) & -1.409649 & 1.31762281 & -1.069843 & 2.914389e-01\\\\\n",
       "\ttime &  0.517391 & 0.05600571 &  9.238184 & 2.945055e-11\\\\\n",
       "\\end{tabular}\n"
      ],
      "text/markdown": [
       "\n",
       "A matrix: 2 × 4 of type dbl\n",
       "\n",
       "| <!--/--> | Estimate | Std. Error | t value | Pr(&gt;|t|) |\n",
       "|---|---|---|---|---|\n",
       "| (Intercept) | -1.409649 | 1.31762281 | -1.069843 | 2.914389e-01 |\n",
       "| time |  0.517391 | 0.05600571 |  9.238184 | 2.945055e-11 |\n",
       "\n"
      ],
      "text/plain": [
       "            Estimate  Std. Error t value   Pr(>|t|)    \n",
       "(Intercept) -1.409649 1.31762281 -1.069843 2.914389e-01\n",
       "time         0.517391 0.05600571  9.238184 2.945055e-11"
      ]
     },
     "metadata": {},
     "output_type": "display_data"
    },
    {
     "data": {
      "text/html": [
       "<style>\n",
       ".dl-inline {width: auto; margin:0; padding: 0}\n",
       ".dl-inline>dt, .dl-inline>dd {float: none; width: auto; display: inline-block}\n",
       ".dl-inline>dt::after {content: \":\\0020\"; padding-right: .5ex}\n",
       ".dl-inline>dt:not(:first-of-type) {padding-left: .5ex}\n",
       "</style><dl class=dl-inline><dt>(Intercept)</dt><dd>0.291438912268658</dd><dt>time</dt><dd>2.94505502241108e-11</dd></dl>\n"
      ],
      "text/latex": [
       "\\begin{description*}\n",
       "\\item[(Intercept)] 0.291438912268658\n",
       "\\item[time] 2.94505502241108e-11\n",
       "\\end{description*}\n"
      ],
      "text/markdown": [
       "(Intercept)\n",
       ":   0.291438912268658time\n",
       ":   2.94505502241108e-11\n",
       "\n"
      ],
      "text/plain": [
       " (Intercept)         time \n",
       "2.914389e-01 2.945055e-11 "
      ]
     },
     "metadata": {},
     "output_type": "display_data"
    }
   ],
   "source": [
    "# Linear regression!\n",
    "linearModel <- lm(price ~ time, data = list1)\n",
    "linearModel # outputs result of regression\n",
    "summary(linearModel) # more verbose output from the regression\n",
    "coef(linearModel) # extract estimated parameters\n",
    "summary(linearModel)$coefficients # another way to extract results\n",
    "summary(linearModel)$coefficients[, 4] # the p-values"
   ]
  },
  {
   "cell_type": "markdown",
   "id": "3ac2153c",
   "metadata": {},
   "source": [
    "## GENERAL LINEAR MODELS"
   ]
  },
  {
   "cell_type": "code",
   "execution_count": 49,
   "id": "f032c422",
   "metadata": {},
   "outputs": [
    {
     "data": {
      "text/plain": [
       "\n",
       "Call:  glm(formula = success ~ time, family = binomial(link = \"logit\"), \n",
       "    data = list1)\n",
       "\n",
       "Coefficients:\n",
       "(Intercept)         time  \n",
       "    0.17018     -0.01321  \n",
       "\n",
       "Degrees of Freedom: 39 Total (i.e. Null);  38 Residual\n",
       "Null Deviance:\t    55.35 \n",
       "Residual Deviance: 55.12 \tAIC: 59.12"
      ]
     },
     "metadata": {},
     "output_type": "display_data"
    },
    {
     "data": {
      "text/plain": [
       "\n",
       "Call:\n",
       "glm(formula = success ~ time, family = binomial(link = \"logit\"), \n",
       "    data = list1)\n",
       "\n",
       "Deviance Residuals: \n",
       "   Min      1Q  Median      3Q     Max  \n",
       "-1.245  -1.118  -1.035   1.202   1.327  \n",
       "\n",
       "Coefficients:\n",
       "            Estimate Std. Error z value Pr(>|z|)\n",
       "(Intercept)  0.17018    0.64621   0.263    0.792\n",
       "time        -0.01321    0.02757  -0.479    0.632\n",
       "\n",
       "(Dispersion parameter for binomial family taken to be 1)\n",
       "\n",
       "    Null deviance: 55.352  on 39  degrees of freedom\n",
       "Residual deviance: 55.121  on 38  degrees of freedom\n",
       "AIC: 59.121\n",
       "\n",
       "Number of Fisher Scoring iterations: 3\n"
      ]
     },
     "metadata": {},
     "output_type": "display_data"
    }
   ],
   "source": [
    "# Logistic regression\n",
    "set.seed(1)\n",
    "list1$success <- rbinom(length(list1$time), 1, .5) # random binary\n",
    "glModel <- glm(success ~ time,\n",
    "  data = list1,\n",
    "  family = binomial(link = \"logit\")\n",
    ")\n",
    "glModel # outputs result of logistic regression\n",
    "summary(glModel) # more verbose output from the regression"
   ]
  },
  {
   "cell_type": "markdown",
   "id": "cd1e5801",
   "metadata": {},
   "source": [
    "# Plots"
   ]
  },
  {
   "cell_type": "markdown",
   "id": "3d7b3602",
   "metadata": {},
   "source": [
    "## BUILT-IN PLOTTING FUNCTIONS"
   ]
  },
  {
   "cell_type": "code",
   "execution_count": 50,
   "id": "d9790689",
   "metadata": {},
   "outputs": [
    {
     "data": {
      "image/png": "[encoded data removed]",
      "text/plain": [
       "Plot with title “fake data”"
      ]
     },
     "metadata": {
      "image/png": {
       "height": 420,
       "width": 420
      }
     },
     "output_type": "display_data"
    }
   ],
   "source": [
    "# Scatterplots!\n",
    "plot(list1$time, list1$price, main = \"fake data\")\n",
    "# Plot regression line on existing plot\n",
    "abline(linearModel, col = \"red\")"
   ]
  },
  {
   "cell_type": "code",
   "execution_count": 51,
   "id": "898d3528",
   "metadata": {},
   "outputs": [
    {
     "data": {
      "image/png": "[encoded data removed]",
      "text/plain": [
       "Plot with title “”"
      ]
     },
     "metadata": {
      "image/png": {
       "height": 420,
       "width": 420
      }
     },
     "output_type": "display_data"
    },
    {
     "data": {
      "image/png": "[encoded data removed]",
      "text/plain": [
       "Plot with title “”"
      ]
     },
     "metadata": {
      "image/png": {
       "height": 420,
       "width": 420
      }
     },
     "output_type": "display_data"
    },
    {
     "data": {
      "image/png": "[encoded data removed]",
      "text/plain": [
       "Plot with title “”"
      ]
     },
     "metadata": {
      "image/png": {
       "height": 420,
       "width": 420
      }
     },
     "output_type": "display_data"
    },
    {
     "data": {
      "image/png": "[encoded data removed]",
      "text/plain": [
       "Plot with title “”"
      ]
     },
     "metadata": {
      "image/png": {
       "height": 420,
       "width": 420
      }
     },
     "output_type": "display_data"
    }
   ],
   "source": [
    "# Get a variety of nice diagnostics\n",
    "plot(linearModel)"
   ]
  },
  {
   "cell_type": "code",
   "execution_count": 52,
   "id": "31b16ce5",
   "metadata": {},
   "outputs": [
    {
     "data": {
      "image/png": "[encoded data removed]",
      "text/plain": [
       "Plot with title “Histogram of rpois(n = 10000, lambda = 5)”"
      ]
     },
     "metadata": {
      "image/png": {
       "height": 420,
       "width": 420
      }
     },
     "output_type": "display_data"
    }
   ],
   "source": [
    "# Histograms!\n",
    "hist(rpois(n = 10000, lambda = 5), col = \"thistle\")"
   ]
  },
  {
   "cell_type": "code",
   "execution_count": 53,
   "id": "6e677229",
   "metadata": {},
   "outputs": [
    {
     "data": {
      "image/png": "[encoded data removed]",
      "text/plain": [
       "plot without title"
      ]
     },
     "metadata": {
      "image/png": {
       "height": 420,
       "width": 420
      }
     },
     "output_type": "display_data"
    }
   ],
   "source": [
    "# Barplots!\n",
    "barplot(c(1, 4, 5, 1, 2), names.arg = c(\"red\", \"blue\", \"purple\", \"green\", \"yellow\"))"
   ]
  },
  {
   "cell_type": "code",
   "execution_count": 54,
   "id": "48e00b69",
   "metadata": {},
   "outputs": [
    {
     "name": "stderr",
     "output_type": "stream",
     "text": [
      "Loading required package: ggplot2\n",
      "\n"
     ]
    },
    {
     "data": {
      "image/png": "[encoded data removed]",
      "text/plain": [
       "plot without title"
      ]
     },
     "metadata": {
      "image/png": {
       "height": 420,
       "width": 420
      }
     },
     "output_type": "display_data"
    }
   ],
   "source": [
    "# GGPLOT2\n",
    "# But these are not even the prettiest of R's plots\n",
    "# Try the ggplot2 package for more and better graphics\n",
    "# install.packages(\"ggplot2\")\n",
    "require(ggplot2)\n",
    "# ?ggplot2\n",
    "pp <- ggplot(students, aes(x = house))\n",
    "pp + geom_bar()"
   ]
  },
  {
   "cell_type": "code",
   "execution_count": 55,
   "id": "828c1c55",
   "metadata": {},
   "outputs": [
    {
     "data": {
      "image/png": "[encoded data removed]",
      "text/plain": [
       "plot without title"
      ]
     },
     "metadata": {
      "image/png": {
       "height": 420,
       "width": 420
      }
     },
     "output_type": "display_data"
    }
   ],
   "source": [
    "ll <- as.data.table(list1)\n",
    "pp <- ggplot(ll, aes(x = time, price))\n",
    "pp + geom_point()\n",
    "# ggplot2 has excellent documentation (available http://docs.ggplot2.org/current/)"
   ]
  }
 ],
 "metadata": {
  "jupytext": {
   "cell_metadata_filter": "-all",
   "encoding": "# -*- coding: utf-8 -*-",
   "main_language": "R",
   "notebook_metadata_filter": "-all"
  },
  "kernelspec": {
   "display_name": "R",
   "language": "R",
   "name": "ir"
  },
  "language_info": {
   "codemirror_mode": "r",
   "file_extension": ".r",
   "mimetype": "text/x-r-source",
   "name": "R",
   "pygments_lexer": "r",
   "version": "4.1.2"
  }
 },
 "nbformat": 4,
 "nbformat_minor": 5
}
